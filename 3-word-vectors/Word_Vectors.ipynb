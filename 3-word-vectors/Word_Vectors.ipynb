{
  "nbformat": 4,
  "nbformat_minor": 0,
  "metadata": {
    "colab": {
      "provenance": []
    },
    "kernelspec": {
      "name": "python3",
      "display_name": "Python 3"
    },
    "language_info": {
      "name": "python"
    }
  },
  "cells": [
    {
      "cell_type": "markdown",
      "source": [
        "# Word2vec - Word Embeddings"
      ],
      "metadata": {
        "id": "NEy_EiGwcu_f"
      }
    },
    {
      "cell_type": "code",
      "source": [
        "!pip install adjustText --quiet"
      ],
      "metadata": {
        "colab": {
          "base_uri": "https://localhost:8080/"
        },
        "id": "sYEeA3s6dLN5",
        "outputId": "91dbf5a3-b326-47c3-a01b-3ee057f363ac"
      },
      "execution_count": 2,
      "outputs": [
        {
          "output_type": "stream",
          "name": "stdout",
          "text": [
            "  Building wheel for adjustText (setup.py) ... \u001b[?25l\u001b[?25hdone\n"
          ]
        }
      ]
    },
    {
      "cell_type": "code",
      "execution_count": 3,
      "metadata": {
        "id": "KVeoQspVcnG7"
      },
      "outputs": [],
      "source": [
        "import zipfile\n",
        "import re\n",
        "import numpy as np\n",
        "import pandas as pd\n",
        "import os\n",
        "import random\n",
        "import tensorflow as tf\n",
        "import matplotlib.pyplot as plt\n",
        "from six.moves.urllib.request import urlretrieve\n",
        "from sklearn.manifold import TSNE\n",
        "from adjustText import adjust_text"
      ]
    },
    {
      "cell_type": "markdown",
      "source": [
        "## **Understanding the data**\n",
        "## Downloading the data"
      ],
      "metadata": {
        "id": "ucCkWo4ceNMa"
      }
    },
    {
      "cell_type": "code",
      "source": [
        "url = 'http://mlg.ucd.ie/files/datasets/bbc-fulltext.zip'\n",
        "\n",
        "def download_data(url, data_dir):\n",
        "  \"\"\"Download a file if not present, and make sure it's the right size.\"\"\"\n",
        "\n",
        "  os.makedirs(data_dir, exist_ok=True)\n",
        "\n",
        "  file_path = os.path.join(data_dir, 'bbc-fulltext.zip')\n",
        "\n",
        "  if not os.path.exists(file_path):\n",
        "    print('Downloading file...')\n",
        "    filename, _ = urlretrieve(url, file_path)\n",
        "  else:\n",
        "    print(\"File already exists\")\n",
        "\n",
        "  extract_path = os.path.join(data_dir, 'bbc')\n",
        "\n",
        "  if not os.path.exists(extract_path):\n",
        "    with zipfile.ZipFile(os.path.join(data_dir, 'bbc-fulltext.zip'), 'r') as zipf:\n",
        "      zipf.extractall(data_dir)\n",
        "  else:\n",
        "    print(\"bbc-fulltext.zip has already been extracted\")\n",
        "\n",
        "\n",
        "download_data(url, 'data')"
      ],
      "metadata": {
        "colab": {
          "base_uri": "https://localhost:8080/"
        },
        "id": "vuImF5Mhc7A6",
        "outputId": "3b692acc-0aa2-4a33-fb74-3a519ca2e1d5"
      },
      "execution_count": 4,
      "outputs": [
        {
          "output_type": "stream",
          "name": "stdout",
          "text": [
            "Downloading file...\n"
          ]
        }
      ]
    },
    {
      "cell_type": "markdown",
      "source": [
        "## Read Data without Preprocessing\n",
        "\n",
        "Reads data as it is to a string and tokenize it using spaces and returns a list of words\n"
      ],
      "metadata": {
        "id": "7Kxvb7_iiO5-"
      }
    },
    {
      "cell_type": "code",
      "source": [
        "def read_data(data_dir):\n",
        "    \n",
        "    # This will contain the full list of stories\n",
        "    news_stories = []\n",
        "    \n",
        "    print(\"Reading files\")\n",
        "    \n",
        "    i = 0 # Just used for printing progress\n",
        "    for root, dirs, files in os.walk(data_dir):\n",
        "        \n",
        "        for fi, f in enumerate(files):\n",
        "            \n",
        "            # We don't read the readme file\n",
        "            if 'README' in f:\n",
        "                continue\n",
        "            \n",
        "            # Printing progress\n",
        "            i += 1\n",
        "            print(\".\"*i, f, end='\\r')\n",
        "            \n",
        "            # Open the file\n",
        "            with open(os.path.join(root, f), encoding='latin-1') as f:\n",
        "                \n",
        "                story = []\n",
        "                # Read all the lines\n",
        "                for row in f:\n",
        "                                        \n",
        "                    story.append(row.strip())\n",
        "                    \n",
        "                # Create a single string with all the rows in the doc\n",
        "                story = ' '.join(story)                        \n",
        "                # Add that to the list\n",
        "                news_stories.append(story)  \n",
        "                \n",
        "        print('', end='\\r')\n",
        "        \n",
        "    print(f\"\\nDetected {len(news_stories)} stories\")\n",
        "    return news_stories\n",
        "                \n",
        "  \n",
        "news_stories = read_data(os.path.join('data', 'bbc'))\n",
        "\n",
        "# Printing some stats and sample data\n",
        "print(f\"{sum([len(story.split(' ')) for story in news_stories])} words found in the total news set\")\n",
        "print('Example words (start): ',news_stories[0][:50])\n",
        "print('Example words (end): ',news_stories[-1][-50:])"
      ],
      "metadata": {
        "colab": {
          "base_uri": "https://localhost:8080/"
        },
        "id": "eZv80_jAiPkv",
        "outputId": "ce192adb-47f9-4efc-cc7b-84cb7128e00a"
      },
      "execution_count": 5,
      "outputs": [
        {
          "output_type": "stream",
          "name": "stdout",
          "text": [
            "Reading files\n",
            "................................................................................................................................................................................................................................................................................................................................................................................................................................................................................................................................................................................................................................................................................................................................................................................................................................................................................................................................................................................................................................................................................................................................................................................................................................................................................................................................................................................................................................................................................................................................................................................................................................................................................................................................................................................................................................................................................................................................................................................................................................................................................................................................................................................................................................................................................................................. 163.txt\n",
            "Detected 2225 stories\n",
            "865163 words found in the total news set\n",
            "Example words (start):  Real will finish abandoned match  Real Madrid and \n",
            "Example words (end):  nt\" and they cannot be copied for commercial gain.\n"
          ]
        }
      ]
    },
    {
      "cell_type": "markdown",
      "source": [
        "## **Build a Tokenizer**"
      ],
      "metadata": {
        "id": "C428587GjKe-"
      }
    },
    {
      "cell_type": "code",
      "source": [
        "from tensorflow.keras.preprocessing.text import Tokenizer\n",
        "\n",
        "tokenizer = Tokenizer(\n",
        "    num_words=None,\n",
        "    filters='!\"#$%&()*+,-./:;<=>?@[\\\\]^_`{|}~\\t\\n',\n",
        "    lower=True,\n",
        "    split=' ',\n",
        ")\n",
        "\n",
        "tokenizer.fit_on_texts(news_stories)\n",
        "print(\"Data fitted on the tokenizer\")"
      ],
      "metadata": {
        "colab": {
          "base_uri": "https://localhost:8080/"
        },
        "id": "wLuYmx6RiYGB",
        "outputId": "d1d87abb-f583-4d15-c87c-8c63d8a39fb7"
      },
      "execution_count": 6,
      "outputs": [
        {
          "output_type": "stream",
          "name": "stdout",
          "text": [
            "Data fitted on the tokenizer\n"
          ]
        }
      ]
    },
    {
      "cell_type": "markdown",
      "source": [
        "## Exploring the tokenizer"
      ],
      "metadata": {
        "id": "6GXMDjezmevu"
      }
    },
    {
      "cell_type": "code",
      "source": [
        "n_vocab = len(tokenizer.word_index.items()) + 1\n",
        "print(f\"Vocabulary size: {n_vocab}\")\n",
        "\n",
        "print(\"\\nWords at the top\")\n",
        "print('\\t', dict(list(tokenizer.word_index.items())[:10]))\n",
        "print(\"\\nWords at the bottom\")\n",
        "print('\\t', dict(list(tokenizer.word_index.items())[-10:]))"
      ],
      "metadata": {
        "colab": {
          "base_uri": "https://localhost:8080/"
        },
        "id": "6I0o0kEQkB25",
        "outputId": "fadfd9d0-d1da-4f91-91d5-f885db17a2e5"
      },
      "execution_count": 7,
      "outputs": [
        {
          "output_type": "stream",
          "name": "stdout",
          "text": [
            "Vocabulary size: 32360\n",
            "\n",
            "Words at the top\n",
            "\t {'the': 1, 'to': 2, 'of': 3, 'and': 4, 'a': 5, 'in': 6, 'for': 7, 'is': 8, 'that': 9, 'on': 10}\n",
            "\n",
            "Words at the bottom\n",
            "\t {'shefrin': 32350, 'holly': 32351, 'frankin': 32352, 'bloopers': 32353, \"tabloids'\": 32354, 'scrapbook': 32355, 'souvenir': 32356, 'stepdaughter': 32357, 'ass': 32358, 'saver': 32359}\n"
          ]
        }
      ]
    },
    {
      "cell_type": "markdown",
      "source": [
        "## Build a Tokenizer (Refined)\n",
        "\n",
        "Here, we will restrict the vocabulary to 15000 and eleminate words except the first most common 15000 words\n"
      ],
      "metadata": {
        "id": "zhzaGOU7nud5"
      }
    },
    {
      "cell_type": "code",
      "source": [
        "from tensorflow.keras.preprocessing.text import Tokenizer\n",
        "\n",
        "\n",
        "n_vocab = 15000 + 1\n",
        "tokenizer = Tokenizer(\n",
        "    num_words=n_vocab-1,\n",
        "    lower=True,\n",
        "    split=' ',\n",
        "    oov_token=''\n",
        ")\n",
        "\n",
        "tokenizer.fit_on_texts(news_stories)\n",
        "print(\"Data fitted on the tokenizer\")"
      ],
      "metadata": {
        "colab": {
          "base_uri": "https://localhost:8080/"
        },
        "id": "ua0OPWZQnCyy",
        "outputId": "5c455861-2b9d-4113-b1e4-0a420cc60733"
      },
      "execution_count": 11,
      "outputs": [
        {
          "output_type": "stream",
          "name": "stdout",
          "text": [
            "Data fitted on the tokenizer\n"
          ]
        }
      ]
    },
    {
      "cell_type": "markdown",
      "source": [
        "## Checking the results of the tokenizer"
      ],
      "metadata": {
        "id": "N4m8zZ7ypt_U"
      }
    },
    {
      "cell_type": "code",
      "source": [
        "print(f\"Original: {news_stories[0][:100]}\")\n",
        "print(f\"Sequence IDs: {tokenizer.texts_to_sequences([news_stories[0][:100]])[0]}\")"
      ],
      "metadata": {
        "colab": {
          "base_uri": "https://localhost:8080/"
        },
        "id": "ATQVrRsXpuzB",
        "outputId": "71cf4795-b650-44ca-fc38-24d87acf58f7"
      },
      "execution_count": 12,
      "outputs": [
        {
          "output_type": "stream",
          "name": "stdout",
          "text": [
            "Original: Real will finish abandoned match  Real Madrid and Real Socieded will play the final six minutes of t\n",
            "Sequence IDs: [286, 23, 1881, 4501, 328, 286, 1076, 5, 286, 1, 23, 153, 2, 253, 191, 495, 4, 1360]\n"
          ]
        }
      ]
    },
    {
      "cell_type": "markdown",
      "source": [
        "**Converting all articles to word ID sequences**"
      ],
      "metadata": {
        "id": "ClBK_N0bqfAc"
      }
    },
    {
      "cell_type": "code",
      "source": [
        "news_sequences = tokenizer.texts_to_sequences(news_stories)"
      ],
      "metadata": {
        "id": "bqV5PZ2Pp78_"
      },
      "execution_count": 13,
      "outputs": []
    },
    {
      "cell_type": "markdown",
      "source": [
        "## **Generating skip-grams from the corpus**\n",
        "\n",
        "In TensorFlow you have the convenient `tf.keras.preprocessing.sequence.skipgrams()` function to generate skipgrams.\n"
      ],
      "metadata": {
        "id": "hEDZmb2PuCOP"
      }
    },
    {
      "cell_type": "code",
      "source": [
        "news_sequences[0][:5]"
      ],
      "metadata": {
        "colab": {
          "base_uri": "https://localhost:8080/"
        },
        "id": "UqbRiNQnqkXe",
        "outputId": "9469d870-7ed6-44b8-cda8-939fbe65711c"
      },
      "execution_count": 17,
      "outputs": [
        {
          "output_type": "execute_result",
          "data": {
            "text/plain": [
              "[286, 23, 1881, 4501, 328]"
            ]
          },
          "metadata": {},
          "execution_count": 17
        }
      ]
    },
    {
      "cell_type": "code",
      "source": [
        "sample_word_ids = news_sequences[0][:5]\n",
        "sample_phrase = ' '.join([tokenizer.index_word[wid] for wid in sample_word_ids])\n",
        "print(f\"Sample phrase: {sample_phrase}\")\n",
        "print(f\"Sample word IDs: {sample_word_ids}\\n\")\n",
        "\n",
        "window_size = 1 # How many words to consider left and right.\n",
        "\n",
        "inputs, labels = tf.keras.preprocessing.sequence.skipgrams(\n",
        "    sample_word_ids, \n",
        "    vocabulary_size=n_vocab, \n",
        "    window_size=window_size, negative_samples=1.0, shuffle=False,\n",
        "    categorical=False, sampling_table=None, seed=None\n",
        ")\n",
        "\n",
        "\n",
        "print(\"Sample skip-grams\")\n",
        "\n",
        "for inp, lbl in zip(inputs, labels):\n",
        "    print(f\"\\tInput: {inp} ({[tokenizer.index_word[wi] for wi in inp]}) / Label: {lbl}\")"
      ],
      "metadata": {
        "colab": {
          "base_uri": "https://localhost:8080/"
        },
        "id": "F9BAUE6dvP53",
        "outputId": "d7202e8c-f412-4827-9ebe-602cda7c2d49"
      },
      "execution_count": 18,
      "outputs": [
        {
          "output_type": "stream",
          "name": "stdout",
          "text": [
            "Sample phrase: real will finish abandoned match\n",
            "Sample word IDs: [286, 23, 1881, 4501, 328]\n",
            "\n",
            "Sample skip-grams\n",
            "\tInput: [286, 23] (['real', 'will']) / Label: 1\n",
            "\tInput: [23, 286] (['will', 'real']) / Label: 1\n",
            "\tInput: [23, 1881] (['will', 'finish']) / Label: 1\n",
            "\tInput: [1881, 23] (['finish', 'will']) / Label: 1\n",
            "\tInput: [1881, 4501] (['finish', 'abandoned']) / Label: 1\n",
            "\tInput: [4501, 1881] (['abandoned', 'finish']) / Label: 1\n",
            "\tInput: [4501, 328] (['abandoned', 'match']) / Label: 1\n",
            "\tInput: [328, 4501] (['match', 'abandoned']) / Label: 1\n",
            "\tInput: [4501, 13729] (['abandoned', \"cameroon's\"]) / Label: 0\n",
            "\tInput: [1881, 5840] (['finish', 'housewives']) / Label: 0\n",
            "\tInput: [23, 7357] (['will', 'advances']) / Label: 0\n",
            "\tInput: [1881, 13328] (['finish', 'barnes']) / Label: 0\n",
            "\tInput: [328, 6533] (['match', 'betamax']) / Label: 0\n",
            "\tInput: [286, 6115] (['real', 'sells']) / Label: 0\n",
            "\tInput: [4501, 9146] (['abandoned', 'ginepri']) / Label: 0\n",
            "\tInput: [23, 11943] (['will', 'discovering']) / Label: 0\n"
          ]
        }
      ]
    },
    {
      "cell_type": "markdown",
      "source": [
        "\n",
        "## Generating negative candidates\n",
        "\n",
        "Word2vec algorithms rely on negative candidates to understand words that do not appear in the context of a given target word.\n"
      ],
      "metadata": {
        "id": "aWGjunZWyI3q"
      }
    },
    {
      "cell_type": "code",
      "source": [
        "inputs, labels = tf.keras.preprocessing.sequence.skipgrams(\n",
        "    sample_word_ids, \n",
        "    vocabulary_size=len(tokenizer.word_index.items())+1, \n",
        "    window_size=window_size, negative_samples=0, shuffle=False,    \n",
        ")\n",
        "\n",
        "inputs, labels = np.array(inputs), np.array(labels)\n",
        "\n",
        "negative_sampling_candidates, true_expected_count, sampled_expected_count = tf.random.log_uniform_candidate_sampler(\n",
        "    # A true context word that appears in the context of the target\n",
        "    true_classes=inputs[:1,1:], # [b, 1] sized tensor\n",
        "    num_true=1, # number of true words per example\n",
        "    num_sampled=10,\n",
        "    unique=True,\n",
        "    range_max=n_vocab,            \n",
        "    name=\"negative_sampling\"\n",
        ")\n",
        "\n",
        "print(f\"Positive sample: {inputs[:1,1:]}\")\n",
        "print(f\"Negative samples: {negative_sampling_candidates}\")\n",
        "print(f\"true_expected_count: {true_expected_count}\")\n",
        "print(f\"sampled_expected_count: {sampled_expected_count}\")"
      ],
      "metadata": {
        "colab": {
          "base_uri": "https://localhost:8080/"
        },
        "id": "BVittDQMv6SB",
        "outputId": "afc2520f-85fc-4684-ffad-eecf531d9385"
      },
      "execution_count": 19,
      "outputs": [
        {
          "output_type": "stream",
          "name": "stdout",
          "text": [
            "Positive sample: [[23]]\n",
            "Negative samples: [  44  832  819  226    1   32    9 2025   23    0]\n",
            "true_expected_count: [[0.04571897]]\n",
            "sampled_expected_count: [0.02485704 0.00137159 0.00139331 0.00501681 0.37742305 0.03362463\n",
            " 0.1037828  0.00056434 0.04571897 0.5608634 ]\n"
          ]
        }
      ]
    },
    {
      "cell_type": "markdown",
      "source": [
        "**`Using tf.nn.sampled_softmax_loss()`**"
      ],
      "metadata": {
        "id": "wC-S8g7fzzHL"
      }
    },
    {
      "cell_type": "code",
      "source": [
        "sampling_table = tf.keras.preprocessing.sequence.make_sampling_table(n_vocab, sampling_factor=1e-05)\n",
        "\n",
        "print(sampling_table)"
      ],
      "metadata": {
        "colab": {
          "base_uri": "https://localhost:8080/"
        },
        "id": "RaQMC9bPy39v",
        "outputId": "145b3ebb-c2b4-492e-9e78-02f95b192551"
      },
      "execution_count": 20,
      "outputs": [
        {
          "output_type": "stream",
          "name": "stdout",
          "text": [
            "[0.00315225 0.00315225 0.00547597 ... 1.         1.         1.        ]\n"
          ]
        }
      ]
    },
    {
      "cell_type": "markdown",
      "source": [
        "## Generating data (positive + negative candidates)"
      ],
      "metadata": {
        "id": "AEIB9azG0BMH"
      }
    },
    {
      "cell_type": "code",
      "source": [
        "def skip_gram_data_generator(sequences, window_size, batch_size, negative_samples, vocab_size, seed=None):\n",
        "    \n",
        "    rand_sequence_ids = np.arange(len(sequences))                    \n",
        "    np.random.shuffle(rand_sequence_ids)\n",
        "\n",
        "\n",
        "    for si in rand_sequence_ids:\n",
        "        \n",
        "        positive_skip_grams, _ = tf.keras.preprocessing.sequence.skipgrams(\n",
        "            sequences[si], \n",
        "            vocabulary_size=vocab_size, \n",
        "            window_size=window_size, \n",
        "            negative_samples=0.0, \n",
        "            shuffle=False,\n",
        "            sampling_table=sampling_table,\n",
        "            seed=seed\n",
        "        )\n",
        "        \n",
        "        targets, contexts, labels = [], [], []\n",
        "        \n",
        "        for target_word, context_word in positive_skip_grams:\n",
        "            context_class = tf.expand_dims(tf.constant([context_word], dtype=\"int64\"), 1)\n",
        "            \n",
        "            negative_sampling_candidates, _, _ = tf.random.log_uniform_candidate_sampler(\n",
        "              true_classes=context_class,\n",
        "              num_true=1,\n",
        "              num_sampled=negative_samples,\n",
        "              unique=True,\n",
        "              range_max=vocab_size,              \n",
        "              name=\"negative_sampling\")\n",
        "\n",
        "            # Build context and label vectors (for one target word)\n",
        "            context = tf.concat(\n",
        "                [tf.constant([context_word], dtype='int64'), negative_sampling_candidates],\n",
        "                axis=0\n",
        "            )\n",
        "            \n",
        "            label = tf.constant([1] + [0]*negative_samples, dtype=\"int64\")\n",
        "\n",
        "            # Append each element from the training example to global lists.\n",
        "            targets.extend([target_word]*(negative_samples+1))\n",
        "            contexts.append(context)\n",
        "            labels.append(label)\n",
        "\n",
        "        contexts, targets, labels = np.concatenate(contexts), np.array(targets), np.concatenate(labels)\n",
        "        \n",
        "        assert contexts.shape[0] == targets.shape[0]\n",
        "        assert contexts.shape[0] == labels.shape[0]\n",
        "        \n",
        "        # If seed is not provided generate a random one\n",
        "        if not seed:\n",
        "            seed = random.randint(0, 10e6)\n",
        "            \n",
        "        np.random.seed(seed)\n",
        "        np.random.shuffle(contexts)\n",
        "        np.random.seed(seed)\n",
        "        np.random.shuffle(targets)\n",
        "        np.random.seed(seed)\n",
        "        np.random.shuffle(labels)\n",
        "        \n",
        "    \n",
        "        for eg_id_start in range(0, contexts.shape[0], batch_size):            \n",
        "            yield (\n",
        "                targets[eg_id_start: min(eg_id_start+batch_size, targets.shape[0])], \n",
        "                contexts[eg_id_start: min(eg_id_start+batch_size, contexts.shape[0])]\n",
        "            ), labels[eg_id_start: min(eg_id_start+batch_size, labels.shape[0])]\n",
        "\n",
        "\n",
        "news_skip_gram_gen = skip_gram_data_generator(\n",
        "    news_sequences, 4, 10, 5, n_vocab\n",
        ")\n",
        "\n",
        "for btc, bl in news_skip_gram_gen:\n",
        "    \n",
        "    print(btc)\n",
        "    print(bl)\n",
        "    \n",
        "    break"
      ],
      "metadata": {
        "colab": {
          "base_uri": "https://localhost:8080/"
        },
        "id": "2Oa_5hqbz6fv",
        "outputId": "c098c306-4a2a-467e-eb27-76cb15697cc1"
      },
      "execution_count": 21,
      "outputs": [
        {
          "output_type": "stream",
          "name": "stdout",
          "text": [
            "(array([12058, 12058,    54,    54,   242,  3124,  4353,  3272,  1839,\n",
            "         249]), array([   1,  130,  188,  461, 1046,   42,   69,    0,  313, 1522]))\n",
            "[0 0 0 1 0 0 0 0 0 0]\n"
          ]
        }
      ]
    },
    {
      "cell_type": "markdown",
      "source": [
        "\n",
        "# Skip-Gram Algorithm\n",
        "## Defining Hyperparameters\n",
        "\n",
        "Here we define several hyperparameters including `batch_size` (amount of samples in a single batch) `embedding_size` (size of embedding vectors) `window_size` (context window size).\n"
      ],
      "metadata": {
        "id": "tdcAZ4Wi2GIz"
      }
    },
    {
      "cell_type": "code",
      "source": [
        "batch_size = 4096 # Data points in a single batch\n",
        "\n",
        "embedding_size = 128 # Dimension of the embedding vector.\n",
        "\n",
        "window_size=1 # We use a window size of n on either side of target word\n",
        "negative_samples = 4 # Number of negative samples generated per example\n",
        "\n",
        "epochs = 5 # Number of epochs to train for\n",
        "\n",
        "# We pick a random validation set to sample nearest neighbors\n",
        "valid_size = 16 # Random set of words to evaluate similarity on.\n",
        "# We sample valid datapoints randomly from a large window without always being deterministic\n",
        "valid_window = 250\n",
        "\n",
        "# When selecting valid examples, we select some of the most frequent words as well as\n",
        "# some moderately rare words as well\n",
        "np.random.seed(54321)\n",
        "random.seed(54321)\n",
        "\n",
        "valid_term_ids = np.array(random.sample(range(valid_window), valid_size))\n",
        "valid_term_ids = np.append(\n",
        "    valid_term_ids, random.sample(range(1000, 1000+valid_window), valid_size),\n",
        "    axis=0\n",
        ")"
      ],
      "metadata": {
        "id": "mRpW7Ox10ImR"
      },
      "execution_count": 22,
      "outputs": []
    },
    {
      "cell_type": "markdown",
      "source": [
        "# Defining the Model\n",
        "\n",
        "Here we will define the skip-gram model. It contains two embedding layers; context and target embeddings. The final output is computed as the dot product between the corresponding lookups from the context and target embeddings for a given batch of context and target words.\n",
        "\n",
        "\n",
        "![03_07.png](data:image/png;base64,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)"
      ],
      "metadata": {
        "id": "DclKGU-J2mG9"
      }
    },
    {
      "cell_type": "code",
      "source": [
        "import tensorflow.keras.backend as K\n",
        "\n",
        "K.clear_session()\n",
        "\n",
        "# Inputs - skipgrams() function outputs target, context in that order\n",
        "# we will use the same order\n",
        "input_1 = tf.keras.layers.Input(shape=(), name='target')\n",
        "input_2 = tf.keras.layers.Input(shape=(), name='context')\n",
        "\n",
        "# Two embeddings layers are used one for the context and one for the target\n",
        "context_embedding_layer = tf.keras.layers.Embedding(\n",
        "    input_dim=n_vocab, output_dim=embedding_size, name='context_embedding'\n",
        ")\n",
        "target_embedding_layer = tf.keras.layers.Embedding(\n",
        "    input_dim=n_vocab, output_dim=embedding_size, name='target_embedding'\n",
        ")\n",
        "\n",
        "# Lookup outputs of the embedding layers\n",
        "target_out = target_embedding_layer(input_1)\n",
        "context_out = context_embedding_layer(input_2)\n",
        "\n",
        "# Computing the dot product between the two \n",
        "out = tf.keras.layers.Dot(axes=-1)([context_out, target_out])\n",
        "\n",
        "# Defining the model\n",
        "skip_gram_model = tf.keras.models.Model(inputs=[input_1, input_2], outputs=out, name='skip_gram_model')\n",
        "\n",
        "# Compiling the model\n",
        "skip_gram_model.compile(\n",
        "    loss=tf.keras.losses.BinaryCrossentropy(from_logits=True), \n",
        "    optimizer='adam'\n",
        ")\n",
        "\n",
        "skip_gram_model.summary()"
      ],
      "metadata": {
        "colab": {
          "base_uri": "https://localhost:8080/"
        },
        "id": "8pxm527h2WQG",
        "outputId": "c08eb96e-99e0-471d-af37-2ea2bef6c272"
      },
      "execution_count": 23,
      "outputs": [
        {
          "output_type": "stream",
          "name": "stdout",
          "text": [
            "Model: \"skip_gram_model\"\n",
            "__________________________________________________________________________________________________\n",
            " Layer (type)                   Output Shape         Param #     Connected to                     \n",
            "==================================================================================================\n",
            " context (InputLayer)           [(None,)]            0           []                               \n",
            "                                                                                                  \n",
            " target (InputLayer)            [(None,)]            0           []                               \n",
            "                                                                                                  \n",
            " context_embedding (Embedding)  (None, 128)          1920128     ['context[0][0]']                \n",
            "                                                                                                  \n",
            " target_embedding (Embedding)   (None, 128)          1920128     ['target[0][0]']                 \n",
            "                                                                                                  \n",
            " dot (Dot)                      (None, 1)            0           ['context_embedding[0][0]',      \n",
            "                                                                  'target_embedding[0][0]']       \n",
            "                                                                                                  \n",
            "==================================================================================================\n",
            "Total params: 3,840,256\n",
            "Trainable params: 3,840,256\n",
            "Non-trainable params: 0\n",
            "__________________________________________________________________________________________________\n"
          ]
        }
      ]
    },
    {
      "cell_type": "markdown",
      "source": [
        "\n",
        "## Calculating Word Similarities\n",
        "\n",
        "We calculate the similarity between two given words in terms of the cosine distance. To do this efficiently we use matrix operations to do so, as shown below. Furthermore, we define the computations as a callback, which will automatically run at the end of an epoch during model training.\n"
      ],
      "metadata": {
        "id": "kynoT-6Z7Gt5"
      }
    },
    {
      "cell_type": "code",
      "source": [
        "class ValidationCallback(tf.keras.callbacks.Callback):\n",
        "    \n",
        "    def __init__(self, valid_term_ids, model_with_embeddings, tokenizer):\n",
        "        \n",
        "        self.valid_term_ids = valid_term_ids\n",
        "        self.model_with_embeddings = model_with_embeddings\n",
        "        self.tokenizer = tokenizer\n",
        "        \n",
        "        super().__init__()\n",
        "        \n",
        "    def on_epoch_end(self, epoch, logs=None):\n",
        "        \"\"\" Validation logic \"\"\"\n",
        "                \n",
        "        # We will use context embeddings to get the most similar words\n",
        "        # Other strategies include: using target embeddings, mean embeddings after avaraging context/target\n",
        "        embedding_weights = self.model_with_embeddings.get_layer(\"context_embedding\").get_weights()[0]\n",
        "        normalized_embeddings = embedding_weights / np.sqrt(np.sum(embedding_weights**2, axis=1, keepdims=True))\n",
        "        \n",
        "        # Get the embeddings corresponding to valid_term_ids\n",
        "        valid_embeddings = normalized_embeddings[self.valid_term_ids, :]\n",
        "        \n",
        "        # Compute the similarity between valid_term_ids and all the embeddings\n",
        "        # V x d (d x D) => V x D\n",
        "        top_k = 5 # Top k items will be displayed\n",
        "        similarity = np.dot(valid_embeddings, normalized_embeddings.T)\n",
        "        \n",
        "        # Invert similarity matrix to negative\n",
        "        # Ignore the first one because that would be the same word as the probe word\n",
        "        similarity_top_k = np.argsort(-similarity, axis=1)[:, 1: top_k+1]\n",
        "                \n",
        "        # Print the output\n",
        "        for i, term_id in enumerate(valid_term_ids):\n",
        "            \n",
        "            similar_word_str = ', '.join([self.tokenizer.index_word[j] for j in similarity_top_k[i, :] if j >= 1])\n",
        "            print(f\"{self.tokenizer.index_word[term_id]}: {similar_word_str}\")\n",
        "        \n",
        "        print('\\n')"
      ],
      "metadata": {
        "id": "VX72RClM4_90"
      },
      "execution_count": 24,
      "outputs": []
    },
    {
      "cell_type": "markdown",
      "source": [
        "### Running the Skip-Gram Algorithm"
      ],
      "metadata": {
        "id": "KWa3iOdr7Sku"
      }
    },
    {
      "cell_type": "code",
      "source": [
        "skipgram_validation_callback = ValidationCallback(valid_term_ids, skip_gram_model, tokenizer)\n",
        "\n",
        "for ei in range(epochs):\n",
        "    \n",
        "    print(f\"Epoch: {ei+1}/{epochs} started\")\n",
        "    \n",
        "    news_skip_gram_gen = skip_gram_data_generator(\n",
        "        news_sequences, window_size, batch_size, negative_samples, n_vocab\n",
        "    )\n",
        "    \n",
        "    skip_gram_model.fit(\n",
        "        news_skip_gram_gen, epochs=1, \n",
        "        callbacks=skipgram_validation_callback,        \n",
        "    )"
      ],
      "metadata": {
        "colab": {
          "base_uri": "https://localhost:8080/"
        },
        "id": "jeCjZhaq7NgN",
        "outputId": "efc112d6-2aeb-4929-9fca-8fc4d262fc87"
      },
      "execution_count": 25,
      "outputs": [
        {
          "output_type": "stream",
          "name": "stdout",
          "text": [
            "Epoch: 1/5 started\n",
            "   2233/Unknown - 163s 73ms/step - loss: 0.5734election: focus, 1999, move, government\n",
            "me: lot, how, government, move\n",
            "with: between, against, or, from, 14\n",
            "you: people, we, them, able, can\n",
            "were: do, think, connectors, important, thousands\n",
            "win: end, going, trying, way\n",
            "those: end, allowed, trying, amount\n",
            "music: way, allowed, trying, end\n",
            "also: never, really, taken, done, now\n",
            "international: grandchildren, seen, value, technological\n",
            "best: 2005, break, way, move\n",
            "him: trying, made, help, amount\n",
            "too: do, going, made, make\n",
            "some: keen, move, seen, way\n",
            "through: lack, save, reason, used\n",
            "mr: tony, michael, argued, seems, harm\n",
            "unit: club, due, relationship, come, bluetooth\n",
            "concern: issue, links, allow, way\n",
            "bush: decade, fagin, pin, hands, examined\n",
            "fear: made, do, need, appears\n",
            "reached: person, part, tools, generate, government\n",
            "risk: trying, end, way, course\n",
            "sound: called, move, technological, 2005\n",
            "previously: children, you, we, taken, 1983\n",
            "campbell: try, rome, distributed, forum\n",
            "premiership: struggled, 1983, got, chance, delivery\n",
            "programs: trying, able, lot, time\n",
            "leaders: pin, yourself, government, capella\n",
            "j: memorabilia, distributed, darling, played, mixture\n",
            "attempt: way, trying, get, past\n",
            "response: move, way, worried, beginning\n",
            "australia: trying, tools, way, thursday\n",
            "\n",
            "\n",
            "2233/2233 [==============================] - 163s 73ms/step - loss: 0.5734\n",
            "Epoch: 2/5 started\n",
            "   2233/Unknown - 158s 71ms/step - loss: 0.4598election: attorney, upcoming, inadequate, upgrading, neighbours\n",
            "me: him, tbwa, how, now, here\n",
            "with: between, over, or, against, until\n",
            "you: we, don't, they, didn't, people\n",
            "were: are, being, be, was, am\n",
            "win: helm, rushed, coincidence, deserves, americas\n",
            "those: entrants, iraqis, batteries, upright, imagination\n",
            "music: requires, cheaper, complacent, scares, packages\n",
            "also: really, never, already, now, been\n",
            "international: size, korean, foes, retirement, commercialised\n",
            "best: attitudes, sugar, lonely, heating, pretending\n",
            "him: me, help, desperately, scammers, now\n",
            "too: so, doing, make, wrong, quite\n",
            "some: fagin, precedent, assured, good, soon\n",
            "through: retain, regaining, reason, closer, academic\n",
            "mr: michael, tony, gordon, duncan, charles\n",
            "unit: bits, inner, inherently, postponed, carpenter\n",
            "concern: released, amount, revaluation, custody, monday\n",
            "bush: examined, simplest, pushing, refreshing, honoured\n",
            "fear: appears, crack, they'll, babinet, approached\n",
            "reached: whim, preferences, principle, logic, demonstrate\n",
            "risk: lodge, couple, complement, devise, commonplace\n",
            "sound: 2mbps, speeded, concept, boat, correction\n",
            "previously: always, never, probably, now, tories\n",
            "campbell: miller, ford, cue, imaging, suggested\n",
            "premiership: shine, televisions, fail, prerogative, jockey\n",
            "programs: priest, neat, remove, doubling, hook\n",
            "leaders: purushotma, businessman, fabulous, goodison, understandable\n",
            "j: hayes, s, n, capt, o'kelly\n",
            "attempt: translate, secc, yourself, doubling\n",
            "response: prejudice, homes, worried, halved, apologise\n",
            "australia: refined, overlooked, symbian, covers\n",
            "\n",
            "\n",
            "2233/2233 [==============================] - 159s 71ms/step - loss: 0.4598\n",
            "Epoch: 3/5 started\n",
            "   2233/Unknown - 166s 74ms/step - loss: 0.4207election: attorney, upcoming, november's, forthcoming, inadequate\n",
            "me: him, scammers, desperately, seriously, adequately\n",
            "with: visuals, between, over, murdered, length\n",
            "you: we, don't, they, didn't, couldn't\n",
            "were: are, be, being, been, am\n",
            "win: pinnacle, guess, helm, harley, superb\n",
            "those: children, instincts, scammers, disclosed, charming\n",
            "music: checks, stubbs, gadget, weddings, arrests\n",
            "also: already, never, recently, now, always\n",
            "international: fund, football, gathers, gospel, heptathlon\n",
            "best: category, solo, doris, catchy, venice\n",
            "him: me, them, scammers, seriously, desperately\n",
            "too: so, very, extremely, better, quite\n",
            "some: effective, peoplesoft, ammunition, orders, widespread\n",
            "through: retain, straight, alcatel, depriving, defiant\n",
            "mr: michael, tony, gordon, alan, charles\n",
            "unit: gisbergen, peel, bullying, 82, leases\n",
            "concern: teams, prerogative, processing, vendor, experiencing\n",
            "bush: bush's, george, pozzebon, gref, kerry\n",
            "fear: ignore, intend, imagine, privately, recruited\n",
            "reached: logic, 1996, admiration, inflate, 87th\n",
            "risk: imply, annadale, frankly, eradicate, determine\n",
            "sound: martyn, illegitimate, promotions, amending, lim\n",
            "previously: initially, probably, always, now, economists\n",
            "campbell: miller, humphreys, adam, thompson, traille\n",
            "premiership: millennium, cities, prerogative, stages, boro's\n",
            "programs: refine, remove, surfers, glitches, senate\n",
            "leaders: mount, amplify, abolished, tally, depends\n",
            "j: s, capt, o'kelly, scott, m\n",
            "attempt: dogs, flows, stuffed, understanding, relied\n",
            "response: experiencing, publication, 1999, homes, kenteris'\n",
            "australia: foolish, compress, resurrected, dissipated, refined\n",
            "\n",
            "\n",
            "2233/2233 [==============================] - 166s 74ms/step - loss: 0.4207\n",
            "Epoch: 4/5 started\n",
            "   2232/Unknown - 163s 73ms/step - loss: 0.3904election: attorney, upcoming, elections, november's, forthcoming\n",
            "me: him, them, scammers, safeguards, anyone\n",
            "with: visuals, uncertainties, between, constructive, electro\n",
            "you: don't, we, you'll, didn't, couldn't\n",
            "were: are, being, credible, totally, partly\n",
            "win: harley, powergen, 11th, superb, 73\n",
            "those: consumers, children, carefully, laptops, parties\n",
            "music: gadget, cameras, megapixel, imaging, checks\n",
            "also: finally, already, initially, recently, never\n",
            "international: football, fund, ambitions, irish, gospel\n",
            "best: category, supporting, nomination, solo, roles\n",
            "him: me, them, successfully, scammers, safeguards\n",
            "too: extremely, very, so, quite, incredibly\n",
            "some: many, effective, properties, rightly, orders\n",
            "through: straight, alcatel, jacobsen, renault, upstairs\n",
            "mr: tony, michael, gordon, ken, ed\n",
            "unit: menatep, advertised, son's, warming, hopefuls\n",
            "concern: constituency, custody, processing, vendor, frankly\n",
            "bush: bush's, george, pozzebon, putin's, villalba\n",
            "fear: alarmed, recruited, ignore, manoeuvre, privately\n",
            "reached: symbolic, exams, ephedrine, wounded, 1996\n",
            "risk: frankly, possess, illiterate, kind, emerges\n",
            "sound: illegitimate, sprinted, averaged, chin, lim\n",
            "previously: originally, initially, always, you've, we've\n",
            "campbell: humphreys, miller, brady, morris, blunkett\n",
            "premiership: circuit, exit, cities, finalists, wta\n",
            "programs: refine, surfers, algorithms, loaded, filters\n",
            "leaders: exposing, cement, branding, riverside, phonographic\n",
            "j: s, capt, m, o'kelly, k\n",
            "attempt: shamed, waverley, dogs, stuffed, relied\n",
            "response: downturn, homeland, favour, idea, experiencing\n",
            "australia: dissipated, shops, resurrected, refined, expressing\n",
            "\n",
            "\n",
            "2233/2233 [==============================] - 163s 73ms/step - loss: 0.3904\n",
            "Epoch: 5/5 started\n",
            "   2233/Unknown - 160s 71ms/step - loss: 0.3648election: attorney, upcoming, elections, november's, forthcoming\n",
            "me: him, them, scammers, safeguards, anyone\n",
            "with: visuals, constructive, atlantic, between, electro\n",
            "you: don't, we, we'll, you'll, didn't\n",
            "were: are, credible, being, partly, totally\n",
            "win: powergen, 11th, superb, silverware, completing\n",
            "those: children, pensioners, workshare, tysabri, consumers\n",
            "music: unlimited, cameras, infrastructure, megapixel, gadget\n",
            "also: finally, previously, recently, already, initially\n",
            "international: football, irb, fund, ambitions, heptathlon\n",
            "best: category, supporting, solo, nomination, roles\n",
            "him: me, scammers, them, successfully, safeguards\n",
            "too: very, extremely, incredibly, quite, so\n",
            "some: many, properties, peace, rightly, tend\n",
            "through: straight, madrid's, alcatel, jacobsen, dare\n",
            "mr: tony, ken, gordon, michael, refused\n",
            "unit: menatep, renationalise, labor, advertised, fiction\n",
            "concern: constituency, custody, sweeteners, dull, diversity\n",
            "bush: bush's, george, clinton, putin's, schedules\n",
            "fear: alarmed, argue, recruited, dislike, hate\n",
            "reached: 80s, streams, stockholm, wounded, ameobi\n",
            "risk: frankly, illiterate, quests, dogs, frame\n",
            "sound: averaged, illegitimate, traore, calculate, sprinted\n",
            "previously: originally, hasn't, initially, repeatedly, hardly\n",
            "campbell: kay, simpson, miller, cooper, villiers\n",
            "premiership: wta, millennium, sevens, circuit, finalists\n",
            "programs: tool, filters, user's, program, surfers\n",
            "leaders: branding, hayden, board's, norway, riverside\n",
            "j: o'kelly, s, capt, m, k\n",
            "attempt: disruption, regard, waverley, 007, barrier\n",
            "response: downturn, homeland, excluded, disruption, idea\n",
            "australia: smashed, expressing, opted, privately, dissipated\n",
            "\n",
            "\n",
            "2233/2233 [==============================] - 160s 72ms/step - loss: 0.3648\n"
          ]
        }
      ]
    },
    {
      "cell_type": "markdown",
      "source": [
        "# The Continuous Bag-of-Words (CBOW) algorithm\n",
        "\n",
        "![03_06.png](data:image/png;base64,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)"
      ],
      "metadata": {
        "id": "ICBDIRniA5sQ"
      }
    },
    {
      "cell_type": "code",
      "source": [
        "def cbow_grams(sequence, vocabulary_size,\n",
        "              window_size=4, negative_samples=1., shuffle=True,\n",
        "              categorical=False, sampling_table=None, seed=None):\n",
        "    \n",
        "    targets, contexts, labels = [], [], []    \n",
        "        \n",
        "    for i, wi in enumerate(sequence):\n",
        "        \n",
        "        \n",
        "        if not wi or i < window_size or i + 1 > len(sequence)-window_size:\n",
        "            continue\n",
        "        if sampling_table is not None:\n",
        "            if sampling_table[wi] < random.random():\n",
        "                continue\n",
        "\n",
        "        window_start = max(0, i - window_size)\n",
        "        window_end = min(len(sequence), i + window_size + 1)\n",
        "        \n",
        "        context_words = [wj for j, wj in enumerate(sequence[window_start:window_end]) if j+window_start != i]\n",
        "        target_word = wi        \n",
        "            \n",
        "        context_classes = tf.expand_dims(tf.constant(context_words, dtype=\"int64\"), 0)\n",
        "\n",
        "        negative_sampling_candidates, _, _ = tf.random.log_uniform_candidate_sampler(\n",
        "          true_classes=context_classes,\n",
        "          num_true=window_size * 2,\n",
        "          num_sampled=negative_samples,\n",
        "          unique=True,\n",
        "          range_max=vocabulary_size,              \n",
        "          name=\"negative_sampling\")\n",
        "\n",
        "        # Build context and label vectors (for one target word)        \n",
        "        negative_targets = negative_sampling_candidates.numpy().tolist()        \n",
        "\n",
        "        target = [target_word] + negative_targets\n",
        "        label = [1] + [0]*negative_samples\n",
        "\n",
        "        # Append each element from the training example to global lists.\n",
        "        targets.extend(target)\n",
        "        contexts.extend([context_words]*(negative_samples+1))\n",
        "        labels.extend(label)\n",
        "        \n",
        "    couples = list(zip(targets, contexts))\n",
        "    \n",
        "    seed = random.randint(0, 10e6)\n",
        "    random.seed(seed)\n",
        "    random.shuffle(couples)    \n",
        "    random.seed(seed)\n",
        "    random.shuffle(labels)\n",
        "           \n",
        "    \n",
        "    return couples, labels\n",
        "\n",
        "\n",
        "window_size = 1 # How many words to consider left and right.\n",
        "\n",
        "\n",
        "inputs, labels = cbow_grams(\n",
        "    tokenizer.texts_to_sequences([\"I am going to the store\"])[0], \n",
        "    vocabulary_size=len(tokenizer.word_index.items())+1, \n",
        "    window_size=window_size, negative_samples=4, shuffle=False,\n",
        "    categorical=False, sampling_table=None, seed=None\n",
        ")\n",
        "\n",
        "print(tokenizer.texts_to_sequences([\"I am going to the store\"]))\n",
        "i = 0\n",
        "for inp, lbl in zip(inputs, labels):\n",
        "    i += 1\n",
        "    print(f\"Input: {inp} ({[[tokenizer.index_word[wi] for wi in inp[1] ]] + [tokenizer.index_word[inp[0]] if inp[0] > 0 else None]})/ Label: {lbl}\")\n",
        "    # \n",
        "    if i >= 20:\n",
        "        break"
      ],
      "metadata": {
        "colab": {
          "base_uri": "https://localhost:8080/"
        },
        "id": "WYav1PJC7Y-T",
        "outputId": "6808cde6-79b2-4781-a6fe-4f469613c0aa"
      },
      "execution_count": 26,
      "outputs": [
        {
          "output_type": "stream",
          "name": "stdout",
          "text": [
            "[[28, 428, 132, 3, 2, 1506]]\n",
            "Input: (3, [28, 132]) ([['i', 'going'], 'to'])/ Label: 0\n",
            "Input: (1, [3, 1506]) ([['to', 'store'], ''])/ Label: 0\n",
            "Input: (2, [3, 1506]) ([['to', 'store'], 'the'])/ Label: 1\n",
            "Input: (281, [428, 3]) ([['am', 'to'], 'court'])/ Label: 0\n",
            "Input: (38, [28, 132]) ([['i', 'going'], 'been'])/ Label: 0\n",
            "Input: (3, [132, 2]) ([['going', 'the'], 'to'])/ Label: 1\n",
            "Input: (394, [132, 2]) ([['going', 'the'], 'working'])/ Label: 0\n",
            "Input: (19, [3, 1506]) ([['to', 'store'], 'has'])/ Label: 0\n",
            "Input: (5, [428, 3]) ([['am', 'to'], 'and'])/ Label: 0\n",
            "Input: (132, [428, 3]) ([['am', 'to'], 'going'])/ Label: 1\n",
            "Input: (63, [3, 1506]) ([['to', 'store'], 'last'])/ Label: 0\n",
            "Input: (6454, [428, 3]) ([['am', 'to'], 'monitors'])/ Label: 0\n",
            "Input: (4700, [428, 3]) ([['am', 'to'], 'rankings'])/ Label: 0\n",
            "Input: (1, [132, 2]) ([['going', 'the'], ''])/ Label: 0\n",
            "Input: (2395, [3, 1506]) ([['to', 'store'], 'standing'])/ Label: 0\n",
            "Input: (428, [28, 132]) ([['i', 'going'], 'am'])/ Label: 1\n",
            "Input: (2398, [28, 132]) ([['i', 'going'], '8m'])/ Label: 0\n",
            "Input: (7068, [132, 2]) ([['going', 'the'], 'mccririck'])/ Label: 0\n",
            "Input: (107, [28, 132]) ([['i', 'going'], 'next'])/ Label: 0\n",
            "Input: (375, [132, 2]) ([['going', 'the'], 'lord'])/ Label: 0\n"
          ]
        }
      ]
    },
    {
      "cell_type": "code",
      "source": [
        "window_size = 1 # How many words to consider left and right.\n",
        "\n",
        "inputs, labels = tf.keras.preprocessing.sequence.skipgrams(\n",
        "    tokenizer.texts_to_sequences([news_stories[0][:150]])[0], \n",
        "    vocabulary_size=len(tokenizer.word_index.items())+1, \n",
        "    window_size=window_size, negative_samples=4, shuffle=False,\n",
        "    categorical=False, sampling_table=None, seed=None\n",
        ")\n",
        "\n",
        "i = 0\n",
        "for inp, lbl in zip(inputs, labels):\n",
        "    i += 1\n",
        "    print(f\"Input: {inp} ({[tokenizer.index_word[wi] for wi in inp]}) / Label: {lbl}\")"
      ],
      "metadata": {
        "colab": {
          "base_uri": "https://localhost:8080/"
        },
        "id": "skTy3jTdDdeo",
        "outputId": "3fbccdfd-8f09-41e0-9044-d278f771d0ca"
      },
      "execution_count": 27,
      "outputs": [
        {
          "output_type": "stream",
          "name": "stdout",
          "text": [
            "Input: [286, 23] (['real', 'will']) / Label: 1\n",
            "Input: [23, 286] (['will', 'real']) / Label: 1\n",
            "Input: [23, 1881] (['will', 'finish']) / Label: 1\n",
            "Input: [1881, 23] (['finish', 'will']) / Label: 1\n",
            "Input: [1881, 4501] (['finish', 'abandoned']) / Label: 1\n",
            "Input: [4501, 1881] (['abandoned', 'finish']) / Label: 1\n",
            "Input: [4501, 328] (['abandoned', 'match']) / Label: 1\n",
            "Input: [328, 4501] (['match', 'abandoned']) / Label: 1\n",
            "Input: [328, 286] (['match', 'real']) / Label: 1\n",
            "Input: [286, 328] (['real', 'match']) / Label: 1\n",
            "Input: [286, 1076] (['real', 'madrid']) / Label: 1\n",
            "Input: [1076, 286] (['madrid', 'real']) / Label: 1\n",
            "Input: [1076, 5] (['madrid', 'and']) / Label: 1\n",
            "Input: [5, 1076] (['and', 'madrid']) / Label: 1\n",
            "Input: [5, 286] (['and', 'real']) / Label: 1\n",
            "Input: [286, 5] (['real', 'and']) / Label: 1\n",
            "Input: [286, 1] (['real', '']) / Label: 1\n",
            "Input: [1, 286] (['', 'real']) / Label: 1\n",
            "Input: [1, 23] (['', 'will']) / Label: 1\n",
            "Input: [23, 1] (['will', '']) / Label: 1\n",
            "Input: [23, 153] (['will', 'play']) / Label: 1\n",
            "Input: [153, 23] (['play', 'will']) / Label: 1\n",
            "Input: [153, 2] (['play', 'the']) / Label: 1\n",
            "Input: [2, 153] (['the', 'play']) / Label: 1\n",
            "Input: [2, 253] (['the', 'final']) / Label: 1\n",
            "Input: [253, 2] (['final', 'the']) / Label: 1\n",
            "Input: [253, 191] (['final', 'six']) / Label: 1\n",
            "Input: [191, 253] (['six', 'final']) / Label: 1\n",
            "Input: [191, 495] (['six', 'minutes']) / Label: 1\n",
            "Input: [495, 191] (['minutes', 'six']) / Label: 1\n",
            "Input: [495, 4] (['minutes', 'of']) / Label: 1\n",
            "Input: [4, 495] (['of', 'minutes']) / Label: 1\n",
            "Input: [4, 39] (['of', 'their']) / Label: 1\n",
            "Input: [39, 4] (['their', 'of']) / Label: 1\n",
            "Input: [39, 328] (['their', 'match']) / Label: 1\n",
            "Input: [328, 39] (['match', 'their']) / Label: 1\n",
            "Input: [328, 35] (['match', 'which']) / Label: 1\n",
            "Input: [35, 328] (['which', 'match']) / Label: 1\n",
            "Input: [35, 14] (['which', 'was']) / Label: 1\n",
            "Input: [14, 35] (['was', 'which']) / Label: 1\n",
            "Input: [14, 4501] (['was', 'abandoned']) / Label: 1\n",
            "Input: [4501, 14] (['abandoned', 'was']) / Label: 1\n",
            "Input: [4501, 11] (['abandoned', 'on']) / Label: 1\n",
            "Input: [11, 4501] (['on', 'abandoned']) / Label: 1\n",
            "Input: [11, 552] (['on', 'sunday']) / Label: 1\n",
            "Input: [552, 11] (['sunday', 'on']) / Label: 1\n",
            "Input: [552, 102] (['sunday', 'because']) / Label: 1\n",
            "Input: [102, 552] (['because', 'sunday']) / Label: 1\n",
            "Input: [23, 28368] (['will', \"semitic'\"]) / Label: 0\n",
            "Input: [14, 10171] (['was', 'whereabouts']) / Label: 0\n",
            "Input: [2, 28926] (['the', 'curly']) / Label: 0\n",
            "Input: [153, 20950] (['play', \"robin's\"]) / Label: 0\n",
            "Input: [552, 7009] (['sunday', 'equities']) / Label: 0\n",
            "Input: [286, 28683] (['real', '764']) / Label: 0\n",
            "Input: [1076, 27057] (['madrid', 'appoints']) / Label: 0\n",
            "Input: [1881, 27265] (['finish', '126']) / Label: 0\n",
            "Input: [328, 30073] (['match', 'opiates']) / Label: 0\n",
            "Input: [495, 3128] (['minutes', 'liam']) / Label: 0\n",
            "Input: [23, 8096] (['will', 'collateral']) / Label: 0\n",
            "Input: [4501, 6784] (['abandoned', 'sits']) / Label: 0\n",
            "Input: [286, 18694] (['real', 'jaguar']) / Label: 0\n",
            "Input: [4, 25574] (['of', 'yury']) / Label: 0\n",
            "Input: [328, 14962] (['match', 'opik']) / Label: 0\n",
            "Input: [4501, 8257] (['abandoned', 'kite']) / Label: 0\n",
            "Input: [5, 5361] (['and', 'admit']) / Label: 0\n",
            "Input: [328, 26655] (['match', 'roukis']) / Label: 0\n",
            "Input: [14, 8930] (['was', 'unremittingly']) / Label: 0\n",
            "Input: [191, 2036] (['six', 'assembly']) / Label: 0\n",
            "Input: [39, 15675] (['their', 'titi']) / Label: 0\n",
            "Input: [35, 5612] (['which', 'snap']) / Label: 0\n",
            "Input: [1, 537] (['', 'level']) / Label: 0\n",
            "Input: [286, 6548] (['real', 'provision']) / Label: 0\n",
            "Input: [286, 19135] (['real', '4p']) / Label: 0\n",
            "Input: [11, 25503] (['on', 'gloves']) / Label: 0\n",
            "Input: [23, 2347] (['will', 'pro']) / Label: 0\n",
            "Input: [253, 29031] (['final', 'outling']) / Label: 0\n",
            "Input: [35, 27458] (['which', 'disgorge']) / Label: 0\n",
            "Input: [102, 28850] (['because', 'chancing']) / Label: 0\n",
            "Input: [4501, 2025] (['abandoned', 'worried']) / Label: 0\n",
            "Input: [191, 274] (['six', 'radio']) / Label: 0\n",
            "Input: [1881, 17428] (['finish', 'genders']) / Label: 0\n",
            "Input: [286, 13688] (['real', '173']) / Label: 0\n",
            "Input: [4501, 7718] (['abandoned', 'saint']) / Label: 0\n",
            "Input: [328, 14841] (['match', 'comparatively']) / Label: 0\n",
            "Input: [4, 20607] (['of', 'albion']) / Label: 0\n",
            "Input: [2, 3543] (['the', 'bosses']) / Label: 0\n",
            "Input: [495, 20535] (['minutes', 'warhol']) / Label: 0\n",
            "Input: [39, 9727] (['their', 'uranium']) / Label: 0\n",
            "Input: [1, 7657] (['', 'hails']) / Label: 0\n",
            "Input: [23, 32139] (['will', 'sparkled']) / Label: 0\n",
            "Input: [153, 28855] (['play', 'nicki']) / Label: 0\n",
            "Input: [1076, 28607] (['madrid', \"'key\"]) / Label: 0\n",
            "Input: [11, 31303] (['on', \"saver'\"]) / Label: 0\n",
            "Input: [5, 10066] (['and', 'declarations']) / Label: 0\n",
            "Input: [253, 16487] (['final', \"tour's\"]) / Label: 0\n",
            "Input: [552, 24156] (['sunday', 'essay']) / Label: 0\n",
            "Input: [23, 15170] (['will', 'regressive']) / Label: 0\n",
            "Input: [14, 7660] (['was', 'wru']) / Label: 0\n",
            "Input: [2, 27858] (['the', 'protestants']) / Label: 0\n",
            "Input: [153, 19392] (['play', 'swan']) / Label: 0\n",
            "Input: [552, 9803] (['sunday', 'worsen']) / Label: 0\n",
            "Input: [286, 30644] (['real', 'dutronc']) / Label: 0\n",
            "Input: [1076, 17781] (['madrid', 'homepage']) / Label: 0\n",
            "Input: [1881, 19784] (['finish', \"needed'\"]) / Label: 0\n",
            "Input: [328, 12340] (['match', 'devaluation']) / Label: 0\n",
            "Input: [495, 16768] (['minutes', 'wanda']) / Label: 0\n",
            "Input: [23, 14745] (['will', 'roadmap']) / Label: 0\n",
            "Input: [4501, 23678] (['abandoned', 'pods']) / Label: 0\n",
            "Input: [286, 5901] (['real', 'brave']) / Label: 0\n",
            "Input: [4, 6035] (['of', 'danny']) / Label: 0\n",
            "Input: [328, 29398] (['match', 'orthopaedic']) / Label: 0\n",
            "Input: [4501, 24138] (['abandoned', 'puzzlement']) / Label: 0\n",
            "Input: [5, 28276] (['and', 'ideology']) / Label: 0\n",
            "Input: [328, 20041] (['match', 'pawel']) / Label: 0\n",
            "Input: [14, 22274] (['was', 'oakley']) / Label: 0\n",
            "Input: [191, 889] (['six', 'turned']) / Label: 0\n",
            "Input: [39, 2898] (['their', 'forms']) / Label: 0\n",
            "Input: [35, 17055] (['which', '3c']) / Label: 0\n",
            "Input: [1, 29903] (['', \"then'\"]) / Label: 0\n",
            "Input: [286, 29460] (['real', 'probability']) / Label: 0\n",
            "Input: [286, 10683] (['real', 'finalised']) / Label: 0\n",
            "Input: [11, 13679] (['on', 'dull']) / Label: 0\n",
            "Input: [23, 20639] (['will', 'weepu']) / Label: 0\n",
            "Input: [253, 26887] (['final', 'bonderman']) / Label: 0\n",
            "Input: [35, 4773] (['which', 'queries']) / Label: 0\n",
            "Input: [102, 5312] (['because', 'activist']) / Label: 0\n",
            "Input: [4501, 21837] (['abandoned', 'prising']) / Label: 0\n",
            "Input: [191, 18764] (['six', \"kraft's\"]) / Label: 0\n",
            "Input: [1881, 21] (['finish', 'at']) / Label: 0\n",
            "Input: [286, 31864] (['real', \"wilma's\"]) / Label: 0\n",
            "Input: [4501, 14077] (['abandoned', \"simonetti's\"]) / Label: 0\n",
            "Input: [328, 9532] (['match', 'aka']) / Label: 0\n",
            "Input: [4, 9091] (['of', 'continuous']) / Label: 0\n",
            "Input: [2, 1796] (['the', 'passed']) / Label: 0\n",
            "Input: [495, 27201] (['minutes', 'envoys']) / Label: 0\n",
            "Input: [39, 2632] (['their', 'kong']) / Label: 0\n",
            "Input: [1, 25746] (['', 'veer']) / Label: 0\n",
            "Input: [23, 17033] (['will', 'subsumed']) / Label: 0\n",
            "Input: [153, 28470] (['play', 'â£275']) / Label: 0\n",
            "Input: [1076, 18653] (['madrid', '148']) / Label: 0\n",
            "Input: [11, 8759] (['on', 'cps']) / Label: 0\n",
            "Input: [5, 26515] (['and', '09bn']) / Label: 0\n",
            "Input: [253, 15556] (['final', 'germaine']) / Label: 0\n",
            "Input: [552, 29243] (['sunday', 'staunchest']) / Label: 0\n",
            "Input: [23, 27824] (['will', 'hypnotising']) / Label: 0\n",
            "Input: [14, 6892] (['was', 'groundbreaking']) / Label: 0\n",
            "Input: [2, 26804] (['the', '041']) / Label: 0\n",
            "Input: [153, 30827] (['play', 'legrand']) / Label: 0\n",
            "Input: [552, 5341] (['sunday', 'wind']) / Label: 0\n",
            "Input: [286, 8651] (['real', 'morquendi']) / Label: 0\n",
            "Input: [1076, 12736] (['madrid', \"kennedy's\"]) / Label: 0\n",
            "Input: [1881, 29600] (['finish', 'carer']) / Label: 0\n",
            "Input: [328, 27338] (['match', 'armentieres']) / Label: 0\n",
            "Input: [495, 26007] (['minutes', \"pfizer's\"]) / Label: 0\n",
            "Input: [23, 27419] (['will', 'perilously']) / Label: 0\n",
            "Input: [4501, 10886] (['abandoned', 'villalba']) / Label: 0\n",
            "Input: [286, 4212] (['real', \"blunkett's\"]) / Label: 0\n",
            "Input: [4, 28794] (['of', 'nimrod']) / Label: 0\n",
            "Input: [328, 28258] (['match', 'jeans']) / Label: 0\n",
            "Input: [4501, 8739] (['abandoned', 'labelling']) / Label: 0\n",
            "Input: [5, 9585] (['and', 'fisher']) / Label: 0\n",
            "Input: [328, 28860] (['match', 'inuit']) / Label: 0\n",
            "Input: [14, 11413] (['was', '1963']) / Label: 0\n",
            "Input: [191, 21318] (['six', 'hotpot']) / Label: 0\n",
            "Input: [39, 8727] (['their', 'hotspot']) / Label: 0\n",
            "Input: [35, 9366] (['which', 'madagascar']) / Label: 0\n",
            "Input: [1, 2346] (['', '300']) / Label: 0\n",
            "Input: [286, 6236] (['real', 'broadway']) / Label: 0\n",
            "Input: [286, 907] (['real', 'decided']) / Label: 0\n",
            "Input: [11, 27390] (['on', 'royces']) / Label: 0\n",
            "Input: [23, 16627] (['will', 'okayo']) / Label: 0\n",
            "Input: [253, 24329] (['final', 'neverwinter']) / Label: 0\n",
            "Input: [35, 11237] (['which', 'unfairly']) / Label: 0\n",
            "Input: [102, 30000] (['because', 'antoine']) / Label: 0\n",
            "Input: [4501, 20726] (['abandoned', 'striding']) / Label: 0\n",
            "Input: [191, 28193] (['six', 'unwashed']) / Label: 0\n",
            "Input: [1881, 24593] (['finish', 'blackbuck']) / Label: 0\n",
            "Input: [286, 16413] (['real', 'underlines']) / Label: 0\n",
            "Input: [4501, 15247] (['abandoned', \"scarman's\"]) / Label: 0\n",
            "Input: [328, 11224] (['match', 'guessed']) / Label: 0\n",
            "Input: [4, 10209] (['of', 'shevchenko']) / Label: 0\n",
            "Input: [2, 11176] (['the', 'nogar']) / Label: 0\n",
            "Input: [495, 28238] (['minutes', \"'naive'\"]) / Label: 0\n",
            "Input: [39, 23576] (['their', 'snappers']) / Label: 0\n",
            "Input: [1, 22602] (['', 'schwarzer']) / Label: 0\n",
            "Input: [23, 20455] (['will', 'manon']) / Label: 0\n",
            "Input: [153, 19662] (['play', 'kelvin']) / Label: 0\n",
            "Input: [1076, 7974] (['madrid', 'demos']) / Label: 0\n",
            "Input: [11, 9452] (['on', 'tightly']) / Label: 0\n",
            "Input: [5, 24470] (['and', 'compostable']) / Label: 0\n",
            "Input: [253, 31207] (['final', 'crucified']) / Label: 0\n",
            "Input: [552, 30022] (['sunday', 'herrick']) / Label: 0\n",
            "Input: [23, 27406] (['will', \"diageo's\"]) / Label: 0\n",
            "Input: [14, 5452] (['was', 'beach']) / Label: 0\n",
            "Input: [2, 30564] (['the', 'bearded']) / Label: 0\n",
            "Input: [153, 6915] (['play', 'glass']) / Label: 0\n",
            "Input: [552, 13269] (['sunday', 'og']) / Label: 0\n",
            "Input: [286, 10373] (['real', 'abusive']) / Label: 0\n",
            "Input: [1076, 941] (['madrid', 'kilroy']) / Label: 0\n",
            "Input: [1881, 13666] (['finish', 'wounded']) / Label: 0\n",
            "Input: [328, 2686] (['match', 'ferdinand']) / Label: 0\n",
            "Input: [495, 5365] (['minutes', 'ronan']) / Label: 0\n",
            "Input: [23, 12611] (['will', \"ongc's\"]) / Label: 0\n",
            "Input: [4501, 2026] (['abandoned', 'boys']) / Label: 0\n",
            "Input: [286, 6326] (['real', 'jan']) / Label: 0\n",
            "Input: [4, 25429] (['of', 'vendetta']) / Label: 0\n",
            "Input: [328, 18572] (['match', 'vijver']) / Label: 0\n",
            "Input: [4501, 17067] (['abandoned', 'tribes']) / Label: 0\n",
            "Input: [5, 31812] (['and', 'selma']) / Label: 0\n",
            "Input: [328, 25605] (['match', 'koen']) / Label: 0\n",
            "Input: [14, 16534] (['was', 'hanley']) / Label: 0\n",
            "Input: [191, 10808] (['six', 'liabilities']) / Label: 0\n",
            "Input: [39, 25781] (['their', 'fidelis']) / Label: 0\n",
            "Input: [35, 4705] (['which', 'intense']) / Label: 0\n",
            "Input: [1, 14958] (['', 'pandering']) / Label: 0\n",
            "Input: [286, 1661] (['real', 'completely']) / Label: 0\n",
            "Input: [286, 20902] (['real', 'amorebieta']) / Label: 0\n",
            "Input: [11, 28440] (['on', '2022']) / Label: 0\n",
            "Input: [23, 11522] (['will', 'â£30m']) / Label: 0\n",
            "Input: [253, 17691] (['final', 'alamos']) / Label: 0\n",
            "Input: [35, 10196] (['which', 'plagued']) / Label: 0\n",
            "Input: [102, 3939] (['because', 'nigel']) / Label: 0\n",
            "Input: [4501, 14785] (['abandoned', 'rentals']) / Label: 0\n",
            "Input: [191, 9764] (['six', 'partial']) / Label: 0\n",
            "Input: [1881, 11706] (['finish', 'redemption']) / Label: 0\n",
            "Input: [286, 24505] (['real', \"'friends\"]) / Label: 0\n",
            "Input: [4501, 30256] (['abandoned', 'detaching']) / Label: 0\n",
            "Input: [328, 8233] (['match', 'hitler']) / Label: 0\n",
            "Input: [4, 16522] (['of', 'allure']) / Label: 0\n",
            "Input: [2, 11633] (['the', 'fury']) / Label: 0\n",
            "Input: [495, 23359] (['minutes', 'v2']) / Label: 0\n",
            "Input: [39, 4965] (['their', 'anyway']) / Label: 0\n",
            "Input: [1, 26913] (['', 'retailmetrics']) / Label: 0\n",
            "Input: [23, 22766] (['will', 'picasa']) / Label: 0\n",
            "Input: [153, 10693] (['play', 'simulator']) / Label: 0\n",
            "Input: [1076, 27693] (['madrid', \"'sham\"]) / Label: 0\n",
            "Input: [11, 19359] (['on', 'interacts']) / Label: 0\n",
            "Input: [5, 643] (['and', 'points']) / Label: 0\n",
            "Input: [253, 15458] (['final', 'vabres']) / Label: 0\n",
            "Input: [552, 9991] (['sunday', 'hines']) / Label: 0\n"
          ]
        }
      ]
    },
    {
      "cell_type": "code",
      "source": [
        "batch_size = 4096 # Data points in a single batch\n",
        "\n",
        "embedding_size = 128 # Dimension of the embedding vector.\n",
        "\n",
        "window_size=1 # We use a window size of 1 on either side of target word\n",
        "epochs = 5 # Number of epochs to train for\n",
        "negative_samples = 4 # Number of negative samples generated per example\n",
        "\n",
        "# We pick a random validation set to sample nearest neighbors\n",
        "valid_size = 16 # Random set of words to evaluate similarity on.\n",
        "# We sample valid datapoints randomly from a large window without always being deterministic\n",
        "valid_window = 250\n",
        "\n",
        "# When selecting valid examples, we select some of the most frequent words as well as\n",
        "# some moderately rare words as well\n",
        "np.random.seed(54321)\n",
        "random.seed(54321)\n",
        "\n",
        "valid_term_ids = np.array(random.sample(range(valid_window), valid_size))\n",
        "valid_term_ids = np.append(\n",
        "    valid_term_ids, random.sample(range(1000, 1000+valid_window), valid_size),\n",
        "    axis=0\n",
        ")"
      ],
      "metadata": {
        "id": "VLM4nIVBEoiD"
      },
      "execution_count": 28,
      "outputs": []
    },
    {
      "cell_type": "code",
      "source": [
        "import tensorflow.keras.backend as K\n",
        "\n",
        "K.clear_session()\n",
        "\n",
        "\n",
        "# Inputs; target input layer will have the final shape [None]\n",
        "# context will have [None, 2xwindow_size] shape\n",
        "input_1 = tf.keras.layers.Input(shape=())\n",
        "input_2 = tf.keras.layers.Input(shape=(window_size*2,))\n",
        "\n",
        "# Target and context embedding layers\n",
        "target_embedding_layer = tf.keras.layers.Embedding(\n",
        "    input_dim=n_vocab, output_dim=embedding_size, name='target_embedding'\n",
        ")\n",
        "\n",
        "context_embedding_layer = tf.keras.layers.Embedding(\n",
        "    input_dim=n_vocab, output_dim=embedding_size, name='context_embedding'\n",
        ")\n",
        "\n",
        "# Outputs of the target and context embedding lookups\n",
        "context_out = context_embedding_layer(input_2)\n",
        "target_out = target_embedding_layer(input_1)\n",
        "\n",
        "# Taking the mean over the all the context words to produce [None, embedding_size]\n",
        "mean_context_out = tf.keras.layers.Lambda(lambda x: tf.reduce_mean(x, axis=1))(context_out)\n",
        "\n",
        "# Computing the dot product between the two \n",
        "out = tf.keras.layers.Dot(axes=-1)([context_out, target_out])\n",
        "\n",
        "cbow_model = tf.keras.models.Model(inputs=[input_1, input_2], outputs=out, name='cbow_model')\n",
        "\n",
        "cbow_model.compile(\n",
        "    loss=tf.keras.losses.BinaryCrossentropy(from_logits=True), \n",
        "    optimizer='adam'\n",
        ")\n",
        "\n",
        "cbow_model.summary()"
      ],
      "metadata": {
        "colab": {
          "base_uri": "https://localhost:8080/"
        },
        "id": "t-fi4Vk7EwBR",
        "outputId": "13ff9142-bfe8-4fbd-82b4-a985248a88eb"
      },
      "execution_count": 29,
      "outputs": [
        {
          "output_type": "stream",
          "name": "stdout",
          "text": [
            "Model: \"cbow_model\"\n",
            "__________________________________________________________________________________________________\n",
            " Layer (type)                   Output Shape         Param #     Connected to                     \n",
            "==================================================================================================\n",
            " input_2 (InputLayer)           [(None, 2)]          0           []                               \n",
            "                                                                                                  \n",
            " input_1 (InputLayer)           [(None,)]            0           []                               \n",
            "                                                                                                  \n",
            " context_embedding (Embedding)  (None, 2, 128)       1920128     ['input_2[0][0]']                \n",
            "                                                                                                  \n",
            " target_embedding (Embedding)   (None, 128)          1920128     ['input_1[0][0]']                \n",
            "                                                                                                  \n",
            " dot (Dot)                      (None, 2)            0           ['context_embedding[0][0]',      \n",
            "                                                                  'target_embedding[0][0]']       \n",
            "                                                                                                  \n",
            "==================================================================================================\n",
            "Total params: 3,840,256\n",
            "Trainable params: 3,840,256\n",
            "Non-trainable params: 0\n",
            "__________________________________________________________________________________________________\n"
          ]
        }
      ]
    },
    {
      "cell_type": "code",
      "source": [
        "def cbow_data_generator(sequences, window_size, batch_size, negative_samples):\n",
        "    \n",
        "    rand_sequence_ids = np.arange(len(sequences))                    \n",
        "    np.random.shuffle(rand_sequence_ids)\n",
        "\n",
        "    for si in rand_sequence_ids:\n",
        "        inputs, labels = cbow_grams(\n",
        "            sequences[si], \n",
        "            vocabulary_size=n_vocab, \n",
        "            window_size=window_size, \n",
        "            negative_samples=negative_samples, \n",
        "            shuffle=True,\n",
        "            sampling_table=sampling_table,\n",
        "            seed=None\n",
        "        )\n",
        "        \n",
        "        inputs_context, inputs_target, labels = np.array([inp[1] for inp in inputs]), np.array([inp[0] for inp in inputs]), np.array(labels).reshape(-1,1)\n",
        "        \n",
        "        assert inputs_context.shape[0] == inputs_target.shape[0]\n",
        "        assert inputs_context.shape[0] == labels.shape[0]\n",
        "        \n",
        "        #print(inputs_context.shape, inputs_target.shape, labels.shape)\n",
        "        for eg_id_start in range(0, inputs_context.shape[0], batch_size):            \n",
        "            \n",
        "            yield (\n",
        "                inputs_target[eg_id_start: min(eg_id_start+batch_size, inputs_target.shape[0])], \n",
        "                inputs_context[eg_id_start: min(eg_id_start+batch_size, inputs_context.shape[0]),:]\n",
        "            ), labels[eg_id_start: min(eg_id_start+batch_size, labels.shape[0])]"
      ],
      "metadata": {
        "id": "YNnUo_yuE1JP"
      },
      "execution_count": 30,
      "outputs": []
    },
    {
      "cell_type": "code",
      "source": [],
      "metadata": {
        "id": "tyFsbUq4FCzW"
      },
      "execution_count": null,
      "outputs": []
    }
  ]
}