{
  "nbformat": 4,
  "nbformat_minor": 0,
  "metadata": {
    "colab": {
      "provenance": []
    },
    "kernelspec": {
      "name": "python3",
      "display_name": "Python 3"
    },
    "language_info": {
      "name": "python"
    }
  },
  "cells": [
    {
      "cell_type": "markdown",
      "source": [
        "# Word2vec - Word Embeddings"
      ],
      "metadata": {
        "id": "NEy_EiGwcu_f"
      }
    },
    {
      "cell_type": "code",
      "source": [
        "!pip install adjustText --quiet"
      ],
      "metadata": {
        "colab": {
          "base_uri": "https://localhost:8080/"
        },
        "id": "sYEeA3s6dLN5",
        "outputId": "91dbf5a3-b326-47c3-a01b-3ee057f363ac"
      },
      "execution_count": 2,
      "outputs": [
        {
          "output_type": "stream",
          "name": "stdout",
          "text": [
            "  Building wheel for adjustText (setup.py) ... \u001b[?25l\u001b[?25hdone\n"
          ]
        }
      ]
    },
    {
      "cell_type": "code",
      "execution_count": 3,
      "metadata": {
        "id": "KVeoQspVcnG7"
      },
      "outputs": [],
      "source": [
        "import zipfile\n",
        "import re\n",
        "import numpy as np\n",
        "import pandas as pd\n",
        "import os\n",
        "import random\n",
        "import tensorflow as tf\n",
        "import matplotlib.pyplot as plt\n",
        "from six.moves.urllib.request import urlretrieve\n",
        "from sklearn.manifold import TSNE\n",
        "from adjustText import adjust_text"
      ]
    },
    {
      "cell_type": "markdown",
      "source": [
        "## **Understanding the data**\n",
        "## Downloading the data"
      ],
      "metadata": {
        "id": "ucCkWo4ceNMa"
      }
    },
    {
      "cell_type": "code",
      "source": [
        "url = 'http://mlg.ucd.ie/files/datasets/bbc-fulltext.zip'\n",
        "\n",
        "def download_data(url, data_dir):\n",
        "  \"\"\"Download a file if not present, and make sure it's the right size.\"\"\"\n",
        "\n",
        "  os.makedirs(data_dir, exist_ok=True)\n",
        "\n",
        "  file_path = os.path.join(data_dir, 'bbc-fulltext.zip')\n",
        "\n",
        "  if not os.path.exists(file_path):\n",
        "    print('Downloading file...')\n",
        "    filename, _ = urlretrieve(url, file_path)\n",
        "  else:\n",
        "    print(\"File already exists\")\n",
        "\n",
        "  extract_path = os.path.join(data_dir, 'bbc')\n",
        "\n",
        "  if not os.path.exists(extract_path):\n",
        "    with zipfile.ZipFile(os.path.join(data_dir, 'bbc-fulltext.zip'), 'r') as zipf:\n",
        "      zipf.extractall(data_dir)\n",
        "  else:\n",
        "    print(\"bbc-fulltext.zip has already been extracted\")\n",
        "\n",
        "\n",
        "download_data(url, 'data')"
      ],
      "metadata": {
        "colab": {
          "base_uri": "https://localhost:8080/"
        },
        "id": "vuImF5Mhc7A6",
        "outputId": "3b692acc-0aa2-4a33-fb74-3a519ca2e1d5"
      },
      "execution_count": 4,
      "outputs": [
        {
          "output_type": "stream",
          "name": "stdout",
          "text": [
            "Downloading file...\n"
          ]
        }
      ]
    },
    {
      "cell_type": "markdown",
      "source": [
        "## Read Data without Preprocessing\n",
        "\n",
        "Reads data as it is to a string and tokenize it using spaces and returns a list of words\n"
      ],
      "metadata": {
        "id": "7Kxvb7_iiO5-"
      }
    },
    {
      "cell_type": "code",
      "source": [
        "def read_data(data_dir):\n",
        "    \n",
        "    # This will contain the full list of stories\n",
        "    news_stories = []\n",
        "    \n",
        "    print(\"Reading files\")\n",
        "    \n",
        "    i = 0 # Just used for printing progress\n",
        "    for root, dirs, files in os.walk(data_dir):\n",
        "        \n",
        "        for fi, f in enumerate(files):\n",
        "            \n",
        "            # We don't read the readme file\n",
        "            if 'README' in f:\n",
        "                continue\n",
        "            \n",
        "            # Printing progress\n",
        "            i += 1\n",
        "            print(\".\"*i, f, end='\\r')\n",
        "            \n",
        "            # Open the file\n",
        "            with open(os.path.join(root, f), encoding='latin-1') as f:\n",
        "                \n",
        "                story = []\n",
        "                # Read all the lines\n",
        "                for row in f:\n",
        "                                        \n",
        "                    story.append(row.strip())\n",
        "                    \n",
        "                # Create a single string with all the rows in the doc\n",
        "                story = ' '.join(story)                        \n",
        "                # Add that to the list\n",
        "                news_stories.append(story)  \n",
        "                \n",
        "        print('', end='\\r')\n",
        "        \n",
        "    print(f\"\\nDetected {len(news_stories)} stories\")\n",
        "    return news_stories\n",
        "                \n",
        "  \n",
        "news_stories = read_data(os.path.join('data', 'bbc'))\n",
        "\n",
        "# Printing some stats and sample data\n",
        "print(f\"{sum([len(story.split(' ')) for story in news_stories])} words found in the total news set\")\n",
        "print('Example words (start): ',news_stories[0][:50])\n",
        "print('Example words (end): ',news_stories[-1][-50:])"
      ],
      "metadata": {
        "colab": {
          "base_uri": "https://localhost:8080/"
        },
        "id": "eZv80_jAiPkv",
        "outputId": "ce192adb-47f9-4efc-cc7b-84cb7128e00a"
      },
      "execution_count": 5,
      "outputs": [
        {
          "output_type": "stream",
          "name": "stdout",
          "text": [
            "Reading files\n",
            "................................................................................................................................................................................................................................................................................................................................................................................................................................................................................................................................................................................................................................................................................................................................................................................................................................................................................................................................................................................................................................................................................................................................................................................................................................................................................................................................................................................................................................................................................................................................................................................................................................................................................................................................................................................................................................................................................................................................................................................................................................................................................................................................................................................................................................................................................................................. 163.txt\n",
            "Detected 2225 stories\n",
            "865163 words found in the total news set\n",
            "Example words (start):  Real will finish abandoned match  Real Madrid and \n",
            "Example words (end):  nt\" and they cannot be copied for commercial gain.\n"
          ]
        }
      ]
    },
    {
      "cell_type": "markdown",
      "source": [
        "## **Build a Tokenizer**"
      ],
      "metadata": {
        "id": "C428587GjKe-"
      }
    },
    {
      "cell_type": "code",
      "source": [
        "from tensorflow.keras.preprocessing.text import Tokenizer\n",
        "\n",
        "tokenizer = Tokenizer(\n",
        "    num_words=None,\n",
        "    filters='!\"#$%&()*+,-./:;<=>?@[\\\\]^_`{|}~\\t\\n',\n",
        "    lower=True,\n",
        "    split=' ',\n",
        ")\n",
        "\n",
        "tokenizer.fit_on_texts(news_stories)\n",
        "print(\"Data fitted on the tokenizer\")"
      ],
      "metadata": {
        "colab": {
          "base_uri": "https://localhost:8080/"
        },
        "id": "wLuYmx6RiYGB",
        "outputId": "d1d87abb-f583-4d15-c87c-8c63d8a39fb7"
      },
      "execution_count": 6,
      "outputs": [
        {
          "output_type": "stream",
          "name": "stdout",
          "text": [
            "Data fitted on the tokenizer\n"
          ]
        }
      ]
    },
    {
      "cell_type": "markdown",
      "source": [
        "## Exploring the tokenizer"
      ],
      "metadata": {
        "id": "6GXMDjezmevu"
      }
    },
    {
      "cell_type": "code",
      "source": [
        "n_vocab = len(tokenizer.word_index.items()) + 1\n",
        "print(f\"Vocabulary size: {n_vocab}\")\n",
        "\n",
        "print(\"\\nWords at the top\")\n",
        "print('\\t', dict(list(tokenizer.word_index.items())[:10]))\n",
        "print(\"\\nWords at the bottom\")\n",
        "print('\\t', dict(list(tokenizer.word_index.items())[-10:]))"
      ],
      "metadata": {
        "colab": {
          "base_uri": "https://localhost:8080/"
        },
        "id": "6I0o0kEQkB25",
        "outputId": "fadfd9d0-d1da-4f91-91d5-f885db17a2e5"
      },
      "execution_count": 7,
      "outputs": [
        {
          "output_type": "stream",
          "name": "stdout",
          "text": [
            "Vocabulary size: 32360\n",
            "\n",
            "Words at the top\n",
            "\t {'the': 1, 'to': 2, 'of': 3, 'and': 4, 'a': 5, 'in': 6, 'for': 7, 'is': 8, 'that': 9, 'on': 10}\n",
            "\n",
            "Words at the bottom\n",
            "\t {'shefrin': 32350, 'holly': 32351, 'frankin': 32352, 'bloopers': 32353, \"tabloids'\": 32354, 'scrapbook': 32355, 'souvenir': 32356, 'stepdaughter': 32357, 'ass': 32358, 'saver': 32359}\n"
          ]
        }
      ]
    },
    {
      "cell_type": "markdown",
      "source": [
        "## Build a Tokenizer (Refined)\n",
        "\n",
        "Here, we will restrict the vocabulary to 15000 and eleminate words except the first most common 15000 words\n"
      ],
      "metadata": {
        "id": "zhzaGOU7nud5"
      }
    },
    {
      "cell_type": "code",
      "source": [
        "from tensorflow.keras.preprocessing.text import Tokenizer\n",
        "\n",
        "\n",
        "n_vocab = 15000 + 1\n",
        "tokenizer = Tokenizer(\n",
        "    num_words=n_vocab-1,\n",
        "    lower=True,\n",
        "    split=' ',\n",
        "    oov_token=''\n",
        ")\n",
        "\n",
        "tokenizer.fit_on_texts(news_stories)\n",
        "print(\"Data fitted on the tokenizer\")"
      ],
      "metadata": {
        "colab": {
          "base_uri": "https://localhost:8080/"
        },
        "id": "ua0OPWZQnCyy",
        "outputId": "5c455861-2b9d-4113-b1e4-0a420cc60733"
      },
      "execution_count": 11,
      "outputs": [
        {
          "output_type": "stream",
          "name": "stdout",
          "text": [
            "Data fitted on the tokenizer\n"
          ]
        }
      ]
    },
    {
      "cell_type": "markdown",
      "source": [
        "## Checking the results of the tokenizer"
      ],
      "metadata": {
        "id": "N4m8zZ7ypt_U"
      }
    },
    {
      "cell_type": "code",
      "source": [
        "print(f\"Original: {news_stories[0][:100]}\")\n",
        "print(f\"Sequence IDs: {tokenizer.texts_to_sequences([news_stories[0][:100]])[0]}\")"
      ],
      "metadata": {
        "colab": {
          "base_uri": "https://localhost:8080/"
        },
        "id": "ATQVrRsXpuzB",
        "outputId": "71cf4795-b650-44ca-fc38-24d87acf58f7"
      },
      "execution_count": 12,
      "outputs": [
        {
          "output_type": "stream",
          "name": "stdout",
          "text": [
            "Original: Real will finish abandoned match  Real Madrid and Real Socieded will play the final six minutes of t\n",
            "Sequence IDs: [286, 23, 1881, 4501, 328, 286, 1076, 5, 286, 1, 23, 153, 2, 253, 191, 495, 4, 1360]\n"
          ]
        }
      ]
    },
    {
      "cell_type": "markdown",
      "source": [
        "**Converting all articles to word ID sequences**"
      ],
      "metadata": {
        "id": "ClBK_N0bqfAc"
      }
    },
    {
      "cell_type": "code",
      "source": [
        "news_sequences = tokenizer.texts_to_sequences(news_stories)"
      ],
      "metadata": {
        "id": "bqV5PZ2Pp78_"
      },
      "execution_count": 13,
      "outputs": []
    },
    {
      "cell_type": "markdown",
      "source": [
        "## **Generating skip-grams from the corpus**\n",
        "\n",
        "In TensorFlow you have the convenient `tf.keras.preprocessing.sequence.skipgrams()` function to generate skipgrams.\n"
      ],
      "metadata": {
        "id": "hEDZmb2PuCOP"
      }
    },
    {
      "cell_type": "code",
      "source": [
        "news_sequences[0][:5]"
      ],
      "metadata": {
        "colab": {
          "base_uri": "https://localhost:8080/"
        },
        "id": "UqbRiNQnqkXe",
        "outputId": "9469d870-7ed6-44b8-cda8-939fbe65711c"
      },
      "execution_count": 17,
      "outputs": [
        {
          "output_type": "execute_result",
          "data": {
            "text/plain": [
              "[286, 23, 1881, 4501, 328]"
            ]
          },
          "metadata": {},
          "execution_count": 17
        }
      ]
    },
    {
      "cell_type": "code",
      "source": [
        "sample_word_ids = news_sequences[0][:5]\n",
        "sample_phrase = ' '.join([tokenizer.index_word[wid] for wid in sample_word_ids])\n",
        "print(f\"Sample phrase: {sample_phrase}\")\n",
        "print(f\"Sample word IDs: {sample_word_ids}\\n\")\n",
        "\n",
        "window_size = 1 # How many words to consider left and right.\n",
        "\n",
        "inputs, labels = tf.keras.preprocessing.sequence.skipgrams(\n",
        "    sample_word_ids, \n",
        "    vocabulary_size=n_vocab, \n",
        "    window_size=window_size, negative_samples=1.0, shuffle=False,\n",
        "    categorical=False, sampling_table=None, seed=None\n",
        ")\n",
        "\n",
        "\n",
        "print(\"Sample skip-grams\")\n",
        "\n",
        "for inp, lbl in zip(inputs, labels):\n",
        "    print(f\"\\tInput: {inp} ({[tokenizer.index_word[wi] for wi in inp]}) / Label: {lbl}\")"
      ],
      "metadata": {
        "colab": {
          "base_uri": "https://localhost:8080/"
        },
        "id": "F9BAUE6dvP53",
        "outputId": "d7202e8c-f412-4827-9ebe-602cda7c2d49"
      },
      "execution_count": 18,
      "outputs": [
        {
          "output_type": "stream",
          "name": "stdout",
          "text": [
            "Sample phrase: real will finish abandoned match\n",
            "Sample word IDs: [286, 23, 1881, 4501, 328]\n",
            "\n",
            "Sample skip-grams\n",
            "\tInput: [286, 23] (['real', 'will']) / Label: 1\n",
            "\tInput: [23, 286] (['will', 'real']) / Label: 1\n",
            "\tInput: [23, 1881] (['will', 'finish']) / Label: 1\n",
            "\tInput: [1881, 23] (['finish', 'will']) / Label: 1\n",
            "\tInput: [1881, 4501] (['finish', 'abandoned']) / Label: 1\n",
            "\tInput: [4501, 1881] (['abandoned', 'finish']) / Label: 1\n",
            "\tInput: [4501, 328] (['abandoned', 'match']) / Label: 1\n",
            "\tInput: [328, 4501] (['match', 'abandoned']) / Label: 1\n",
            "\tInput: [4501, 13729] (['abandoned', \"cameroon's\"]) / Label: 0\n",
            "\tInput: [1881, 5840] (['finish', 'housewives']) / Label: 0\n",
            "\tInput: [23, 7357] (['will', 'advances']) / Label: 0\n",
            "\tInput: [1881, 13328] (['finish', 'barnes']) / Label: 0\n",
            "\tInput: [328, 6533] (['match', 'betamax']) / Label: 0\n",
            "\tInput: [286, 6115] (['real', 'sells']) / Label: 0\n",
            "\tInput: [4501, 9146] (['abandoned', 'ginepri']) / Label: 0\n",
            "\tInput: [23, 11943] (['will', 'discovering']) / Label: 0\n"
          ]
        }
      ]
    },
    {
      "cell_type": "markdown",
      "source": [
        "\n",
        "## Generating negative candidates\n",
        "\n",
        "Word2vec algorithms rely on negative candidates to understand words that do not appear in the context of a given target word.\n"
      ],
      "metadata": {
        "id": "aWGjunZWyI3q"
      }
    },
    {
      "cell_type": "code",
      "source": [
        "inputs, labels = tf.keras.preprocessing.sequence.skipgrams(\n",
        "    sample_word_ids, \n",
        "    vocabulary_size=len(tokenizer.word_index.items())+1, \n",
        "    window_size=window_size, negative_samples=0, shuffle=False,    \n",
        ")\n",
        "\n",
        "inputs, labels = np.array(inputs), np.array(labels)\n",
        "\n",
        "negative_sampling_candidates, true_expected_count, sampled_expected_count = tf.random.log_uniform_candidate_sampler(\n",
        "    # A true context word that appears in the context of the target\n",
        "    true_classes=inputs[:1,1:], # [b, 1] sized tensor\n",
        "    num_true=1, # number of true words per example\n",
        "    num_sampled=10,\n",
        "    unique=True,\n",
        "    range_max=n_vocab,            \n",
        "    name=\"negative_sampling\"\n",
        ")\n",
        "\n",
        "print(f\"Positive sample: {inputs[:1,1:]}\")\n",
        "print(f\"Negative samples: {negative_sampling_candidates}\")\n",
        "print(f\"true_expected_count: {true_expected_count}\")\n",
        "print(f\"sampled_expected_count: {sampled_expected_count}\")"
      ],
      "metadata": {
        "colab": {
          "base_uri": "https://localhost:8080/"
        },
        "id": "BVittDQMv6SB",
        "outputId": "afc2520f-85fc-4684-ffad-eecf531d9385"
      },
      "execution_count": 19,
      "outputs": [
        {
          "output_type": "stream",
          "name": "stdout",
          "text": [
            "Positive sample: [[23]]\n",
            "Negative samples: [  44  832  819  226    1   32    9 2025   23    0]\n",
            "true_expected_count: [[0.04571897]]\n",
            "sampled_expected_count: [0.02485704 0.00137159 0.00139331 0.00501681 0.37742305 0.03362463\n",
            " 0.1037828  0.00056434 0.04571897 0.5608634 ]\n"
          ]
        }
      ]
    },
    {
      "cell_type": "markdown",
      "source": [
        "**`Using tf.nn.sampled_softmax_loss()`**"
      ],
      "metadata": {
        "id": "wC-S8g7fzzHL"
      }
    },
    {
      "cell_type": "code",
      "source": [
        "sampling_table = tf.keras.preprocessing.sequence.make_sampling_table(n_vocab, sampling_factor=1e-05)\n",
        "\n",
        "print(sampling_table)"
      ],
      "metadata": {
        "colab": {
          "base_uri": "https://localhost:8080/"
        },
        "id": "RaQMC9bPy39v",
        "outputId": "145b3ebb-c2b4-492e-9e78-02f95b192551"
      },
      "execution_count": 20,
      "outputs": [
        {
          "output_type": "stream",
          "name": "stdout",
          "text": [
            "[0.00315225 0.00315225 0.00547597 ... 1.         1.         1.        ]\n"
          ]
        }
      ]
    },
    {
      "cell_type": "markdown",
      "source": [
        "## Generating data (positive + negative candidates)"
      ],
      "metadata": {
        "id": "AEIB9azG0BMH"
      }
    },
    {
      "cell_type": "code",
      "source": [
        "def skip_gram_data_generator(sequences, window_size, batch_size, negative_samples, vocab_size, seed=None):\n",
        "    \n",
        "    rand_sequence_ids = np.arange(len(sequences))                    \n",
        "    np.random.shuffle(rand_sequence_ids)\n",
        "\n",
        "\n",
        "    for si in rand_sequence_ids:\n",
        "        \n",
        "        positive_skip_grams, _ = tf.keras.preprocessing.sequence.skipgrams(\n",
        "            sequences[si], \n",
        "            vocabulary_size=vocab_size, \n",
        "            window_size=window_size, \n",
        "            negative_samples=0.0, \n",
        "            shuffle=False,\n",
        "            sampling_table=sampling_table,\n",
        "            seed=seed\n",
        "        )\n",
        "        \n",
        "        targets, contexts, labels = [], [], []\n",
        "        \n",
        "        for target_word, context_word in positive_skip_grams:\n",
        "            context_class = tf.expand_dims(tf.constant([context_word], dtype=\"int64\"), 1)\n",
        "            \n",
        "            negative_sampling_candidates, _, _ = tf.random.log_uniform_candidate_sampler(\n",
        "              true_classes=context_class,\n",
        "              num_true=1,\n",
        "              num_sampled=negative_samples,\n",
        "              unique=True,\n",
        "              range_max=vocab_size,              \n",
        "              name=\"negative_sampling\")\n",
        "\n",
        "            # Build context and label vectors (for one target word)\n",
        "            context = tf.concat(\n",
        "                [tf.constant([context_word], dtype='int64'), negative_sampling_candidates],\n",
        "                axis=0\n",
        "            )\n",
        "            \n",
        "            label = tf.constant([1] + [0]*negative_samples, dtype=\"int64\")\n",
        "\n",
        "            # Append each element from the training example to global lists.\n",
        "            targets.extend([target_word]*(negative_samples+1))\n",
        "            contexts.append(context)\n",
        "            labels.append(label)\n",
        "\n",
        "        contexts, targets, labels = np.concatenate(contexts), np.array(targets), np.concatenate(labels)\n",
        "        \n",
        "        assert contexts.shape[0] == targets.shape[0]\n",
        "        assert contexts.shape[0] == labels.shape[0]\n",
        "        \n",
        "        # If seed is not provided generate a random one\n",
        "        if not seed:\n",
        "            seed = random.randint(0, 10e6)\n",
        "            \n",
        "        np.random.seed(seed)\n",
        "        np.random.shuffle(contexts)\n",
        "        np.random.seed(seed)\n",
        "        np.random.shuffle(targets)\n",
        "        np.random.seed(seed)\n",
        "        np.random.shuffle(labels)\n",
        "        \n",
        "    \n",
        "        for eg_id_start in range(0, contexts.shape[0], batch_size):            \n",
        "            yield (\n",
        "                targets[eg_id_start: min(eg_id_start+batch_size, targets.shape[0])], \n",
        "                contexts[eg_id_start: min(eg_id_start+batch_size, contexts.shape[0])]\n",
        "            ), labels[eg_id_start: min(eg_id_start+batch_size, labels.shape[0])]\n",
        "\n",
        "\n",
        "news_skip_gram_gen = skip_gram_data_generator(\n",
        "    news_sequences, 4, 10, 5, n_vocab\n",
        ")\n",
        "\n",
        "for btc, bl in news_skip_gram_gen:\n",
        "    \n",
        "    print(btc)\n",
        "    print(bl)\n",
        "    \n",
        "    break"
      ],
      "metadata": {
        "colab": {
          "base_uri": "https://localhost:8080/"
        },
        "id": "2Oa_5hqbz6fv",
        "outputId": "c098c306-4a2a-467e-eb27-76cb15697cc1"
      },
      "execution_count": 21,
      "outputs": [
        {
          "output_type": "stream",
          "name": "stdout",
          "text": [
            "(array([12058, 12058,    54,    54,   242,  3124,  4353,  3272,  1839,\n",
            "         249]), array([   1,  130,  188,  461, 1046,   42,   69,    0,  313, 1522]))\n",
            "[0 0 0 1 0 0 0 0 0 0]\n"
          ]
        }
      ]
    },
    {
      "cell_type": "markdown",
      "source": [
        "\n",
        "# Skip-Gram Algorithm\n",
        "## Defining Hyperparameters\n",
        "\n",
        "Here we define several hyperparameters including `batch_size` (amount of samples in a single batch) `embedding_size` (size of embedding vectors) `window_size` (context window size).\n"
      ],
      "metadata": {
        "id": "tdcAZ4Wi2GIz"
      }
    },
    {
      "cell_type": "code",
      "source": [
        "batch_size = 4096 # Data points in a single batch\n",
        "\n",
        "embedding_size = 128 # Dimension of the embedding vector.\n",
        "\n",
        "window_size=1 # We use a window size of n on either side of target word\n",
        "negative_samples = 4 # Number of negative samples generated per example\n",
        "\n",
        "epochs = 5 # Number of epochs to train for\n",
        "\n",
        "# We pick a random validation set to sample nearest neighbors\n",
        "valid_size = 16 # Random set of words to evaluate similarity on.\n",
        "# We sample valid datapoints randomly from a large window without always being deterministic\n",
        "valid_window = 250\n",
        "\n",
        "# When selecting valid examples, we select some of the most frequent words as well as\n",
        "# some moderately rare words as well\n",
        "np.random.seed(54321)\n",
        "random.seed(54321)\n",
        "\n",
        "valid_term_ids = np.array(random.sample(range(valid_window), valid_size))\n",
        "valid_term_ids = np.append(\n",
        "    valid_term_ids, random.sample(range(1000, 1000+valid_window), valid_size),\n",
        "    axis=0\n",
        ")"
      ],
      "metadata": {
        "id": "mRpW7Ox10ImR"
      },
      "execution_count": 22,
      "outputs": []
    },
    {
      "cell_type": "markdown",
      "source": [
        "# Defining the Model\n",
        "\n",
        "Here we will define the skip-gram model. It contains two embedding layers; context and target embeddings. The final output is computed as the dot product between the corresponding lookups from the context and target embeddings for a given batch of context and target words.\n",
        "\n",
        "\n",
        "![03_07.png](data:image/png;base64,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)"
      ],
      "metadata": {
        "id": "DclKGU-J2mG9"
      }
    },
    {
      "cell_type": "code",
      "source": [
        "import tensorflow.keras.backend as K\n",
        "\n",
        "K.clear_session()\n",
        "\n",
        "# Inputs - skipgrams() function outputs target, context in that order\n",
        "# we will use the same order\n",
        "input_1 = tf.keras.layers.Input(shape=(), name='target')\n",
        "input_2 = tf.keras.layers.Input(shape=(), name='context')\n",
        "\n",
        "# Two embeddings layers are used one for the context and one for the target\n",
        "context_embedding_layer = tf.keras.layers.Embedding(\n",
        "    input_dim=n_vocab, output_dim=embedding_size, name='context_embedding'\n",
        ")\n",
        "target_embedding_layer = tf.keras.layers.Embedding(\n",
        "    input_dim=n_vocab, output_dim=embedding_size, name='target_embedding'\n",
        ")\n",
        "\n",
        "# Lookup outputs of the embedding layers\n",
        "target_out = target_embedding_layer(input_1)\n",
        "context_out = context_embedding_layer(input_2)\n",
        "\n",
        "# Computing the dot product between the two \n",
        "out = tf.keras.layers.Dot(axes=-1)([context_out, target_out])\n",
        "\n",
        "# Defining the model\n",
        "skip_gram_model = tf.keras.models.Model(inputs=[input_1, input_2], outputs=out, name='skip_gram_model')\n",
        "\n",
        "# Compiling the model\n",
        "skip_gram_model.compile(\n",
        "    loss=tf.keras.losses.BinaryCrossentropy(from_logits=True), \n",
        "    optimizer='adam'\n",
        ")\n",
        "\n",
        "skip_gram_model.summary()"
      ],
      "metadata": {
        "colab": {
          "base_uri": "https://localhost:8080/"
        },
        "id": "8pxm527h2WQG",
        "outputId": "c08eb96e-99e0-471d-af37-2ea2bef6c272"
      },
      "execution_count": 23,
      "outputs": [
        {
          "output_type": "stream",
          "name": "stdout",
          "text": [
            "Model: \"skip_gram_model\"\n",
            "__________________________________________________________________________________________________\n",
            " Layer (type)                   Output Shape         Param #     Connected to                     \n",
            "==================================================================================================\n",
            " context (InputLayer)           [(None,)]            0           []                               \n",
            "                                                                                                  \n",
            " target (InputLayer)            [(None,)]            0           []                               \n",
            "                                                                                                  \n",
            " context_embedding (Embedding)  (None, 128)          1920128     ['context[0][0]']                \n",
            "                                                                                                  \n",
            " target_embedding (Embedding)   (None, 128)          1920128     ['target[0][0]']                 \n",
            "                                                                                                  \n",
            " dot (Dot)                      (None, 1)            0           ['context_embedding[0][0]',      \n",
            "                                                                  'target_embedding[0][0]']       \n",
            "                                                                                                  \n",
            "==================================================================================================\n",
            "Total params: 3,840,256\n",
            "Trainable params: 3,840,256\n",
            "Non-trainable params: 0\n",
            "__________________________________________________________________________________________________\n"
          ]
        }
      ]
    },
    {
      "cell_type": "code",
      "source": [],
      "metadata": {
        "id": "VX72RClM4_90"
      },
      "execution_count": null,
      "outputs": []
    }
  ]
}