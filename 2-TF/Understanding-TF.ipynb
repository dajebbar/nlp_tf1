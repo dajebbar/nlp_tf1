{
 "cells": [
  {
   "cell_type": "code",
   "execution_count": 5,
   "id": "ec9fbdf5",
   "metadata": {},
   "outputs": [],
   "source": [
    "import numpy as np\n",
    "import tensorflow as tf\n",
    "import warnings\n",
    "warnings.filterwarnings(\"ignore\")"
   ]
  },
  {
   "cell_type": "markdown",
   "id": "4c183f67",
   "metadata": {},
   "source": [
    "# Sigmoid example"
   ]
  },
  {
   "cell_type": "code",
   "execution_count": 6,
   "id": "7b2962f2",
   "metadata": {},
   "outputs": [],
   "source": [
    "@tf.function\n",
    "def layer(x, W, b):\n",
    "    # building the graph\n",
    "    return tf.math.sigmoid(tf.matmul(x, W) + b)"
   ]
  },
  {
   "cell_type": "code",
   "execution_count": 7,
   "id": "f6f86da8",
   "metadata": {},
   "outputs": [],
   "source": [
    "x = np.array([[0, 0.1, 0.2, 0.3, 0.4, 0.5, 0.6, 0.7, 0.8, 0.9]], dtype=np.float32)\n",
    "\n",
    "init_w = tf.initializers.RandomUniform(minval=-.1, maxval=.1)(shape=[10,5])\n",
    "W = tf.Variable(init_w, dtype=tf.float32, name='W')\n",
    "\n",
    "init_b = tf.initializers.RandomUniform()(shape=[5])\n",
    "b = tf.Variable(init_b, dtype=tf.float32, name='b')\n",
    "\n",
    "h = layer(x, W, b)"
   ]
  },
  {
   "cell_type": "code",
   "execution_count": 8,
   "id": "65a5e700",
   "metadata": {},
   "outputs": [
    {
     "name": "stdout",
     "output_type": "stream",
     "text": [
      "h: [[0.5018517  0.49334908 0.50805944 0.44643217 0.46883595]]\n"
     ]
    }
   ],
   "source": [
    "print(f\"h: {h.numpy()}\")"
   ]
  },
  {
   "cell_type": "markdown",
   "id": "51070a55",
   "metadata": {},
   "source": [
    "# Defining Inputs\n",
    "3 different way to feed data to tf program:\n",
    "- as np array\n",
    "- as tf tensors\n",
    "- using `tf.data` **API** to create an input *pipeline*\n",
    "\n"
   ]
  },
  {
   "cell_type": "code",
   "execution_count": 10,
   "id": "70df58bb",
   "metadata": {},
   "outputs": [],
   "source": [
    "# feeding data as tensor\n",
    "x = tf.constant(\n",
    "    [[0.1,0.2,0.3,0.4,0.5,0.6,0.7,0.8,0.9,1.0]], \n",
    "    dtype=tf.float32,\n",
    "    name=\"x\"\n",
    ")\n",
    "\n",
    "init_w = tf.initializers.RandomUniform(minval=-.1, maxval=.1)(shape=[10,5])\n",
    "W = tf.Variable(init_w, dtype=tf.float32, name='W')\n",
    "\n",
    "init_b = tf.initializers.RandomUniform()(shape=[5])\n",
    "b = tf.Variable(init_b, dtype=tf.float32, name='b')\n",
    "\n",
    "h = layer(x, W, b)"
   ]
  },
  {
   "cell_type": "code",
   "execution_count": 11,
   "id": "e2e9e9fc",
   "metadata": {},
   "outputs": [
    {
     "name": "stdout",
     "output_type": "stream",
     "text": [
      "h: [[0.44630384 0.49760556 0.48088944 0.5210194  0.5187529 ]]\n",
      "type: <class 'tensorflow.python.framework.ops.EagerTensor'>\n"
     ]
    }
   ],
   "source": [
    "print(f\"h: {h.numpy()}\")\n",
    "print(f\"type: {type(h)}\")"
   ]
  },
  {
   "cell_type": "code",
   "execution_count": 29,
   "id": "255a0ead",
   "metadata": {},
   "outputs": [],
   "source": [
    "# tf.data api\n",
    "filenames = [f\"./iris.data.{i}\" for i in range(1,4)]\n",
    "\n",
    "dataset = tf.data.experimental.CsvDataset(\n",
    "    filenames,\n",
    "    [\n",
    "        tf.float32,\n",
    "        tf.float32,\n",
    "        tf.float32,\n",
    "        tf.float32,\n",
    "        tf.string,\n",
    "    ]\n",
    ")\n",
    "\n",
    "# organize our data into inputs and labels\n",
    "dataset = dataset.map(lambda x1,x2,x3,x4,y: (tf.stack([x1,x2,x3,x4]), y))"
   ]
  },
  {
   "cell_type": "code",
   "execution_count": 30,
   "id": "cddd06d0",
   "metadata": {},
   "outputs": [
    {
     "name": "stdout",
     "output_type": "stream",
     "text": [
      "(corrupted) X => [ 5.8 -4.   1.2  0.2]\tY => Iris-setosa\n",
      "(corrupted) X => [ 4.6  3.6 -1.   0.2]\tY => Iris-setosa\n",
      "(corrupted) X => [ 4.7 -3.2  1.6  0.2]\tY => Iris-setosa\n",
      "(corrupted) X => [-5.   3.5  1.3  0.3]\tY => Iris-setosa\n",
      "(corrupted) X => [-5.1  3.8  1.6  0.2]\tY => Iris-setosa\n",
      "(corrupted) X => [ 6.9 -3.1  4.9  1.5]\tY => Iris-versicolor\n",
      "(corrupted) X => [-5.2  2.7  3.9  1.4]\tY => Iris-versicolor\n",
      "(corrupted) X => [ 5.8  2.7  4.1 -1. ]\tY => Iris-versicolor\n",
      "(corrupted) X => [ 6.1 -2.8  4.7  1.2]\tY => Iris-versicolor\n",
      "(corrupted) X => [ 5.4  3.  -4.5  1.5]\tY => Iris-versicolor\n",
      "(corrupted) X => [ 7.1 -3.   5.9  2.1]\tY => Iris-virginica\n",
      "(corrupted) X => [ 5.7  2.5  5.  -2. ]\tY => Iris-virginica\n",
      "(corrupted) X => [-6.   2.2  5.   1.5]\tY => Iris-virginica\n",
      "(corrupted) X => [ 7.2 -3.2  6.   1.8]\tY => Iris-virginica\n",
      "(corrupted) X => [ 6.1  2.6  5.6 -1.4]\tY => Iris-virginica\n"
     ]
    }
   ],
   "source": [
    "for next_element in dataset:\n",
    "    x, y = next_element[0].numpy(), next_element[1].numpy().decode(\"ascii\")\n",
    "    if np.min(x) < .0:\n",
    "        print(f\"(corrupted) X => {x}\\tY => {y}\")"
   ]
  },
  {
   "cell_type": "code",
   "execution_count": 31,
   "id": "d5374ae2",
   "metadata": {},
   "outputs": [],
   "source": [
    "dataset = dataset.filter(lambda x, y: tf.reduce_min(x) > 0)"
   ]
  },
  {
   "cell_type": "code",
   "execution_count": 32,
   "id": "9e872d81",
   "metadata": {},
   "outputs": [
    {
     "name": "stdout",
     "output_type": "stream",
     "text": [
      "x.shape = (5, 4), y.shape = (5,)\n"
     ]
    }
   ],
   "source": [
    "batch_size = 5\n",
    "dataset = dataset.batch(batch_size=batch_size)\n",
    "for next_element in dataset:\n",
    "    x, y = next_element[0].numpy(), next_element[1].numpy()    \n",
    "    print(f\"x.shape = {x.shape}, y.shape = {y.shape}\")\n",
    "    break"
   ]
  },
  {
   "cell_type": "code",
   "execution_count": 27,
   "id": "d596f8ee",
   "metadata": {},
   "outputs": [
    {
     "data": {
      "text/plain": [
       "(4,)"
      ]
     },
     "execution_count": 27,
     "metadata": {},
     "output_type": "execute_result"
    }
   ],
   "source": [
    "x.shape"
   ]
  },
  {
   "cell_type": "code",
   "execution_count": null,
   "id": "d453267c",
   "metadata": {},
   "outputs": [],
   "source": []
  }
 ],
 "metadata": {
  "kernelspec": {
   "display_name": "Python 3 (ipykernel)",
   "language": "python",
   "name": "python3"
  },
  "language_info": {
   "codemirror_mode": {
    "name": "ipython",
    "version": 3
   },
   "file_extension": ".py",
   "mimetype": "text/x-python",
   "name": "python",
   "nbconvert_exporter": "python",
   "pygments_lexer": "ipython3",
   "version": "3.9.12"
  }
 },
 "nbformat": 4,
 "nbformat_minor": 5
}
