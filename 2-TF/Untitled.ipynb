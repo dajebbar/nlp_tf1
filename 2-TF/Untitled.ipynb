{
 "cells": [
  {
   "cell_type": "code",
   "execution_count": 5,
   "id": "5e501b07",
   "metadata": {},
   "outputs": [],
   "source": [
    "import numpy as np\n",
    "import tensorflow as tf\n",
    "import warnings\n",
    "warnings.filterwarnings(\"ignore\")"
   ]
  },
  {
   "cell_type": "markdown",
   "id": "37be45e5",
   "metadata": {},
   "source": [
    "# Sigmoid example"
   ]
  },
  {
   "cell_type": "code",
   "execution_count": 6,
   "id": "9190f202",
   "metadata": {},
   "outputs": [],
   "source": [
    "@tf.function\n",
    "def layer(x, W, b):\n",
    "    # building the graph\n",
    "    return tf.math.sigmoid(tf.matmul(x, W) + b)"
   ]
  },
  {
   "cell_type": "code",
   "execution_count": 7,
   "id": "2217ada2",
   "metadata": {},
   "outputs": [],
   "source": [
    "x = np.array([[0, 0.1, 0.2, 0.3, 0.4, 0.5, 0.6, 0.7, 0.8, 0.9]], dtype=np.float32)\n",
    "\n",
    "init_w = tf.initializers.RandomUniform(minval=-.1, maxval=.1)(shape=[10,5])\n",
    "W = tf.Variable(init_w, dtype=tf.float32, name='W')\n",
    "\n",
    "init_b = tf.initializers.RandomUniform()(shape=[5])\n",
    "b = tf.Variable(init_b, dtype=tf.float32, name='b')\n",
    "\n",
    "h = layer(x, W, b)"
   ]
  },
  {
   "cell_type": "code",
   "execution_count": 8,
   "id": "8a80b828",
   "metadata": {},
   "outputs": [
    {
     "name": "stdout",
     "output_type": "stream",
     "text": [
      "h: [[0.5018517  0.49334908 0.50805944 0.44643217 0.46883595]]\n"
     ]
    }
   ],
   "source": [
    "print(f\"h: {h.numpy()}\")"
   ]
  },
  {
   "cell_type": "code",
   "execution_count": null,
   "id": "b9274339",
   "metadata": {},
   "outputs": [],
   "source": []
  }
 ],
 "metadata": {
  "kernelspec": {
   "display_name": "Python 3 (ipykernel)",
   "language": "python",
   "name": "python3"
  },
  "language_info": {
   "codemirror_mode": {
    "name": "ipython",
    "version": 3
   },
   "file_extension": ".py",
   "mimetype": "text/x-python",
   "name": "python",
   "nbconvert_exporter": "python",
   "pygments_lexer": "ipython3",
   "version": "3.9.12"
  }
 },
 "nbformat": 4,
 "nbformat_minor": 5
}
