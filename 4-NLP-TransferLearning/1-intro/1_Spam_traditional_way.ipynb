{
  "nbformat": 4,
  "nbformat_minor": 0,
  "metadata": {
    "colab": {
      "provenance": []
    },
    "kernelspec": {
      "name": "python3",
      "display_name": "Python 3"
    },
    "language_info": {
      "name": "python"
    }
  },
  "cells": [
    {
      "cell_type": "code",
      "source": [
        "!pip install opendatasets --quiet"
      ],
      "metadata": {
        "id": "yKkA2TqOo6ZA"
      },
      "execution_count": 2,
      "outputs": []
    },
    {
      "cell_type": "code",
      "execution_count": 30,
      "metadata": {
        "id": "UKIN9d_6owsF"
      },
      "outputs": [],
      "source": [
        "import pandas as pd\n",
        "import numpy as np\n",
        "import opendatasets as od\n",
        "import email\n",
        "import random\n",
        "import os\n",
        "import re\n",
        "import nltk\n",
        "\n",
        "pd.set_option('display.max_colwidth', 300)"
      ]
    },
    {
      "cell_type": "code",
      "source": [
        "url = (\n",
        "    \"https://www.kaggle.com/datasets/wcukierski/enron-email-dataset\"\n",
        ")\n",
        "\n",
        "od.download(url)"
      ],
      "metadata": {
        "colab": {
          "base_uri": "https://localhost:8080/"
        },
        "id": "eh0bGB4rpg_R",
        "outputId": "ff83e57f-db53-48aa-967d-17029554dc4f"
      },
      "execution_count": 4,
      "outputs": [
        {
          "output_type": "stream",
          "name": "stdout",
          "text": [
            "Downloading enron-email-dataset.zip to ./enron-email-dataset\n"
          ]
        },
        {
          "output_type": "stream",
          "name": "stderr",
          "text": [
            "100%|██████████| 358M/358M [00:04<00:00, 79.1MB/s]\n"
          ]
        },
        {
          "output_type": "stream",
          "name": "stdout",
          "text": [
            "\n"
          ]
        }
      ]
    },
    {
      "cell_type": "code",
      "source": [
        "!ls -lh ./enron-email-dataset/"
      ],
      "metadata": {
        "colab": {
          "base_uri": "https://localhost:8080/"
        },
        "id": "K6Zo6TiWp0yt",
        "outputId": "4737c539-beee-4a2a-a955-e623a4ae1c7b"
      },
      "execution_count": 5,
      "outputs": [
        {
          "output_type": "stream",
          "name": "stdout",
          "text": [
            "total 1.4G\n",
            "-rw-r--r-- 1 root root 1.4G Jan  7 09:54 emails.csv\n"
          ]
        }
      ]
    },
    {
      "cell_type": "markdown",
      "source": [
        "# Enron Emails"
      ],
      "metadata": {
        "id": "BmjOfylAwQoa"
      }
    },
    {
      "cell_type": "code",
      "source": [
        "emails = pd.read_csv(\"./enron-email-dataset/emails.csv\")\n",
        "emails.head()"
      ],
      "metadata": {
        "colab": {
          "base_uri": "https://localhost:8080/",
          "height": 206
        },
        "id": "T8cVul9Gp7cW",
        "outputId": "245e70d6-4615-49a3-da82-ead63e867a08"
      },
      "execution_count": 6,
      "outputs": [
        {
          "output_type": "execute_result",
          "data": {
            "text/plain": [
              "                       file                                            message\n",
              "0     allen-p/_sent_mail/1.  Message-ID: <18782981.1075855378110.JavaMail.e...\n",
              "1    allen-p/_sent_mail/10.  Message-ID: <15464986.1075855378456.JavaMail.e...\n",
              "2   allen-p/_sent_mail/100.  Message-ID: <24216240.1075855687451.JavaMail.e...\n",
              "3  allen-p/_sent_mail/1000.  Message-ID: <13505866.1075863688222.JavaMail.e...\n",
              "4  allen-p/_sent_mail/1001.  Message-ID: <30922949.1075863688243.JavaMail.e..."
            ],
            "text/html": [
              "\n",
              "  <div id=\"df-e6e3195b-27b2-4807-99dd-27a363783674\">\n",
              "    <div class=\"colab-df-container\">\n",
              "      <div>\n",
              "<style scoped>\n",
              "    .dataframe tbody tr th:only-of-type {\n",
              "        vertical-align: middle;\n",
              "    }\n",
              "\n",
              "    .dataframe tbody tr th {\n",
              "        vertical-align: top;\n",
              "    }\n",
              "\n",
              "    .dataframe thead th {\n",
              "        text-align: right;\n",
              "    }\n",
              "</style>\n",
              "<table border=\"1\" class=\"dataframe\">\n",
              "  <thead>\n",
              "    <tr style=\"text-align: right;\">\n",
              "      <th></th>\n",
              "      <th>file</th>\n",
              "      <th>message</th>\n",
              "    </tr>\n",
              "  </thead>\n",
              "  <tbody>\n",
              "    <tr>\n",
              "      <th>0</th>\n",
              "      <td>allen-p/_sent_mail/1.</td>\n",
              "      <td>Message-ID: &lt;18782981.1075855378110.JavaMail.e...</td>\n",
              "    </tr>\n",
              "    <tr>\n",
              "      <th>1</th>\n",
              "      <td>allen-p/_sent_mail/10.</td>\n",
              "      <td>Message-ID: &lt;15464986.1075855378456.JavaMail.e...</td>\n",
              "    </tr>\n",
              "    <tr>\n",
              "      <th>2</th>\n",
              "      <td>allen-p/_sent_mail/100.</td>\n",
              "      <td>Message-ID: &lt;24216240.1075855687451.JavaMail.e...</td>\n",
              "    </tr>\n",
              "    <tr>\n",
              "      <th>3</th>\n",
              "      <td>allen-p/_sent_mail/1000.</td>\n",
              "      <td>Message-ID: &lt;13505866.1075863688222.JavaMail.e...</td>\n",
              "    </tr>\n",
              "    <tr>\n",
              "      <th>4</th>\n",
              "      <td>allen-p/_sent_mail/1001.</td>\n",
              "      <td>Message-ID: &lt;30922949.1075863688243.JavaMail.e...</td>\n",
              "    </tr>\n",
              "  </tbody>\n",
              "</table>\n",
              "</div>\n",
              "      <button class=\"colab-df-convert\" onclick=\"convertToInteractive('df-e6e3195b-27b2-4807-99dd-27a363783674')\"\n",
              "              title=\"Convert this dataframe to an interactive table.\"\n",
              "              style=\"display:none;\">\n",
              "        \n",
              "  <svg xmlns=\"http://www.w3.org/2000/svg\" height=\"24px\"viewBox=\"0 0 24 24\"\n",
              "       width=\"24px\">\n",
              "    <path d=\"M0 0h24v24H0V0z\" fill=\"none\"/>\n",
              "    <path d=\"M18.56 5.44l.94 2.06.94-2.06 2.06-.94-2.06-.94-.94-2.06-.94 2.06-2.06.94zm-11 1L8.5 8.5l.94-2.06 2.06-.94-2.06-.94L8.5 2.5l-.94 2.06-2.06.94zm10 10l.94 2.06.94-2.06 2.06-.94-2.06-.94-.94-2.06-.94 2.06-2.06.94z\"/><path d=\"M17.41 7.96l-1.37-1.37c-.4-.4-.92-.59-1.43-.59-.52 0-1.04.2-1.43.59L10.3 9.45l-7.72 7.72c-.78.78-.78 2.05 0 2.83L4 21.41c.39.39.9.59 1.41.59.51 0 1.02-.2 1.41-.59l7.78-7.78 2.81-2.81c.8-.78.8-2.07 0-2.86zM5.41 20L4 18.59l7.72-7.72 1.47 1.35L5.41 20z\"/>\n",
              "  </svg>\n",
              "      </button>\n",
              "      \n",
              "  <style>\n",
              "    .colab-df-container {\n",
              "      display:flex;\n",
              "      flex-wrap:wrap;\n",
              "      gap: 12px;\n",
              "    }\n",
              "\n",
              "    .colab-df-convert {\n",
              "      background-color: #E8F0FE;\n",
              "      border: none;\n",
              "      border-radius: 50%;\n",
              "      cursor: pointer;\n",
              "      display: none;\n",
              "      fill: #1967D2;\n",
              "      height: 32px;\n",
              "      padding: 0 0 0 0;\n",
              "      width: 32px;\n",
              "    }\n",
              "\n",
              "    .colab-df-convert:hover {\n",
              "      background-color: #E2EBFA;\n",
              "      box-shadow: 0px 1px 2px rgba(60, 64, 67, 0.3), 0px 1px 3px 1px rgba(60, 64, 67, 0.15);\n",
              "      fill: #174EA6;\n",
              "    }\n",
              "\n",
              "    [theme=dark] .colab-df-convert {\n",
              "      background-color: #3B4455;\n",
              "      fill: #D2E3FC;\n",
              "    }\n",
              "\n",
              "    [theme=dark] .colab-df-convert:hover {\n",
              "      background-color: #434B5C;\n",
              "      box-shadow: 0px 1px 3px 1px rgba(0, 0, 0, 0.15);\n",
              "      filter: drop-shadow(0px 1px 2px rgba(0, 0, 0, 0.3));\n",
              "      fill: #FFFFFF;\n",
              "    }\n",
              "  </style>\n",
              "\n",
              "      <script>\n",
              "        const buttonEl =\n",
              "          document.querySelector('#df-e6e3195b-27b2-4807-99dd-27a363783674 button.colab-df-convert');\n",
              "        buttonEl.style.display =\n",
              "          google.colab.kernel.accessAllowed ? 'block' : 'none';\n",
              "\n",
              "        async function convertToInteractive(key) {\n",
              "          const element = document.querySelector('#df-e6e3195b-27b2-4807-99dd-27a363783674');\n",
              "          const dataTable =\n",
              "            await google.colab.kernel.invokeFunction('convertToInteractive',\n",
              "                                                     [key], {});\n",
              "          if (!dataTable) return;\n",
              "\n",
              "          const docLinkHtml = 'Like what you see? Visit the ' +\n",
              "            '<a target=\"_blank\" href=https://colab.research.google.com/notebooks/data_table.ipynb>data table notebook</a>'\n",
              "            + ' to learn more about interactive tables.';\n",
              "          element.innerHTML = '';\n",
              "          dataTable['output_type'] = 'display_data';\n",
              "          await google.colab.output.renderOutput(dataTable, element);\n",
              "          const docLink = document.createElement('div');\n",
              "          docLink.innerHTML = docLinkHtml;\n",
              "          element.appendChild(docLink);\n",
              "        }\n",
              "      </script>\n",
              "    </div>\n",
              "  </div>\n",
              "  "
            ]
          },
          "metadata": {},
          "execution_count": 6
        }
      ]
    },
    {
      "cell_type": "code",
      "source": [
        "emails.shape"
      ],
      "metadata": {
        "colab": {
          "base_uri": "https://localhost:8080/"
        },
        "id": "2Jzvu_WtqLYc",
        "outputId": "34b5f23d-8190-4389-a7f0-3fc038c3ac30"
      },
      "execution_count": 7,
      "outputs": [
        {
          "output_type": "execute_result",
          "data": {
            "text/plain": [
              "(517401, 2)"
            ]
          },
          "metadata": {},
          "execution_count": 7
        }
      ]
    },
    {
      "cell_type": "code",
      "source": [
        "print(emails['message'][0])"
      ],
      "metadata": {
        "colab": {
          "base_uri": "https://localhost:8080/"
        },
        "id": "3UVjZvmhqaOM",
        "outputId": "51f38e80-ea41-45cc-f7d7-fe1185b8adc6"
      },
      "execution_count": 9,
      "outputs": [
        {
          "output_type": "stream",
          "name": "stdout",
          "text": [
            "Message-ID: <18782981.1075855378110.JavaMail.evans@thyme>\n",
            "Date: Mon, 14 May 2001 16:39:00 -0700 (PDT)\n",
            "From: phillip.allen@enron.com\n",
            "To: tim.belden@enron.com\n",
            "Subject: \n",
            "Mime-Version: 1.0\n",
            "Content-Type: text/plain; charset=us-ascii\n",
            "Content-Transfer-Encoding: 7bit\n",
            "X-From: Phillip K Allen\n",
            "X-To: Tim Belden <Tim Belden/Enron@EnronXGate>\n",
            "X-cc: \n",
            "X-bcc: \n",
            "X-Folder: \\Phillip_Allen_Jan2002_1\\Allen, Phillip K.\\'Sent Mail\n",
            "X-Origin: Allen-P\n",
            "X-FileName: pallen (Non-Privileged).pst\n",
            "\n",
            "Here is our forecast\n",
            "\n",
            " \n"
          ]
        }
      ]
    },
    {
      "cell_type": "code",
      "source": [
        "# Extract messages\n",
        "def extract_msg(df):\n",
        "  messages = []\n",
        "  for msg in df['message']:\n",
        "    # Return a message object structure from a string\n",
        "    e = email.message_from_string(msg)\n",
        "    # get message body  \n",
        "    msg_body = e.get_payload()\n",
        "    messages.append(msg_body)\n",
        "    \n",
        "  return messages"
      ],
      "metadata": {
        "id": "fBFK4Zf5rvuy"
      },
      "execution_count": 10,
      "outputs": []
    },
    {
      "cell_type": "code",
      "source": [
        "bodies = extract_msg(emails)"
      ],
      "metadata": {
        "id": "Jjuc6JBWuxQt"
      },
      "execution_count": 12,
      "outputs": []
    },
    {
      "cell_type": "code",
      "source": [
        "bodies_df = pd.DataFrame(random.sample(bodies, 10000))\n",
        "bodies_df.head()"
      ],
      "metadata": {
        "colab": {
          "base_uri": "https://localhost:8080/",
          "height": 320
        },
        "id": "vl5xEJJJvGf0",
        "outputId": "875dfd7f-9d12-404e-bfcd-ef975f4146e0"
      },
      "execution_count": 13,
      "outputs": [
        {
          "output_type": "execute_result",
          "data": {
            "text/plain": [
              "                                                                                                                                                                                                                                                                                                             0\n",
              "0                                            Kim:\\n\\n(See attached file: EPECONb BASE.doc)\\n\\nThis is EPE's base gas contract - from the GISB S-T contract model.\\n\\nEPE's lawyer working on the contract with ENRON in 2000 was Mr. Will\\nGuerant\\n at 512-495-8832.\\n\\nThanks,\\n\\nBarry\\n - EPECONb BASE.doc\n",
              "1  What is the status of this?\\n---------------------- Forwarded by Richard B Sanders/HOU/ECT on 09/17/99 \\n12:22 PM ---------------------------\\n\\n\\nDale Snyder\\n09/13/99 03:41 PM\\nTo: Mark J Leskowitz/HOU/ECT@ECT\\ncc: Chad Pennix/HOU/ECT@ECT, Tomas Tellez/HOU/ECT@ECT, Michael \\nPhilips/HOU/ECT@EC...\n",
              "2  Please find attached the final program for an exciting conference on \"REAL\\nOPTIONS VALUATION IN THE NEW ECONOMY: Internet/E-commerce,\\nR&D/Pharmaceuticals, Energy.\" The conference, organised in New York City\\nMarch 13-15 by the Real Options Group and co-sponsored by Ernst & Young\\nLLP, is addre...\n",
              "3                                                                                                                                                                                                                                                                                      Carolyn George - 3-3439\n",
              "4  I think there's probably a lot of truth to the Eric theory.  The retaliatio=\\nn/numbing afforded by using people and tossing them aside can be tempting. =\\n My  mini-rampage after Ted was totally based upon treating any representat=\\nive of Ted's sex like dirt.  Fortunately, my behavior was very..."
            ],
            "text/html": [
              "\n",
              "  <div id=\"df-52282041-b366-4278-94c3-e720c4889cf3\">\n",
              "    <div class=\"colab-df-container\">\n",
              "      <div>\n",
              "<style scoped>\n",
              "    .dataframe tbody tr th:only-of-type {\n",
              "        vertical-align: middle;\n",
              "    }\n",
              "\n",
              "    .dataframe tbody tr th {\n",
              "        vertical-align: top;\n",
              "    }\n",
              "\n",
              "    .dataframe thead th {\n",
              "        text-align: right;\n",
              "    }\n",
              "</style>\n",
              "<table border=\"1\" class=\"dataframe\">\n",
              "  <thead>\n",
              "    <tr style=\"text-align: right;\">\n",
              "      <th></th>\n",
              "      <th>0</th>\n",
              "    </tr>\n",
              "  </thead>\n",
              "  <tbody>\n",
              "    <tr>\n",
              "      <th>0</th>\n",
              "      <td>Kim:\\n\\n(See attached file: EPECONb BASE.doc)\\n\\nThis is EPE's base gas contract - from the GISB S-T contract model.\\n\\nEPE's lawyer working on the contract with ENRON in 2000 was Mr. Will\\nGuerant\\n at 512-495-8832.\\n\\nThanks,\\n\\nBarry\\n - EPECONb BASE.doc</td>\n",
              "    </tr>\n",
              "    <tr>\n",
              "      <th>1</th>\n",
              "      <td>What is the status of this?\\n---------------------- Forwarded by Richard B Sanders/HOU/ECT on 09/17/99 \\n12:22 PM ---------------------------\\n\\n\\nDale Snyder\\n09/13/99 03:41 PM\\nTo: Mark J Leskowitz/HOU/ECT@ECT\\ncc: Chad Pennix/HOU/ECT@ECT, Tomas Tellez/HOU/ECT@ECT, Michael \\nPhilips/HOU/ECT@EC...</td>\n",
              "    </tr>\n",
              "    <tr>\n",
              "      <th>2</th>\n",
              "      <td>Please find attached the final program for an exciting conference on \"REAL\\nOPTIONS VALUATION IN THE NEW ECONOMY: Internet/E-commerce,\\nR&amp;D/Pharmaceuticals, Energy.\" The conference, organised in New York City\\nMarch 13-15 by the Real Options Group and co-sponsored by Ernst &amp; Young\\nLLP, is addre...</td>\n",
              "    </tr>\n",
              "    <tr>\n",
              "      <th>3</th>\n",
              "      <td>Carolyn George - 3-3439</td>\n",
              "    </tr>\n",
              "    <tr>\n",
              "      <th>4</th>\n",
              "      <td>I think there's probably a lot of truth to the Eric theory.  The retaliatio=\\nn/numbing afforded by using people and tossing them aside can be tempting. =\\n My  mini-rampage after Ted was totally based upon treating any representat=\\nive of Ted's sex like dirt.  Fortunately, my behavior was very...</td>\n",
              "    </tr>\n",
              "  </tbody>\n",
              "</table>\n",
              "</div>\n",
              "      <button class=\"colab-df-convert\" onclick=\"convertToInteractive('df-52282041-b366-4278-94c3-e720c4889cf3')\"\n",
              "              title=\"Convert this dataframe to an interactive table.\"\n",
              "              style=\"display:none;\">\n",
              "        \n",
              "  <svg xmlns=\"http://www.w3.org/2000/svg\" height=\"24px\"viewBox=\"0 0 24 24\"\n",
              "       width=\"24px\">\n",
              "    <path d=\"M0 0h24v24H0V0z\" fill=\"none\"/>\n",
              "    <path d=\"M18.56 5.44l.94 2.06.94-2.06 2.06-.94-2.06-.94-.94-2.06-.94 2.06-2.06.94zm-11 1L8.5 8.5l.94-2.06 2.06-.94-2.06-.94L8.5 2.5l-.94 2.06-2.06.94zm10 10l.94 2.06.94-2.06 2.06-.94-2.06-.94-.94-2.06-.94 2.06-2.06.94z\"/><path d=\"M17.41 7.96l-1.37-1.37c-.4-.4-.92-.59-1.43-.59-.52 0-1.04.2-1.43.59L10.3 9.45l-7.72 7.72c-.78.78-.78 2.05 0 2.83L4 21.41c.39.39.9.59 1.41.59.51 0 1.02-.2 1.41-.59l7.78-7.78 2.81-2.81c.8-.78.8-2.07 0-2.86zM5.41 20L4 18.59l7.72-7.72 1.47 1.35L5.41 20z\"/>\n",
              "  </svg>\n",
              "      </button>\n",
              "      \n",
              "  <style>\n",
              "    .colab-df-container {\n",
              "      display:flex;\n",
              "      flex-wrap:wrap;\n",
              "      gap: 12px;\n",
              "    }\n",
              "\n",
              "    .colab-df-convert {\n",
              "      background-color: #E8F0FE;\n",
              "      border: none;\n",
              "      border-radius: 50%;\n",
              "      cursor: pointer;\n",
              "      display: none;\n",
              "      fill: #1967D2;\n",
              "      height: 32px;\n",
              "      padding: 0 0 0 0;\n",
              "      width: 32px;\n",
              "    }\n",
              "\n",
              "    .colab-df-convert:hover {\n",
              "      background-color: #E2EBFA;\n",
              "      box-shadow: 0px 1px 2px rgba(60, 64, 67, 0.3), 0px 1px 3px 1px rgba(60, 64, 67, 0.15);\n",
              "      fill: #174EA6;\n",
              "    }\n",
              "\n",
              "    [theme=dark] .colab-df-convert {\n",
              "      background-color: #3B4455;\n",
              "      fill: #D2E3FC;\n",
              "    }\n",
              "\n",
              "    [theme=dark] .colab-df-convert:hover {\n",
              "      background-color: #434B5C;\n",
              "      box-shadow: 0px 1px 3px 1px rgba(0, 0, 0, 0.15);\n",
              "      filter: drop-shadow(0px 1px 2px rgba(0, 0, 0, 0.3));\n",
              "      fill: #FFFFFF;\n",
              "    }\n",
              "  </style>\n",
              "\n",
              "      <script>\n",
              "        const buttonEl =\n",
              "          document.querySelector('#df-52282041-b366-4278-94c3-e720c4889cf3 button.colab-df-convert');\n",
              "        buttonEl.style.display =\n",
              "          google.colab.kernel.accessAllowed ? 'block' : 'none';\n",
              "\n",
              "        async function convertToInteractive(key) {\n",
              "          const element = document.querySelector('#df-52282041-b366-4278-94c3-e720c4889cf3');\n",
              "          const dataTable =\n",
              "            await google.colab.kernel.invokeFunction('convertToInteractive',\n",
              "                                                     [key], {});\n",
              "          if (!dataTable) return;\n",
              "\n",
              "          const docLinkHtml = 'Like what you see? Visit the ' +\n",
              "            '<a target=\"_blank\" href=https://colab.research.google.com/notebooks/data_table.ipynb>data table notebook</a>'\n",
              "            + ' to learn more about interactive tables.';\n",
              "          element.innerHTML = '';\n",
              "          dataTable['output_type'] = 'display_data';\n",
              "          await google.colab.output.renderOutput(dataTable, element);\n",
              "          const docLink = document.createElement('div');\n",
              "          docLink.innerHTML = docLinkHtml;\n",
              "          element.appendChild(docLink);\n",
              "        }\n",
              "      </script>\n",
              "    </div>\n",
              "  </div>\n",
              "  "
            ]
          },
          "metadata": {},
          "execution_count": 13
        }
      ]
    },
    {
      "cell_type": "markdown",
      "source": [
        "# Fraudulent Emails\n",
        "Having loaded the Enron emails, let’s do the same for the “419” fraudulent email corpus, so that we can have some example data in our training set representing the spam class."
      ],
      "metadata": {
        "id": "tlkZDk47wU6p"
      }
    },
    {
      "cell_type": "code",
      "source": [
        "url = (\n",
        "    \"https://www.kaggle.com/datasets/rtatman/fraudulent-email-corpus\"\n",
        ")\n",
        "od.download(url)"
      ],
      "metadata": {
        "colab": {
          "base_uri": "https://localhost:8080/"
        },
        "id": "xhxrK2C3viwy",
        "outputId": "36858279-8d36-45f9-d109-9870c263b45f"
      },
      "execution_count": 14,
      "outputs": [
        {
          "output_type": "stream",
          "name": "stdout",
          "text": [
            "Downloading fraudulent-email-corpus.zip to ./fraudulent-email-corpus\n"
          ]
        },
        {
          "output_type": "stream",
          "name": "stderr",
          "text": [
            "100%|██████████| 5.52M/5.52M [00:00<00:00, 41.0MB/s]"
          ]
        },
        {
          "output_type": "stream",
          "name": "stdout",
          "text": [
            "\n"
          ]
        },
        {
          "output_type": "stream",
          "name": "stderr",
          "text": [
            "\n"
          ]
        }
      ]
    },
    {
      "cell_type": "code",
      "source": [
        "!ls -l ./fraudulent-email-corpus/"
      ],
      "metadata": {
        "colab": {
          "base_uri": "https://localhost:8080/"
        },
        "id": "1vCNC07VxCij",
        "outputId": "51f42db7-9ece-4f81-a53a-a478bfe1170c"
      },
      "execution_count": 15,
      "outputs": [
        {
          "output_type": "stream",
          "name": "stdout",
          "text": [
            "total 16940\n",
            "-rw-r--r-- 1 root root 17344435 Jan  7 10:26 fradulent_emails.txt\n"
          ]
        }
      ]
    },
    {
      "cell_type": "code",
      "source": [
        "fp = os.path.join(\"./fraudulent-email-corpus\", \"fradulent_emails.txt\")\n",
        "\n",
        "with open(fp, encoding=\"latin-1\") as f:\n",
        "  data = f.read()\n",
        "\n",
        "fraud_emails = data.split(\"From r\")"
      ],
      "metadata": {
        "id": "zt8_B8-_xKuF"
      },
      "execution_count": 22,
      "outputs": []
    },
    {
      "cell_type": "code",
      "source": [
        "len(fraud_emails)"
      ],
      "metadata": {
        "colab": {
          "base_uri": "https://localhost:8080/"
        },
        "id": "i14CZTr_x7tz",
        "outputId": "77434ce7-65ad-4871-ffa8-4596396aaa9c"
      },
      "execution_count": 23,
      "outputs": [
        {
          "output_type": "execute_result",
          "data": {
            "text/plain": [
              "3978"
            ]
          },
          "metadata": {},
          "execution_count": 23
        }
      ]
    },
    {
      "cell_type": "code",
      "source": [
        "print(fraud_emails[3])"
      ],
      "metadata": {
        "colab": {
          "base_uri": "https://localhost:8080/"
        },
        "id": "Fh4Rj7ZSzqNg",
        "outputId": "decad929-2b90-4d47-ac24-f6c279bd0643"
      },
      "execution_count": 25,
      "outputs": [
        {
          "output_type": "stream",
          "name": "stdout",
          "text": [
            "  Thu Oct 31 17:27:16 2002\n",
            "Return-Path: <obong_715@epatra.com>\n",
            "X-Sieve: cmu-sieve 2.0\n",
            "Return-Path: <obong_715@epatra.com>\n",
            "Message-Id: <200210312227.g9VMQvDj017948@bluewhale.cs.CU>\n",
            "From: \"PRINCE OBONG ELEME\" <obong_715@epatra.com>\n",
            "Reply-To: obong_715@epatra.com\n",
            "To: webmaster@aclweb.org\n",
            "Date: Thu, 31 Oct 2002 22:17:55 +0100\n",
            "Subject: GOOD DAY TO YOU\n",
            "X-Mailer: Microsoft Outlook Express 5.00.2919.6900DM\n",
            "MIME-Version: 1.0\n",
            "Content-Type: text/plain; charset=\"us-ascii\"\n",
            "Content-Transfer-Encoding: 8bit\n",
            "X-MIME-Autoconverted: from quoted-printable to 8bit by sideshowmel.si.UM id g9VMRBW20642\n",
            "Status: RO\n",
            "\n",
            "FROM HIS ROYAL MAJESTY (HRM) CROWN RULER OF ELEME KINGDOM \n",
            "CHIEF DANIEL ELEME, PHD, EZE 1 OF ELEME.E-MAIL \n",
            "ADDRESS:obong_715@epatra.com  \n",
            "\n",
            "ATTENTION:PRESIDENT,CEO Sir/ Madam. \n",
            "\n",
            "This letter might surprise you because we have met\n",
            "neither in person nor by correspondence. But I believe\n",
            "it is one day that you got to know somebody either in\n",
            "physical or through correspondence. \n",
            "\n",
            "I got your contact through discreet inquiry from the\n",
            "chambers of commerce and industry of your country on\n",
            "the net, you and your organization were revealed as\n",
            "being quite astute in private entrepreneurship, one\n",
            "has no doubt in your ability to handle a financialbusiness transaction. \n",
            "\n",
            "However, I am the first son of His Royal\n",
            "majesty,Obong.D. Eleme , and the traditional Ruler of\n",
            "Eleme Province in the oil producing area of River\n",
            "State of Nigeria. I am making this contact to you in\n",
            "respect of US$60,000,000.00 (Sixty Million United\n",
            "State Dollars), which I inherited, from my latefather. \n",
            "\n",
            "This money was accumulated from royalties paid to my\n",
            "father as compensation by the oil firms located in our\n",
            "area as a result of oil presence on our land, which\n",
            "hamper agriculture, which is our major source oflivelihood. \n",
            "\n",
            "Unfortunately my father died from protracted\n",
            "diabetes.But before his death he called my attention\n",
            "and informed me that he lodged some funds on a two\n",
            "boxes with a security firm with an open beneficiary\n",
            "status. The lodgment security code number was also\n",
            "revealed to me, he then advised me to look for a\n",
            "reliable business partner abroad, that will assist me\n",
            "in investing the money in a lucrative business as a\n",
            "result of economic instability in Nigeria. So this is\n",
            "the main reason why I am contacting you for us to move\n",
            "this money from the security firm to any Country of\n",
            "your choice for investment purpose. \n",
            "\n",
            "So I will like you to be the ultimate beneficiary, so\n",
            "that the funds can be moved in your name and\n",
            "particulars to any Country of your choice where it\n",
            "will be claimed and invested. Hence my father have had\n",
            "intimated the security firm personnel that the\n",
            "beneficiary of the box is his foreign partner whose\n",
            "particulars will be forwarded to the firm when due. \n",
            "\n",
            "But I will guide you Accordingly. As soon as the funds\n",
            "reach, I will then come over to meet you in person, so\n",
            "that we can discuss physically on investment\n",
            "potentials. Based on this assistance my Family and I\n",
            "have unanimously decided to give you 30% of the total\n",
            "money, 5% for Charity home, 10% for expenses, which\n",
            "may arise during this transaction, Fax and phone bills\n",
            "inclusive. The balance of 55% you will invest andmanaged for my Family. \n",
            "\n",
            "I hereby guarantee you that this is not government\n",
            "money, it is not drug money and it is not money from\n",
            "arms deal. Though you have to maintain high degree of\n",
            "confidentiality on this matter. I will give more\n",
            "details about the proceedings of this transaction as\n",
            "soon as I receive your favorable reply. \n",
            "\n",
            "Please reply to my Email Address:obong_715@epatra.com\n",
            "I hope this will be the beginning of a prosperous\n",
            "relationship between my family and your family. \n",
            "\n",
            "Nevertheless if you are for any reason not interested,\n",
            "kindly inform me immediately so that I will look foranother contact. \n",
            "\n",
            "I am waiting for your quick response. \n",
            "\n",
            "Yours faithfully, \n",
            "\n",
            "Prince Obong Abbot \n",
            "\n",
            "\n",
            "\n"
          ]
        }
      ]
    },
    {
      "cell_type": "code",
      "source": [
        "fraud = pd.DataFrame(fraud_emails, columns=[\"message\"], dtype=str)\n",
        "fraud_bodies = extract_msg(fraud)\n",
        "fraud_bodies_df = pd.DataFrame(fraud_bodies[1:])\n",
        "fraud_bodies_df.head()"
      ],
      "metadata": {
        "colab": {
          "base_uri": "https://localhost:8080/",
          "height": 354
        },
        "id": "vwUCBCi_zuzf",
        "outputId": "3e0b4d4c-9f16-4cdb-8363-eb1dfd969e4a"
      },
      "execution_count": 27,
      "outputs": [
        {
          "output_type": "execute_result",
          "data": {
            "text/plain": [
              "                                                                                                                                                                                                                                                                                                             0\n",
              "0  FROM:MR. JAMES NGOLA.\\nCONFIDENTIAL TEL: 233-27-587908.\\nE-MAIL: (james_ngola2002@maktoob.com).\\n\\nURGENT BUSINESS ASSISTANCE AND PARTNERSHIP.\\n\\n\\nDEAR FRIEND,\\n\\nI AM ( DR.) JAMES NGOLA, THE PERSONAL ASSISTANCE TO THE LATE CONGOLESE (PRESIDENT LAURENT KABILA) WHO WAS ASSASSINATED BY HIS BODY G...\n",
              "1  Dear Friend,\\n\\nI am Mr. Ben Suleman a custom officer and work as Assistant controller of the Customs and Excise department Of the Federal Ministry of Internal Affairs stationed at the Murtala Mohammed International Airport, Ikeja, Lagos-Nigeria.\\n\\nAfter the sudden death of the former Head of s...\n",
              "2  FROM HIS ROYAL MAJESTY (HRM) CROWN RULER OF ELEME KINGDOM \\nCHIEF DANIEL ELEME, PHD, EZE 1 OF ELEME.E-MAIL \\nADDRESS:obong_715@epatra.com  \\n\\nATTENTION:PRESIDENT,CEO Sir/ Madam. \\n\\nThis letter might surprise you because we have met\\nneither in person nor by correspondence. But I believe\\nit is...\n",
              "3  FROM HIS ROYAL MAJESTY (HRM) CROWN RULER OF ELEME KINGDOM \\nCHIEF DANIEL ELEME, PHD, EZE 1 OF ELEME.E-MAIL \\nADDRESS:obong_715@epatra.com  \\n\\nATTENTION:PRESIDENT,CEO Sir/ Madam. \\n\\nThis letter might surprise you because we have met\\nneither in person nor by correspondence. But I believe\\nit is...\n",
              "4  Dear sir, \\n \\nIt is with a heart full of hope that I write to seek your help in respect of the context below. I am Mrs. Maryam Abacha the former first lady of the former Military Head of State of Nigeria General Sani Abacha whose sudden death occurred on 8th of June 1998 as a result of cardiac ..."
            ],
            "text/html": [
              "\n",
              "  <div id=\"df-e2db30f9-1f3c-4c3a-803c-cd66c1764a45\">\n",
              "    <div class=\"colab-df-container\">\n",
              "      <div>\n",
              "<style scoped>\n",
              "    .dataframe tbody tr th:only-of-type {\n",
              "        vertical-align: middle;\n",
              "    }\n",
              "\n",
              "    .dataframe tbody tr th {\n",
              "        vertical-align: top;\n",
              "    }\n",
              "\n",
              "    .dataframe thead th {\n",
              "        text-align: right;\n",
              "    }\n",
              "</style>\n",
              "<table border=\"1\" class=\"dataframe\">\n",
              "  <thead>\n",
              "    <tr style=\"text-align: right;\">\n",
              "      <th></th>\n",
              "      <th>0</th>\n",
              "    </tr>\n",
              "  </thead>\n",
              "  <tbody>\n",
              "    <tr>\n",
              "      <th>0</th>\n",
              "      <td>FROM:MR. JAMES NGOLA.\\nCONFIDENTIAL TEL: 233-27-587908.\\nE-MAIL: (james_ngola2002@maktoob.com).\\n\\nURGENT BUSINESS ASSISTANCE AND PARTNERSHIP.\\n\\n\\nDEAR FRIEND,\\n\\nI AM ( DR.) JAMES NGOLA, THE PERSONAL ASSISTANCE TO THE LATE CONGOLESE (PRESIDENT LAURENT KABILA) WHO WAS ASSASSINATED BY HIS BODY G...</td>\n",
              "    </tr>\n",
              "    <tr>\n",
              "      <th>1</th>\n",
              "      <td>Dear Friend,\\n\\nI am Mr. Ben Suleman a custom officer and work as Assistant controller of the Customs and Excise department Of the Federal Ministry of Internal Affairs stationed at the Murtala Mohammed International Airport, Ikeja, Lagos-Nigeria.\\n\\nAfter the sudden death of the former Head of s...</td>\n",
              "    </tr>\n",
              "    <tr>\n",
              "      <th>2</th>\n",
              "      <td>FROM HIS ROYAL MAJESTY (HRM) CROWN RULER OF ELEME KINGDOM \\nCHIEF DANIEL ELEME, PHD, EZE 1 OF ELEME.E-MAIL \\nADDRESS:obong_715@epatra.com  \\n\\nATTENTION:PRESIDENT,CEO Sir/ Madam. \\n\\nThis letter might surprise you because we have met\\nneither in person nor by correspondence. But I believe\\nit is...</td>\n",
              "    </tr>\n",
              "    <tr>\n",
              "      <th>3</th>\n",
              "      <td>FROM HIS ROYAL MAJESTY (HRM) CROWN RULER OF ELEME KINGDOM \\nCHIEF DANIEL ELEME, PHD, EZE 1 OF ELEME.E-MAIL \\nADDRESS:obong_715@epatra.com  \\n\\nATTENTION:PRESIDENT,CEO Sir/ Madam. \\n\\nThis letter might surprise you because we have met\\nneither in person nor by correspondence. But I believe\\nit is...</td>\n",
              "    </tr>\n",
              "    <tr>\n",
              "      <th>4</th>\n",
              "      <td>Dear sir, \\n \\nIt is with a heart full of hope that I write to seek your help in respect of the context below. I am Mrs. Maryam Abacha the former first lady of the former Military Head of State of Nigeria General Sani Abacha whose sudden death occurred on 8th of June 1998 as a result of cardiac ...</td>\n",
              "    </tr>\n",
              "  </tbody>\n",
              "</table>\n",
              "</div>\n",
              "      <button class=\"colab-df-convert\" onclick=\"convertToInteractive('df-e2db30f9-1f3c-4c3a-803c-cd66c1764a45')\"\n",
              "              title=\"Convert this dataframe to an interactive table.\"\n",
              "              style=\"display:none;\">\n",
              "        \n",
              "  <svg xmlns=\"http://www.w3.org/2000/svg\" height=\"24px\"viewBox=\"0 0 24 24\"\n",
              "       width=\"24px\">\n",
              "    <path d=\"M0 0h24v24H0V0z\" fill=\"none\"/>\n",
              "    <path d=\"M18.56 5.44l.94 2.06.94-2.06 2.06-.94-2.06-.94-.94-2.06-.94 2.06-2.06.94zm-11 1L8.5 8.5l.94-2.06 2.06-.94-2.06-.94L8.5 2.5l-.94 2.06-2.06.94zm10 10l.94 2.06.94-2.06 2.06-.94-2.06-.94-.94-2.06-.94 2.06-2.06.94z\"/><path d=\"M17.41 7.96l-1.37-1.37c-.4-.4-.92-.59-1.43-.59-.52 0-1.04.2-1.43.59L10.3 9.45l-7.72 7.72c-.78.78-.78 2.05 0 2.83L4 21.41c.39.39.9.59 1.41.59.51 0 1.02-.2 1.41-.59l7.78-7.78 2.81-2.81c.8-.78.8-2.07 0-2.86zM5.41 20L4 18.59l7.72-7.72 1.47 1.35L5.41 20z\"/>\n",
              "  </svg>\n",
              "      </button>\n",
              "      \n",
              "  <style>\n",
              "    .colab-df-container {\n",
              "      display:flex;\n",
              "      flex-wrap:wrap;\n",
              "      gap: 12px;\n",
              "    }\n",
              "\n",
              "    .colab-df-convert {\n",
              "      background-color: #E8F0FE;\n",
              "      border: none;\n",
              "      border-radius: 50%;\n",
              "      cursor: pointer;\n",
              "      display: none;\n",
              "      fill: #1967D2;\n",
              "      height: 32px;\n",
              "      padding: 0 0 0 0;\n",
              "      width: 32px;\n",
              "    }\n",
              "\n",
              "    .colab-df-convert:hover {\n",
              "      background-color: #E2EBFA;\n",
              "      box-shadow: 0px 1px 2px rgba(60, 64, 67, 0.3), 0px 1px 3px 1px rgba(60, 64, 67, 0.15);\n",
              "      fill: #174EA6;\n",
              "    }\n",
              "\n",
              "    [theme=dark] .colab-df-convert {\n",
              "      background-color: #3B4455;\n",
              "      fill: #D2E3FC;\n",
              "    }\n",
              "\n",
              "    [theme=dark] .colab-df-convert:hover {\n",
              "      background-color: #434B5C;\n",
              "      box-shadow: 0px 1px 3px 1px rgba(0, 0, 0, 0.15);\n",
              "      filter: drop-shadow(0px 1px 2px rgba(0, 0, 0, 0.3));\n",
              "      fill: #FFFFFF;\n",
              "    }\n",
              "  </style>\n",
              "\n",
              "      <script>\n",
              "        const buttonEl =\n",
              "          document.querySelector('#df-e2db30f9-1f3c-4c3a-803c-cd66c1764a45 button.colab-df-convert');\n",
              "        buttonEl.style.display =\n",
              "          google.colab.kernel.accessAllowed ? 'block' : 'none';\n",
              "\n",
              "        async function convertToInteractive(key) {\n",
              "          const element = document.querySelector('#df-e2db30f9-1f3c-4c3a-803c-cd66c1764a45');\n",
              "          const dataTable =\n",
              "            await google.colab.kernel.invokeFunction('convertToInteractive',\n",
              "                                                     [key], {});\n",
              "          if (!dataTable) return;\n",
              "\n",
              "          const docLinkHtml = 'Like what you see? Visit the ' +\n",
              "            '<a target=\"_blank\" href=https://colab.research.google.com/notebooks/data_table.ipynb>data table notebook</a>'\n",
              "            + ' to learn more about interactive tables.';\n",
              "          element.innerHTML = '';\n",
              "          dataTable['output_type'] = 'display_data';\n",
              "          await google.colab.output.renderOutput(dataTable, element);\n",
              "          const docLink = document.createElement('div');\n",
              "          docLink.innerHTML = docLinkHtml;\n",
              "          element.appendChild(docLink);\n",
              "        }\n",
              "      </script>\n",
              "    </div>\n",
              "  </div>\n",
              "  "
            ]
          },
          "metadata": {},
          "execution_count": 27
        }
      ]
    },
    {
      "cell_type": "markdown",
      "source": [
        "## Define Tokenization, Stop-word and Punctuation Removal Functions\n",
        "Before proceeding, we must decide how many samples to draw from each class. We must also decide the maximum number of tokens per email, and the maximum length of each token. This is done by setting the following overarching hyperparameters"
      ],
      "metadata": {
        "id": "rAdvZu3e38Qt"
      }
    },
    {
      "cell_type": "code",
      "source": [
        "Nsamp = 1000 # number of samples to generate in each class - 'spam', 'not spam'\n",
        "maxtokens = 200 # the maximum number of tokens per document\n",
        "maxtokenlen = 100 # the maximum length of each token"
      ],
      "metadata": {
        "id": "CKJMf6kY1I1f"
      },
      "execution_count": 28,
      "outputs": []
    },
    {
      "cell_type": "markdown",
      "source": [
        "### Tokenization"
      ],
      "metadata": {
        "id": "XtQ01tSx4eQo"
      }
    },
    {
      "cell_type": "code",
      "source": [
        "def Tokenize(row):\n",
        "  if row is None or row == '':\n",
        "    tokens = ''\n",
        "  else:\n",
        "    tokens = str(row).split(\" \")[:maxtokens]\n",
        "  return tokens"
      ],
      "metadata": {
        "id": "FDbUG-fm4Uff"
      },
      "execution_count": 29,
      "outputs": []
    },
    {
      "cell_type": "markdown",
      "source": [
        "### Use regular expressions to remove unnecessary characters"
      ],
      "metadata": {
        "id": "TYy94zlZ5Oqn"
      }
    },
    {
      "cell_type": "code",
      "source": [
        "def reg_expressions(row):\n",
        "  tokens = []\n",
        "  try:\n",
        "    for token in row:\n",
        "      token = token.lower()\n",
        "      token = re.sub(r\"[\\W\\d]\", \"\", token)\n",
        "      token = token[:maxtokenlen]\n",
        "      tokens.append(token)\n",
        "\n",
        "  except:\n",
        "    token = \"\"\n",
        "    tokens.append(token)\n",
        "    \n",
        "  return tokens\n",
        "\n"
      ],
      "metadata": {
        "id": "GwGqLzCI5NaH"
      },
      "execution_count": 31,
      "outputs": []
    },
    {
      "cell_type": "markdown",
      "source": [
        "### Stop-word removal"
      ],
      "metadata": {
        "id": "TzgU-y7f6-C7"
      }
    },
    {
      "cell_type": "code",
      "source": [
        "nltk.download('stopwords')\n",
        "from nltk.corpus import stopwords\n",
        "\n",
        "\n",
        "stopwords = stopwords.words('english')    \n",
        "\n",
        "def stop_word_removal(row):\n",
        "    token = [token for token in row if token not in stopwords]\n",
        "    token = filter(None, token)\n",
        "    return token"
      ],
      "metadata": {
        "colab": {
          "base_uri": "https://localhost:8080/"
        },
        "id": "d9JBWpgM61tC",
        "outputId": "be311c22-c302-4994-8418-8dccc2cfde4f"
      },
      "execution_count": 32,
      "outputs": [
        {
          "output_type": "stream",
          "name": "stderr",
          "text": [
            "[nltk_data] Downloading package stopwords to /root/nltk_data...\n",
            "[nltk_data]   Unzipping corpora/stopwords.zip.\n"
          ]
        }
      ]
    },
    {
      "cell_type": "markdown",
      "source": [
        "## Putting preprocessing steps together to build email datase"
      ],
      "metadata": {
        "id": "DXAufekGDYHN"
      }
    },
    {
      "cell_type": "code",
      "source": [
        "EnronEmails = (\n",
        "    bodies_df.iloc[:, 0].apply(Tokenize)\n",
        "    .apply(stop_word_removal)\n",
        "    .apply(reg_expressions)\n",
        "    .sample(Nsamp)\n",
        ")\n",
        "\n",
        "SpamEmails = (\n",
        "    fraud_bodies_df.iloc[:, 0].apply(Tokenize)\n",
        "    .apply(stop_word_removal)\n",
        "    .apply(reg_expressions)\n",
        "    .sample(Nsamp)\n",
        ")\n",
        "\n",
        "raw_data = pd.concat([SpamEmails,EnronEmails], axis=0).values"
      ],
      "metadata": {
        "id": "w_NGjAAI7OAm"
      },
      "execution_count": 40,
      "outputs": []
    },
    {
      "cell_type": "code",
      "source": [
        "print(\"Shape of combined data represented as NumPy array is:\")\n",
        "print(raw_data.shape)\n",
        "print(\"Data represented as NumPy array is:\")\n",
        "print(raw_data)"
      ],
      "metadata": {
        "colab": {
          "base_uri": "https://localhost:8080/"
        },
        "id": "55V0-54VCWlY",
        "outputId": "c540e81e-0856-429b-cfc0-87307daff04c"
      },
      "execution_count": 41,
      "outputs": [
        {
          "output_type": "stream",
          "name": "stdout",
          "text": [
            "Shape of combined data represented as NumPy array is:\n",
            "(2000,)\n",
            "Data represented as NumPy array is:\n",
            "[list(['emailmessagemessage', 'object', 'xfefa', 'emailmessagemessage', 'object', 'xfefa'])\n",
            " list(['attentionait', 'pleasure', 'contact', 'assistance', 'andbusiness', 'cooperatione', 'i', 'know', 'content', 'thisletter', 'might', 'surprising', 'i', 'assure', 'youthat', 'every', 'word', 'truee', 'even', 'though', 'hardlyknow', 'i', 'believe', 'help', 'meeei', 'dre', 'rilwanu', 'lukmancpresident', 'adviser', 'petroleumand', 'energy', 'alternate', 'chairman', 'nenepecboardalso', 'opec', 'president', 'designateemy', 'office', 'monitorsthe', 'sales', 'lifting', 'crude', 'oil', 'petroleumproduct', 'foreign', 'dealerse', 'with', 'cooperation', 'myassistant', 'head', 'audit', 'committee', 'attached', 'tothe', 'task', 'forcec', 'i', 'successfully', 'saved', 'aboutuse', 'millionethis', 'money', 'result', 'allocation', 'excesscrude', 'oil', 'foreign', 'dealersc', 'soldbut', 'money', 'entered', 'financialstatement', 'task', 'forcee', 'this', 'money', 'lyingunclaimed', 'account', 'task', 'forcec', 'known', 'onlyto', 'chief', 'security', 'officer', 'ministrywho', 'help', 'inmovingthe', 'fund', 'security', 'network', 'meinvolved', 'excessallocationehoweverc', 'legislators', 'new', 'democraticgovernment', 'country', 'set', 'panel', 'lookinto', 'past', 'activities', 'government', 'companiesand', 'parastatalse', 'i', 'want', 'panel', 'discoverthe', 'money', 'i', 'savedei', 'cannot', 'lodge', 'money'])\n",
            " list(['dear', 'siri', 'am', 'miss', 'jan', 'taylor', 'yrsthe', 'daughter', 'of', 'the', 'formerliberian', 'president', 'charles', 'taylori', 'have', 'in', 'my', 'possessionthe', 'sum', 'of', 'twelve', 'million', 'united', 'statedollarsand', 'the', 'top', 'list', 'of', 'my', 'priority', 'iswhere', 'to', 'invest', 'this', 'money', 'outside', 'my', 'countryreason', 'best', 'known', 'to', 'me', '', 'i', 'urgently', 'need', 'your', 'assistancein', 'providing', 'a', 'reliable', 'genuine', 'trade', 'or', 'company', 'where', 'ican', 'invest', 'the', 'fund', 'and', 'immediately', 'meet', 'you', 'in', 'yourcountry', 'for', 'settlementplease', 'i', 'will', 'kindly', 'welcome', 'your', 'advice', 'too', 'i', 'amexpecting', 'your', 'urgent', 'mail', 'response', 'i', 'need', 'your', 'supportand', 'seriousness', 'i', 'am', 'presently', 'on', 'exile', 'in', 'free', 'townsierraleone', 'with', 'my', 'brother', 'chokri', 'taylor', 'after', 'the', 'unitedstates', 'asked', 'my', 'father', 'to', 'resign', 'as', 'the', 'president', 'ofliberia', 'my', 'father', 'is', 'also', 'on', 'a', 'self', 'exile', 'too', 'in', 'one', 'ofthe', 'west', 'african', 'countryyour', 'urgent', 'response', 'is', 'expected', 'send', 'confidential', 'phonenumber', 'so', 'that', 'i', 'can', 'reach', 'you', 'when', 'neccessarysend', 'yourreply', 'to', 'my', 'confidential', 'box', 'msjantaylorwallacomms', 'jan', 'taylorfreetown'])\n",
            " ...\n",
            " list(['unfortunately', 'money', 'tied', 'caymen', 'island', 'partnerships', 'original', 'messagefrom', 'gustafson', 'mollie', 'sentfriday', 'october', '', '', '', 'amtofuller', 'davesubjectfw', 'administrative', 'changescough', 'up', 'original', 'messagefrom', 'tycholiz', 'barry', 'sentfriday', 'october', '', '', '', 'amtogustafson', 'molliesubjectre', 'administrative', 'changesmake', 'sure', 'fuller', 'pays', 'up', 'i', 'know', 'money', 'hidden', 'somewhere', 'thanks', 'bt', '', 'original', 'messagefrom', 'gustafson', 'mollie', 'sentwednesday', 'october', '', '', '', 'pmtotycholiz', 'barrysubjectfw', 'administrative', 'changesi', 'sure', 'already', 'know', '', 'owe', 'babysitting', 'fees', 'original', 'messagefrom', 'gustafson', 'mollie', 'sentwednesday', 'october', '', '', '', 'pmtochoi', 'paul', 'rosman', 'stewart', 'malowney', 'john', 'bruce', 'james', 'bryson', 'jesse', 'buerkle', 'jim', 'burry', 'jessica', 'cadena', 'angela', 'calger', 'christopher', 'f', 'clark', 'ed', 'donovan', 'terry', 'w', 'elafandi', 'mo', 'eriksson', 'fredrik', 'etringer', 'michael', 'gilbert', 'jim', 'guillaume', 'david', 'gustafson', 'mollie', 'lackey', 'chris', 'mainzer', 'elliot', 'mumm', 'chris', 'oh', 'jeffrey', 'page', 'jonalan', 'perry', 'todd', 'shields', 'jeff', 'slaughter', 'jeff', 'g', 'thomas', 'jake', 'thome', 'stephen', 'van', 'gelder', 'john', 'villeggiante', 'theresa', 'wente', 'laura', 'woodland', 'andreaccdavidson', 'debra', 'axford', 'kathy', 'mehrer', 'anna', 'chatterton', 'jill', 'sheppard', 'kathryn', 'butler', 'emily', 'hall', 'erin', 'ausenhus', 'kara', 'kearney', 'julie', 'rodriguez', 'grace', 'deas', 'patty', 'blackburn', 'jody', 'king', 'jan', 'm', 'belden', 'tim', 'zavala', 'cristina', 'hrach', 'april', 'fuller', 'dave', 'cynthiatravelparkcomsubjectadministrative', 'changesin', 'order', 'provide', 'appropriate'])\n",
            " list(['feast', 'eyes', 'enron', 'business', 'cool', 'colorful', 'new', 'look', 'youll', 'findit', 'mailbox', 'home', 'online', 'homeenroncom', 'publicationsenron', 'business', 'volume', '', '', 'and', 'houston', 'mightfind', 'extra', 'copies', 'plaza', 'java', 'lobby', 'enron', 'buildingin', 'issue', 'enron', 'direct', 'plays', 'hard', 'win', 'small', 'customers', 'extreme', 'enron', 'debuts', 'exciting', 'stories', 'employees', 'ride', 'edge', 'meteorologists', 'brew', 'science', 'good', 'business', 'enrons', 'new', 'vision', '', 'it', 'enron', 'fights', 'keep', 'california', 'energy', 'crisis', 'spreading', 'driving', 'business', 'profits', 'least', 'expect', 'them', 'the', 'insider', 'sprechen', 'zie', 'security', 'assisting', 'earthquake', 'victims', 'india', 'find', 'word', 'search', '', 'enter', 'cartoon', 'craziness', 'contestfor', 'chance', 'win', '', 'american', 'express', 'gift', 'certificate', 'dont', 'dally', 'the', 'deadline', 'entries', 'friday', 'may', ''])\n",
            " list(['that', 'sounds', 'like', 'reasonable', 'way', 'proceedevelyn', 'kahl', 'elsesser', 'ekeaelawcom', '', 'pm', '', 'to', 'mike', 'florio', 'mflorioturnorg', 'cc', 'tony', 'braun', 'brauncmuaorg', 'jeffdasovichenroncom', 'jeffdasovichenroncom', 'rcavanaghnrdcorg', 'aaron', 'thomas', 'email', 'athomasnewenergycom', 'carolyn', 'mcintyre', 'email', 'cmcintyresempracom', 'delaney', 'hunter', 'dhuntersmithandkemptoncom', 'john', 'fielder', 'email', 'fieldejrscecom', 'jeff', 'dasovich', 'email', 'jdasovicenroncom', 'jeflorycalpxcom', 'jan', 'smutnyjones', 'email', 'smutnyiepacom', 'bill', 'booth', 'email', 'wboothboothlawcom', 'subject', 're', 'cesg', 'committee', 'meetingi', 'plan', 'start', '', '', 'present', 'obviously', 'well', 'revisit', 'issuesafter', 'tomorrow', 'anyone', 'express', 'views', 'later', 'butim', 'inclined', 'make', 'much', 'progress', 'rather', 'wait', 'fullquorummike', 'florio', 'wrote', 'i', 'flexible', 'would', 'like', 'know', 'meeting', 'actually', 'start', 'since', 'im', 'driving', 'oaktown', 'and', 'i', 'believe', 'bill', 'marcus', 'i', 'are', 'still', 'meeting', 'edison', 'afterward', 'right', 'john', 'fielder', 'at', '', 'am', '', '', 'tony', 'braun', 'wrote', 'madame', 'chair', 'elsesser', '', 'it', 'appears', 'may', 'quorum', 'i', 'conference', 'call', '', 'am', 'i', 'hope', 'able', 'make', 'commitee', 'around', '', 'am', '', 'thank', 'patience', '', 'tony', 'braun', 'braun', '', 'associates', 'pc'])]\n"
          ]
        }
      ]
    },
    {
      "cell_type": "code",
      "source": [
        "# create corresponding labels\n",
        "Categories = ['spam','notspam']\n",
        "header = ([1]*Nsamp)\n",
        "header.extend(([0]*Nsamp))"
      ],
      "metadata": {
        "id": "AemVldfFEqBi"
      },
      "execution_count": 42,
      "outputs": []
    },
    {
      "cell_type": "markdown",
      "source": [
        "## Converting the email text into numbers"
      ],
      "metadata": {
        "id": "wm9odAboFjmg"
      }
    },
    {
      "cell_type": "code",
      "source": [
        "def assemble_bag(data):\n",
        "    used_tokens = []\n",
        "    all_tokens = []\n",
        "\n",
        "    for item in data:\n",
        "        for token in item:\n",
        "            if token in all_tokens:\n",
        "                if token not in used_tokens:\n",
        "                    used_tokens.append(token)\n",
        "            else:\n",
        "                all_tokens.append(token)\n",
        "    \n",
        "    df = pd.DataFrame(0, index = np.arange(len(data)), columns = used_tokens)\n",
        "    \n",
        "    for i, item in enumerate(data):\n",
        "        for token in item:\n",
        "            if token in used_tokens:\n",
        "                df.iloc[i][token] += 1    \n",
        "    return df"
      ],
      "metadata": {
        "id": "Ld4T1Cc9Htp0"
      },
      "execution_count": 46,
      "outputs": []
    },
    {
      "cell_type": "code",
      "source": [
        "# create bag-of-words model\n",
        "EnronSpamBag = assemble_bag(raw_data)\n",
        "# this is the list of words in our bag-of-words model\n",
        "predictors = [column for column in EnronSpamBag.columns]\n",
        "EnronSpamBag # display the model for the user"
      ],
      "metadata": {
        "colab": {
          "base_uri": "https://localhost:8080/",
          "height": 488
        },
        "id": "ENEyGGwoFMOX",
        "outputId": "98f1031e-2429-4f07-ba7a-07f909e7fa5b"
      },
      "execution_count": 47,
      "outputs": [
        {
          "output_type": "execute_result",
          "data": {
            "text/plain": [
              "      emailmessagemessage  object  xfefa  i  oil  foreign  money  task  \\\n",
              "0                       2       2      2  0    0        0      0     0   \n",
              "1                       0       0      0  6    2        2      5     3   \n",
              "2                       0       0      0  6    0        0      1     0   \n",
              "3                       2       2      0  0    0        0      0     0   \n",
              "4                       0       0      0  3    0        0      1     0   \n",
              "...                   ...     ...    ... ..  ...      ...    ...   ...   \n",
              "1995                    0       0      0  0    0        0      0     0   \n",
              "1996                    0       0      0  0    0        0      0     0   \n",
              "1997                    0       0      0  1    0        0      2     0   \n",
              "1998                    0       0      0  0    0        0      0     0   \n",
              "1999                    0       0      0  5    0        0      0     0   \n",
              "\n",
              "      forcec  help  ...  athomasnewenergycom  delaney  smutnyjones  meetingi  \\\n",
              "0          0     0  ...                    0        0            0         0   \n",
              "1          2     2  ...                    0        0            0         0   \n",
              "2          0     0  ...                    0        0            0         0   \n",
              "3          0     0  ...                    0        0            0         0   \n",
              "4          0     0  ...                    0        0            0         0   \n",
              "...      ...   ...  ...                  ...      ...          ...       ...   \n",
              "1995       0     0  ...                    0        0            0         0   \n",
              "1996       0     0  ...                    0        0            0         0   \n",
              "1997       0     0  ...                    0        0            0         0   \n",
              "1998       0     0  ...                    0        0            0         0   \n",
              "1999       0     0  ...                    1        1            1         1   \n",
              "\n",
              "      inclined  florio  fielder  braun  madame  elsesser  \n",
              "0            0       0        0      0       0         0  \n",
              "1            0       0        0      0       0         0  \n",
              "2            0       0        0      0       0         0  \n",
              "3            0       0        0      0       0         0  \n",
              "4            0       0        0      0       0         0  \n",
              "...        ...     ...      ...    ...     ...       ...  \n",
              "1995         0       0        0      0       0         0  \n",
              "1996         0       0        0      0       0         0  \n",
              "1997         0       0        0      0       0         0  \n",
              "1998         0       0        0      0       0         0  \n",
              "1999         1       2        2      4       1         2  \n",
              "\n",
              "[2000 rows x 10498 columns]"
            ],
            "text/html": [
              "\n",
              "  <div id=\"df-a117b389-fc76-4132-a01b-4391a237431a\">\n",
              "    <div class=\"colab-df-container\">\n",
              "      <div>\n",
              "<style scoped>\n",
              "    .dataframe tbody tr th:only-of-type {\n",
              "        vertical-align: middle;\n",
              "    }\n",
              "\n",
              "    .dataframe tbody tr th {\n",
              "        vertical-align: top;\n",
              "    }\n",
              "\n",
              "    .dataframe thead th {\n",
              "        text-align: right;\n",
              "    }\n",
              "</style>\n",
              "<table border=\"1\" class=\"dataframe\">\n",
              "  <thead>\n",
              "    <tr style=\"text-align: right;\">\n",
              "      <th></th>\n",
              "      <th>emailmessagemessage</th>\n",
              "      <th>object</th>\n",
              "      <th>xfefa</th>\n",
              "      <th>i</th>\n",
              "      <th>oil</th>\n",
              "      <th>foreign</th>\n",
              "      <th>money</th>\n",
              "      <th>task</th>\n",
              "      <th>forcec</th>\n",
              "      <th>help</th>\n",
              "      <th>...</th>\n",
              "      <th>athomasnewenergycom</th>\n",
              "      <th>delaney</th>\n",
              "      <th>smutnyjones</th>\n",
              "      <th>meetingi</th>\n",
              "      <th>inclined</th>\n",
              "      <th>florio</th>\n",
              "      <th>fielder</th>\n",
              "      <th>braun</th>\n",
              "      <th>madame</th>\n",
              "      <th>elsesser</th>\n",
              "    </tr>\n",
              "  </thead>\n",
              "  <tbody>\n",
              "    <tr>\n",
              "      <th>0</th>\n",
              "      <td>2</td>\n",
              "      <td>2</td>\n",
              "      <td>2</td>\n",
              "      <td>0</td>\n",
              "      <td>0</td>\n",
              "      <td>0</td>\n",
              "      <td>0</td>\n",
              "      <td>0</td>\n",
              "      <td>0</td>\n",
              "      <td>0</td>\n",
              "      <td>...</td>\n",
              "      <td>0</td>\n",
              "      <td>0</td>\n",
              "      <td>0</td>\n",
              "      <td>0</td>\n",
              "      <td>0</td>\n",
              "      <td>0</td>\n",
              "      <td>0</td>\n",
              "      <td>0</td>\n",
              "      <td>0</td>\n",
              "      <td>0</td>\n",
              "    </tr>\n",
              "    <tr>\n",
              "      <th>1</th>\n",
              "      <td>0</td>\n",
              "      <td>0</td>\n",
              "      <td>0</td>\n",
              "      <td>6</td>\n",
              "      <td>2</td>\n",
              "      <td>2</td>\n",
              "      <td>5</td>\n",
              "      <td>3</td>\n",
              "      <td>2</td>\n",
              "      <td>2</td>\n",
              "      <td>...</td>\n",
              "      <td>0</td>\n",
              "      <td>0</td>\n",
              "      <td>0</td>\n",
              "      <td>0</td>\n",
              "      <td>0</td>\n",
              "      <td>0</td>\n",
              "      <td>0</td>\n",
              "      <td>0</td>\n",
              "      <td>0</td>\n",
              "      <td>0</td>\n",
              "    </tr>\n",
              "    <tr>\n",
              "      <th>2</th>\n",
              "      <td>0</td>\n",
              "      <td>0</td>\n",
              "      <td>0</td>\n",
              "      <td>6</td>\n",
              "      <td>0</td>\n",
              "      <td>0</td>\n",
              "      <td>1</td>\n",
              "      <td>0</td>\n",
              "      <td>0</td>\n",
              "      <td>0</td>\n",
              "      <td>...</td>\n",
              "      <td>0</td>\n",
              "      <td>0</td>\n",
              "      <td>0</td>\n",
              "      <td>0</td>\n",
              "      <td>0</td>\n",
              "      <td>0</td>\n",
              "      <td>0</td>\n",
              "      <td>0</td>\n",
              "      <td>0</td>\n",
              "      <td>0</td>\n",
              "    </tr>\n",
              "    <tr>\n",
              "      <th>3</th>\n",
              "      <td>2</td>\n",
              "      <td>2</td>\n",
              "      <td>0</td>\n",
              "      <td>0</td>\n",
              "      <td>0</td>\n",
              "      <td>0</td>\n",
              "      <td>0</td>\n",
              "      <td>0</td>\n",
              "      <td>0</td>\n",
              "      <td>0</td>\n",
              "      <td>...</td>\n",
              "      <td>0</td>\n",
              "      <td>0</td>\n",
              "      <td>0</td>\n",
              "      <td>0</td>\n",
              "      <td>0</td>\n",
              "      <td>0</td>\n",
              "      <td>0</td>\n",
              "      <td>0</td>\n",
              "      <td>0</td>\n",
              "      <td>0</td>\n",
              "    </tr>\n",
              "    <tr>\n",
              "      <th>4</th>\n",
              "      <td>0</td>\n",
              "      <td>0</td>\n",
              "      <td>0</td>\n",
              "      <td>3</td>\n",
              "      <td>0</td>\n",
              "      <td>0</td>\n",
              "      <td>1</td>\n",
              "      <td>0</td>\n",
              "      <td>0</td>\n",
              "      <td>0</td>\n",
              "      <td>...</td>\n",
              "      <td>0</td>\n",
              "      <td>0</td>\n",
              "      <td>0</td>\n",
              "      <td>0</td>\n",
              "      <td>0</td>\n",
              "      <td>0</td>\n",
              "      <td>0</td>\n",
              "      <td>0</td>\n",
              "      <td>0</td>\n",
              "      <td>0</td>\n",
              "    </tr>\n",
              "    <tr>\n",
              "      <th>...</th>\n",
              "      <td>...</td>\n",
              "      <td>...</td>\n",
              "      <td>...</td>\n",
              "      <td>...</td>\n",
              "      <td>...</td>\n",
              "      <td>...</td>\n",
              "      <td>...</td>\n",
              "      <td>...</td>\n",
              "      <td>...</td>\n",
              "      <td>...</td>\n",
              "      <td>...</td>\n",
              "      <td>...</td>\n",
              "      <td>...</td>\n",
              "      <td>...</td>\n",
              "      <td>...</td>\n",
              "      <td>...</td>\n",
              "      <td>...</td>\n",
              "      <td>...</td>\n",
              "      <td>...</td>\n",
              "      <td>...</td>\n",
              "      <td>...</td>\n",
              "    </tr>\n",
              "    <tr>\n",
              "      <th>1995</th>\n",
              "      <td>0</td>\n",
              "      <td>0</td>\n",
              "      <td>0</td>\n",
              "      <td>0</td>\n",
              "      <td>0</td>\n",
              "      <td>0</td>\n",
              "      <td>0</td>\n",
              "      <td>0</td>\n",
              "      <td>0</td>\n",
              "      <td>0</td>\n",
              "      <td>...</td>\n",
              "      <td>0</td>\n",
              "      <td>0</td>\n",
              "      <td>0</td>\n",
              "      <td>0</td>\n",
              "      <td>0</td>\n",
              "      <td>0</td>\n",
              "      <td>0</td>\n",
              "      <td>0</td>\n",
              "      <td>0</td>\n",
              "      <td>0</td>\n",
              "    </tr>\n",
              "    <tr>\n",
              "      <th>1996</th>\n",
              "      <td>0</td>\n",
              "      <td>0</td>\n",
              "      <td>0</td>\n",
              "      <td>0</td>\n",
              "      <td>0</td>\n",
              "      <td>0</td>\n",
              "      <td>0</td>\n",
              "      <td>0</td>\n",
              "      <td>0</td>\n",
              "      <td>0</td>\n",
              "      <td>...</td>\n",
              "      <td>0</td>\n",
              "      <td>0</td>\n",
              "      <td>0</td>\n",
              "      <td>0</td>\n",
              "      <td>0</td>\n",
              "      <td>0</td>\n",
              "      <td>0</td>\n",
              "      <td>0</td>\n",
              "      <td>0</td>\n",
              "      <td>0</td>\n",
              "    </tr>\n",
              "    <tr>\n",
              "      <th>1997</th>\n",
              "      <td>0</td>\n",
              "      <td>0</td>\n",
              "      <td>0</td>\n",
              "      <td>1</td>\n",
              "      <td>0</td>\n",
              "      <td>0</td>\n",
              "      <td>2</td>\n",
              "      <td>0</td>\n",
              "      <td>0</td>\n",
              "      <td>0</td>\n",
              "      <td>...</td>\n",
              "      <td>0</td>\n",
              "      <td>0</td>\n",
              "      <td>0</td>\n",
              "      <td>0</td>\n",
              "      <td>0</td>\n",
              "      <td>0</td>\n",
              "      <td>0</td>\n",
              "      <td>0</td>\n",
              "      <td>0</td>\n",
              "      <td>0</td>\n",
              "    </tr>\n",
              "    <tr>\n",
              "      <th>1998</th>\n",
              "      <td>0</td>\n",
              "      <td>0</td>\n",
              "      <td>0</td>\n",
              "      <td>0</td>\n",
              "      <td>0</td>\n",
              "      <td>0</td>\n",
              "      <td>0</td>\n",
              "      <td>0</td>\n",
              "      <td>0</td>\n",
              "      <td>0</td>\n",
              "      <td>...</td>\n",
              "      <td>0</td>\n",
              "      <td>0</td>\n",
              "      <td>0</td>\n",
              "      <td>0</td>\n",
              "      <td>0</td>\n",
              "      <td>0</td>\n",
              "      <td>0</td>\n",
              "      <td>0</td>\n",
              "      <td>0</td>\n",
              "      <td>0</td>\n",
              "    </tr>\n",
              "    <tr>\n",
              "      <th>1999</th>\n",
              "      <td>0</td>\n",
              "      <td>0</td>\n",
              "      <td>0</td>\n",
              "      <td>5</td>\n",
              "      <td>0</td>\n",
              "      <td>0</td>\n",
              "      <td>0</td>\n",
              "      <td>0</td>\n",
              "      <td>0</td>\n",
              "      <td>0</td>\n",
              "      <td>...</td>\n",
              "      <td>1</td>\n",
              "      <td>1</td>\n",
              "      <td>1</td>\n",
              "      <td>1</td>\n",
              "      <td>1</td>\n",
              "      <td>2</td>\n",
              "      <td>2</td>\n",
              "      <td>4</td>\n",
              "      <td>1</td>\n",
              "      <td>2</td>\n",
              "    </tr>\n",
              "  </tbody>\n",
              "</table>\n",
              "<p>2000 rows × 10498 columns</p>\n",
              "</div>\n",
              "      <button class=\"colab-df-convert\" onclick=\"convertToInteractive('df-a117b389-fc76-4132-a01b-4391a237431a')\"\n",
              "              title=\"Convert this dataframe to an interactive table.\"\n",
              "              style=\"display:none;\">\n",
              "        \n",
              "  <svg xmlns=\"http://www.w3.org/2000/svg\" height=\"24px\"viewBox=\"0 0 24 24\"\n",
              "       width=\"24px\">\n",
              "    <path d=\"M0 0h24v24H0V0z\" fill=\"none\"/>\n",
              "    <path d=\"M18.56 5.44l.94 2.06.94-2.06 2.06-.94-2.06-.94-.94-2.06-.94 2.06-2.06.94zm-11 1L8.5 8.5l.94-2.06 2.06-.94-2.06-.94L8.5 2.5l-.94 2.06-2.06.94zm10 10l.94 2.06.94-2.06 2.06-.94-2.06-.94-.94-2.06-.94 2.06-2.06.94z\"/><path d=\"M17.41 7.96l-1.37-1.37c-.4-.4-.92-.59-1.43-.59-.52 0-1.04.2-1.43.59L10.3 9.45l-7.72 7.72c-.78.78-.78 2.05 0 2.83L4 21.41c.39.39.9.59 1.41.59.51 0 1.02-.2 1.41-.59l7.78-7.78 2.81-2.81c.8-.78.8-2.07 0-2.86zM5.41 20L4 18.59l7.72-7.72 1.47 1.35L5.41 20z\"/>\n",
              "  </svg>\n",
              "      </button>\n",
              "      \n",
              "  <style>\n",
              "    .colab-df-container {\n",
              "      display:flex;\n",
              "      flex-wrap:wrap;\n",
              "      gap: 12px;\n",
              "    }\n",
              "\n",
              "    .colab-df-convert {\n",
              "      background-color: #E8F0FE;\n",
              "      border: none;\n",
              "      border-radius: 50%;\n",
              "      cursor: pointer;\n",
              "      display: none;\n",
              "      fill: #1967D2;\n",
              "      height: 32px;\n",
              "      padding: 0 0 0 0;\n",
              "      width: 32px;\n",
              "    }\n",
              "\n",
              "    .colab-df-convert:hover {\n",
              "      background-color: #E2EBFA;\n",
              "      box-shadow: 0px 1px 2px rgba(60, 64, 67, 0.3), 0px 1px 3px 1px rgba(60, 64, 67, 0.15);\n",
              "      fill: #174EA6;\n",
              "    }\n",
              "\n",
              "    [theme=dark] .colab-df-convert {\n",
              "      background-color: #3B4455;\n",
              "      fill: #D2E3FC;\n",
              "    }\n",
              "\n",
              "    [theme=dark] .colab-df-convert:hover {\n",
              "      background-color: #434B5C;\n",
              "      box-shadow: 0px 1px 3px 1px rgba(0, 0, 0, 0.15);\n",
              "      filter: drop-shadow(0px 1px 2px rgba(0, 0, 0, 0.3));\n",
              "      fill: #FFFFFF;\n",
              "    }\n",
              "  </style>\n",
              "\n",
              "      <script>\n",
              "        const buttonEl =\n",
              "          document.querySelector('#df-a117b389-fc76-4132-a01b-4391a237431a button.colab-df-convert');\n",
              "        buttonEl.style.display =\n",
              "          google.colab.kernel.accessAllowed ? 'block' : 'none';\n",
              "\n",
              "        async function convertToInteractive(key) {\n",
              "          const element = document.querySelector('#df-a117b389-fc76-4132-a01b-4391a237431a');\n",
              "          const dataTable =\n",
              "            await google.colab.kernel.invokeFunction('convertToInteractive',\n",
              "                                                     [key], {});\n",
              "          if (!dataTable) return;\n",
              "\n",
              "          const docLinkHtml = 'Like what you see? Visit the ' +\n",
              "            '<a target=\"_blank\" href=https://colab.research.google.com/notebooks/data_table.ipynb>data table notebook</a>'\n",
              "            + ' to learn more about interactive tables.';\n",
              "          element.innerHTML = '';\n",
              "          dataTable['output_type'] = 'display_data';\n",
              "          await google.colab.output.renderOutput(dataTable, element);\n",
              "          const docLink = document.createElement('div');\n",
              "          docLink.innerHTML = docLinkHtml;\n",
              "          element.appendChild(docLink);\n",
              "        }\n",
              "      </script>\n",
              "    </div>\n",
              "  </div>\n",
              "  "
            ]
          },
          "metadata": {},
          "execution_count": 47
        }
      ]
    },
    {
      "cell_type": "code",
      "source": [
        "# shuffle raw data first\n",
        "def unison_shuffle_data(data, header):\n",
        "    p = np.random.permutation(len(header))\n",
        "    data = data[p,:]\n",
        "    header = np.asarray(header)[p]\n",
        "    return data, header\n",
        "data, header = unison_shuffle_data(EnronSpamBag.values, header)\n",
        "\n",
        "# split into independent 70% training and 30% testing sets\n",
        "idx = int(0.7*data.shape[0])\n",
        "\n",
        "# 70% of data for training\n",
        "train_x = data[:idx,:]\n",
        "train_y = header[:idx]\n",
        "# # remaining 30% for testing\n",
        "test_x = data[idx:,:]\n",
        "test_y = header[idx:] \n",
        "\n",
        "print(\"train_x/train_y list details, to make sure they are of the right form:\")\n",
        "print(len(train_x))\n",
        "print(train_x)\n",
        "print(train_y[:5])\n",
        "print(len(train_y))"
      ],
      "metadata": {
        "colab": {
          "base_uri": "https://localhost:8080/"
        },
        "id": "pIU98nlUFNg2",
        "outputId": "cbd78eb5-b136-4313-9e3e-69b235688449"
      },
      "execution_count": 48,
      "outputs": [
        {
          "output_type": "stream",
          "name": "stdout",
          "text": [
            "train_x/train_y list details, to make sure they are of the right form:\n",
            "1400\n",
            "[[0 0 0 ... 0 0 0]\n",
            " [0 0 0 ... 0 0 0]\n",
            " [2 2 0 ... 0 0 0]\n",
            " ...\n",
            " [0 0 0 ... 0 0 0]\n",
            " [0 0 0 ... 0 0 0]\n",
            " [0 0 0 ... 0 0 0]]\n",
            "[0 1 1 1 0]\n",
            "1400\n"
          ]
        }
      ]
    },
    {
      "cell_type": "markdown",
      "source": [
        "# Logistic Regression Classifier"
      ],
      "metadata": {
        "id": "JyqPGYigI5OE"
      }
    },
    {
      "cell_type": "code",
      "source": [
        "from sklearn.linear_model import LogisticRegression\n",
        "\n",
        "def fit(train_x,train_y):\n",
        "    model = LogisticRegression(solver=\"lbfgs\")\n",
        "\n",
        "    try:\n",
        "        model.fit(train_x, train_y)\n",
        "    except:\n",
        "        pass\n",
        "    return model\n",
        "\n",
        "model = fit(train_x,train_y)"
      ],
      "metadata": {
        "id": "u9VbkUO7Iq1M"
      },
      "execution_count": 49,
      "outputs": []
    },
    {
      "cell_type": "code",
      "source": [
        "predicted_labels = model.predict(test_x)\n",
        "\n",
        "# print all labels for full trasparency\n",
        "print(\"DEBUG::The logistic regression predicted labels are::\")\n",
        "print(predicted_labels)"
      ],
      "metadata": {
        "colab": {
          "base_uri": "https://localhost:8080/"
        },
        "id": "XaRydSABJPZ-",
        "outputId": "0ed2ae4b-174b-4193-ad19-32866fe069de"
      },
      "execution_count": 50,
      "outputs": [
        {
          "output_type": "stream",
          "name": "stdout",
          "text": [
            "DEBUG::The logistic regression predicted labels are::\n",
            "[0 0 0 1 0 0 0 1 1 0 1 1 1 0 1 1 0 1 0 1 1 0 0 1 0 1 1 1 1 1 0 0 0 1 1 0 0\n",
            " 1 1 1 0 0 0 0 0 0 0 0 1 1 1 1 0 0 1 1 0 0 0 1 1 1 0 1 0 1 1 0 1 0 1 1 0 0\n",
            " 1 0 1 1 0 1 1 0 0 0 0 0 1 1 1 1 1 1 0 1 0 1 1 0 0 1 0 0 0 0 1 1 0 1 1 0 0\n",
            " 0 1 1 0 1 1 1 1 1 1 1 0 1 0 1 1 1 1 1 0 1 1 1 1 1 1 1 0 0 0 0 1 0 0 1 1 0\n",
            " 1 0 1 0 1 0 0 1 1 1 1 1 0 0 1 1 0 0 1 1 0 1 0 1 0 0 1 1 0 1 0 1 0 0 0 0 1\n",
            " 1 1 1 0 0 0 0 0 1 0 1 0 0 1 1 1 1 0 0 0 1 1 0 1 1 0 1 1 1 0 0 1 0 1 0 1 1\n",
            " 0 0 1 1 0 0 0 0 1 1 0 0 0 0 0 1 1 0 0 0 0 1 1 0 1 0 1 0 0 0 1 0 0 0 1 1 0\n",
            " 1 1 1 1 0 1 0 0 0 1 0 1 1 1 0 0 0 1 0 0 0 0 1 0 1 0 1 1 0 1 1 0 0 1 1 0 0\n",
            " 0 0 1 0 0 1 0 1 0 0 0 0 1 1 1 0 0 0 1 1 0 1 1 1 1 1 0 0 0 1 0 0 0 0 0 0 0\n",
            " 0 1 1 0 0 1 1 1 0 0 1 1 1 0 1 0 0 1 1 1 1 1 0 0 1 1 1 1 0 0 0 0 0 0 1 0 1\n",
            " 1 1 0 0 0 1 1 0 1 1 0 0 0 1 1 0 1 0 1 1 0 0 0 0 0 0 0 0 1 0 0 1 0 1 1 0 0\n",
            " 1 1 0 0 0 1 0 1 0 1 0 1 1 0 1 1 1 0 1 1 0 0 1 1 1 0 0 1 0 1 0 1 1 0 1 1 1\n",
            " 1 0 1 1 0 0 1 0 0 0 1 1 0 0 0 0 1 0 0 1 1 0 0 0 1 0 0 0 1 0 0 0 1 1 0 0 1\n",
            " 0 0 1 0 1 1 1 1 1 0 0 1 1 0 0 1 0 1 0 1 0 1 1 0 0 0 0 0 0 0 0 1 1 0 1 1 0\n",
            " 0 1 1 0 0 1 1 0 0 0 0 0 0 1 0 1 0 0 1 0 1 1 0 1 0 0 1 1 1 0 1 1 0 0 1 1 1\n",
            " 0 1 0 0 0 0 0 0 1 0 1 0 1 0 0 0 1 0 0 1 0 1 1 0 1 0 1 1 1 1 1 0 1 0 1 0 0\n",
            " 1 0 0 0 0 0 1 0]\n"
          ]
        }
      ]
    },
    {
      "cell_type": "code",
      "source": [
        "from sklearn.metrics import accuracy_score\n",
        "\n",
        "acc_score = accuracy_score(test_y, predicted_labels)\n",
        "\n",
        "print(\"DEBUG::The logistic regression accuracy score is::\")\n",
        "print(acc_score)"
      ],
      "metadata": {
        "colab": {
          "base_uri": "https://localhost:8080/"
        },
        "id": "VJ4QBHv7JWqF",
        "outputId": "964cf21c-052e-43cb-d62d-bc108d86a9c7"
      },
      "execution_count": 51,
      "outputs": [
        {
          "output_type": "stream",
          "name": "stdout",
          "text": [
            "DEBUG::The logistic regression accuracy score is::\n",
            "0.9883333333333333\n"
          ]
        }
      ]
    },
    {
      "cell_type": "markdown",
      "source": [
        "# Support Vector Machine Classifier"
      ],
      "metadata": {
        "id": "dk0pnJgnJ06S"
      }
    },
    {
      "cell_type": "code",
      "source": [
        "import time\n",
        "from sklearn.svm import SVC # Support Vector Classification model"
      ],
      "metadata": {
        "id": "UYs3AClxJdzS"
      },
      "execution_count": 52,
      "outputs": []
    },
    {
      "cell_type": "code",
      "source": [
        "# Create a support vector classifier\n",
        "clf = SVC(C=1, gamma=\"auto\", probability=True)\n",
        "\n",
        "# Fit the classifier using the training data\n",
        "start_time = time.time()\n",
        "clf.fit(train_x, train_y)\n",
        "end_time = time.time()\n",
        "print(\"Training the SVC Classifier took %3d seconds\"%(end_time-start_time))\n",
        "\n",
        "predicted_labels = clf.predict(test_x)\n",
        "print(\"DEBUG::The SVC Classifier predicted labels are::\")\n",
        "print(predicted_labels)\n",
        "\n",
        "acc_score = accuracy_score(test_y, predicted_labels)\n",
        "\n",
        "print(\"DEBUG::The SVC Classifier accuracy score is::\")\n",
        "print(acc_score)"
      ],
      "metadata": {
        "colab": {
          "base_uri": "https://localhost:8080/"
        },
        "id": "nz9P27yIJ6Rn",
        "outputId": "5009079a-30f9-41b0-f87a-4d13d2f77e2f"
      },
      "execution_count": 53,
      "outputs": [
        {
          "output_type": "stream",
          "name": "stdout",
          "text": [
            "Training the SVC Classifier took  74 seconds\n",
            "DEBUG::The SVC Classifier predicted labels are::\n",
            "[0 0 0 1 0 0 0 1 1 0 1 1 1 0 1 1 0 1 0 1 1 0 0 1 0 1 1 1 1 1 0 0 0 1 1 0 1\n",
            " 1 1 1 0 0 0 1 0 1 1 0 1 0 1 1 0 0 1 1 0 0 0 1 1 1 1 1 0 1 1 1 1 0 1 1 0 0\n",
            " 1 0 1 1 0 1 1 0 0 0 0 0 1 1 1 1 1 1 0 1 0 1 1 1 0 1 0 0 0 0 1 1 0 1 1 0 0\n",
            " 1 1 1 0 1 1 1 1 0 1 1 0 0 0 1 1 1 1 1 0 1 1 1 1 1 1 1 0 0 0 0 1 0 0 1 1 0\n",
            " 1 1 1 0 1 0 1 1 1 1 1 1 1 0 1 1 0 0 1 0 0 1 0 1 1 0 1 1 1 1 0 1 0 0 1 1 1\n",
            " 1 1 1 0 0 1 0 0 1 0 1 1 0 1 1 1 1 0 1 1 1 1 0 1 1 0 1 1 1 0 0 1 0 1 0 1 1\n",
            " 0 0 1 1 0 0 1 0 1 1 0 0 0 1 0 1 1 0 1 0 1 0 1 0 1 0 1 0 0 1 1 0 0 0 1 1 1\n",
            " 1 1 1 1 0 1 1 0 1 1 0 1 1 1 0 0 0 1 0 1 0 0 1 0 1 0 1 1 0 1 1 0 1 1 1 0 1\n",
            " 0 0 0 1 1 1 1 1 0 0 0 0 1 1 1 1 0 1 1 1 0 1 1 1 1 1 0 0 1 1 1 1 0 0 0 0 0\n",
            " 0 1 1 0 0 1 1 1 0 0 1 1 1 0 1 0 0 1 1 1 1 1 0 1 1 1 1 1 0 0 1 0 0 0 1 0 1\n",
            " 1 1 0 1 0 1 1 0 1 1 1 0 0 1 1 0 1 1 1 1 0 0 0 0 0 0 1 0 1 0 0 1 1 1 1 1 0\n",
            " 1 1 0 0 0 1 0 1 1 1 0 1 1 0 1 1 1 0 1 1 1 0 1 1 1 0 0 1 0 1 0 1 1 1 1 1 1\n",
            " 1 1 1 1 0 0 1 0 0 1 1 1 1 0 0 0 1 1 1 1 1 0 0 0 1 0 0 0 0 0 1 0 1 1 1 0 1\n",
            " 1 1 1 1 1 1 1 0 1 1 1 1 1 0 0 1 0 1 0 1 0 1 1 1 0 0 0 0 0 1 0 1 1 0 1 1 0\n",
            " 0 1 1 0 0 1 1 0 0 0 1 0 1 1 0 1 0 0 1 0 1 1 1 1 1 0 1 1 1 1 1 1 1 0 1 1 1\n",
            " 0 1 1 0 0 0 0 0 1 0 1 1 1 0 0 1 1 0 0 1 1 0 1 0 1 0 1 0 1 1 1 0 1 0 1 1 0\n",
            " 1 0 1 0 0 0 1 0]\n",
            "DEBUG::The SVC Classifier accuracy score is::\n",
            "0.86\n"
          ]
        }
      ]
    },
    {
      "cell_type": "markdown",
      "source": [
        "# Random Forests"
      ],
      "metadata": {
        "id": "TAW7bm-qKhfh"
      }
    },
    {
      "cell_type": "code",
      "source": [
        "# Load scikit's random forest classifier library\n",
        "from sklearn.ensemble import RandomForestClassifier\n",
        "\n",
        "# Create a random forest Classifier. By convention, clf means 'Classifier'\n",
        "clf = RandomForestClassifier(n_jobs=1, random_state=0)\n",
        "\n",
        "# Train the Classifier to take the training features and learn how they relate\n",
        "# to the training y (spam, not spam?)\n",
        "start_time = time.time()\n",
        "clf.fit(train_x, train_y)\n",
        "end_time = time.time()\n",
        "print(\"Training the Random Forest Classifier took %3d seconds\"%(end_time-start_time))\n",
        "\n",
        "predicted_labels = clf.predict(test_x)\n",
        "print(\"DEBUG::The RF predicted labels are::\")\n",
        "print(predicted_labels)\n",
        "\n",
        "acc_score = accuracy_score(test_y, predicted_labels)\n",
        "\n",
        "print(\"DEBUG::The RF testing accuracy score is::\")\n",
        "print(acc_score)"
      ],
      "metadata": {
        "colab": {
          "base_uri": "https://localhost:8080/"
        },
        "id": "5m9kULguKA6-",
        "outputId": "a71bec88-4377-461a-9ddc-76a34b4f5f1a"
      },
      "execution_count": 54,
      "outputs": [
        {
          "output_type": "stream",
          "name": "stdout",
          "text": [
            "Training the Random Forest Classifier took   2 seconds\n",
            "DEBUG::The RF predicted labels are::\n",
            "[0 0 0 1 0 0 0 1 1 0 1 1 1 0 1 1 0 1 0 1 1 0 0 1 0 1 1 1 1 1 0 0 0 1 1 0 0\n",
            " 1 1 1 0 0 0 0 0 0 0 0 1 1 1 1 0 0 1 1 0 0 0 1 1 1 0 1 0 1 1 0 1 0 1 1 0 0\n",
            " 1 0 1 1 0 1 1 0 0 0 0 0 1 1 1 1 1 1 0 1 0 1 1 0 0 1 0 0 0 0 1 1 0 1 1 0 0\n",
            " 1 1 1 0 1 1 1 1 1 1 1 0 0 0 1 1 1 1 1 0 1 1 1 1 1 1 1 0 0 0 0 1 0 0 1 1 0\n",
            " 1 0 1 0 1 0 0 1 1 1 1 1 0 0 1 1 0 0 1 1 0 1 0 1 0 0 1 1 0 1 0 1 0 0 0 0 1\n",
            " 1 1 1 0 0 0 0 0 1 0 1 0 0 1 1 1 1 0 0 0 1 1 0 1 0 0 1 1 1 0 0 1 0 1 0 1 1\n",
            " 0 0 1 1 0 0 0 0 1 1 0 0 0 0 0 1 1 0 0 0 0 1 1 0 1 0 1 0 0 0 1 0 0 0 1 1 0\n",
            " 1 1 1 1 0 1 0 0 0 1 0 1 1 1 0 0 0 1 0 0 0 0 1 0 1 0 1 1 0 1 1 0 0 1 1 0 0\n",
            " 0 0 1 0 0 1 0 1 0 0 0 0 1 1 1 0 0 0 1 1 0 1 1 1 1 1 0 0 0 1 0 0 0 0 0 0 0\n",
            " 0 1 1 0 0 1 1 1 0 0 1 1 1 0 1 0 0 1 1 1 1 1 0 0 1 1 1 1 0 0 0 0 0 0 1 0 1\n",
            " 1 1 0 1 0 1 1 0 1 1 0 0 0 1 1 0 1 0 1 1 0 0 1 0 0 0 0 0 1 0 0 1 0 1 1 0 0\n",
            " 1 1 0 0 0 1 0 1 0 1 0 1 1 0 1 1 1 0 1 1 0 0 1 1 1 0 0 1 0 1 0 1 1 0 1 1 1\n",
            " 1 0 1 1 0 0 1 0 0 0 1 1 0 0 0 0 1 0 0 1 1 0 0 0 1 0 0 0 1 0 0 0 1 1 0 0 1\n",
            " 0 0 1 0 1 1 1 1 1 0 0 1 1 0 0 1 0 1 0 1 0 1 1 0 0 0 0 0 0 0 0 1 1 0 1 1 0\n",
            " 0 1 1 0 0 1 1 0 0 0 0 0 0 1 0 1 0 0 1 0 1 1 0 1 0 0 1 1 1 0 1 1 0 0 1 1 1\n",
            " 0 1 0 0 0 0 0 0 1 0 1 0 1 0 0 0 1 0 0 0 0 0 1 0 1 0 1 1 1 1 1 0 1 0 1 0 0\n",
            " 1 0 0 0 0 0 1 0]\n",
            "DEBUG::The RF testing accuracy score is::\n",
            "0.9833333333333333\n"
          ]
        }
      ]
    },
    {
      "cell_type": "code",
      "source": [
        "# Now, tune parameters systematically\n",
        "from sklearn.model_selection import GridSearchCV\n",
        "\n",
        "print(\"Available hyper-parameters for systematic tuning available with RF:\")\n",
        "print(clf.get_params())\n",
        "\n",
        "# select a subset of parameters to tune, and specify grid for each\n",
        "param_grid = {\n",
        "    'min_samples_leaf': [1, 2, 3],\n",
        "    'min_samples_split': [2, 6, 10],\n",
        "    'n_estimators': [10, 100, 1000]\n",
        "}\n",
        "grid_search = GridSearchCV(estimator = clf, param_grid = param_grid, \n",
        "                          cv = 3, n_jobs = -1, verbose = 2)\n",
        "\n",
        "# Fit the grid search to the data\n",
        "grid_search.fit(train_x, train_y)\n",
        "\n",
        "print(\"Best parameters found:\")\n",
        "print(grid_search.best_params_)\n",
        "\n",
        "print(\"Estimated accuracy is:\")\n",
        "acc_score = accuracy_score(test_y, grid_search.best_estimator_.predict(test_x))\n",
        "print(acc_score)"
      ],
      "metadata": {
        "colab": {
          "base_uri": "https://localhost:8080/"
        },
        "id": "pB2v2sdoKvGz",
        "outputId": "a1abe198-a8af-4ba8-e785-0cddf4adf860"
      },
      "execution_count": 55,
      "outputs": [
        {
          "output_type": "stream",
          "name": "stdout",
          "text": [
            "Available hyper-parameters for systematic tuning available with RF:\n",
            "{'bootstrap': True, 'ccp_alpha': 0.0, 'class_weight': None, 'criterion': 'gini', 'max_depth': None, 'max_features': 'auto', 'max_leaf_nodes': None, 'max_samples': None, 'min_impurity_decrease': 0.0, 'min_samples_leaf': 1, 'min_samples_split': 2, 'min_weight_fraction_leaf': 0.0, 'n_estimators': 100, 'n_jobs': 1, 'oob_score': False, 'random_state': 0, 'verbose': 0, 'warm_start': False}\n",
            "Fitting 3 folds for each of 27 candidates, totalling 81 fits\n",
            "Best parameters found:\n",
            "{'min_samples_leaf': 1, 'min_samples_split': 2, 'n_estimators': 1000}\n",
            "Estimated accuracy is:\n",
            "0.98\n"
          ]
        }
      ]
    },
    {
      "cell_type": "markdown",
      "source": [
        "# Download IMDB Movie Review Dataset"
      ],
      "metadata": {
        "id": "JjFESmD1S6hG"
      }
    },
    {
      "cell_type": "code",
      "source": [
        "## Read-in the reviews and print some basic descriptions of them\n",
        "\n",
        "!wget -q \"http://ai.stanford.edu/~amaas/data/sentiment/aclImdb_v1.tar.gz\"\n",
        "!tar xzf aclImdb_v1.tar.gz"
      ],
      "metadata": {
        "id": "vSzZzK2VLQUJ"
      },
      "execution_count": 56,
      "outputs": []
    },
    {
      "cell_type": "code",
      "source": [
        "# shuffle raw data first\n",
        "def unison_shuffle_data(data, header):\n",
        "    p = np.random.permutation(len(header))\n",
        "    data = data[p]\n",
        "    header = np.asarray(header)[p]\n",
        "    return data, header\n",
        "\n",
        "# load data in appropriate form\n",
        "def load_data(path):\n",
        "    data, sentiments = [], []\n",
        "    for folder, sentiment in (('neg', 0), ('pos', 1)):\n",
        "        folder = os.path.join(path, folder)\n",
        "        for name in os.listdir(folder):\n",
        "            with open(os.path.join(folder, name), 'r') as reader:\n",
        "                  text = reader.read()\n",
        "            text = Tokenize(text)\n",
        "            text = stop_word_removal(text)\n",
        "            text = reg_expressions(text)\n",
        "            data.append(text)\n",
        "            sentiments.append(sentiment)\n",
        "    data_np = np.array(data)\n",
        "    data, sentiments = unison_shuffle_data(data_np, sentiments)\n",
        "    \n",
        "    return data, sentiments\n",
        "\n",
        "train_path = os.path.join('aclImdb', 'train')\n",
        "test_path = os.path.join('aclImdb', 'test')\n",
        "raw_data, raw_header = load_data(train_path)\n",
        "\n",
        "print(raw_data.shape)\n",
        "print(len(raw_header))"
      ],
      "metadata": {
        "colab": {
          "base_uri": "https://localhost:8080/"
        },
        "id": "h9DK1uQvTAxu",
        "outputId": "ccd06a1d-0862-4043-c54f-8d3358b2c5fc"
      },
      "execution_count": 58,
      "outputs": [
        {
          "output_type": "stream",
          "name": "stdout",
          "text": [
            "(25000,)\n",
            "25000\n"
          ]
        },
        {
          "output_type": "stream",
          "name": "stderr",
          "text": [
            "<ipython-input-58-aead18603fef>:21: VisibleDeprecationWarning: Creating an ndarray from ragged nested sequences (which is a list-or-tuple of lists-or-tuples-or ndarrays with different lengths or shapes) is deprecated. If you meant to do this, you must specify 'dtype=object' when creating the ndarray.\n",
            "  data_np = np.array(data)\n"
          ]
        }
      ]
    },
    {
      "cell_type": "code",
      "source": [
        "# Subsample required number of samples\n",
        "random_indices = np.random.choice(range(len(raw_header)),size=(Nsamp*2,),replace=False)\n",
        "data_train = raw_data[random_indices]\n",
        "header = raw_header[random_indices]\n",
        "\n",
        "print(\"DEBUG::data_train::\")\n",
        "print(data_train)"
      ],
      "metadata": {
        "colab": {
          "base_uri": "https://localhost:8080/"
        },
        "id": "kBvM9qweTNEn",
        "outputId": "715a3b4b-0f35-4fa8-d704-94262d07524b"
      },
      "execution_count": 59,
      "outputs": [
        {
          "output_type": "stream",
          "name": "stdout",
          "text": [
            "DEBUG::data_train::\n",
            "[list(['i', 'seen', 'couple', 'movies', 'eating', 'disorders', 'one', 'definitely', 'favorite', 'one', 'the', 'problem', 'ones', 'people', 'eating', 'disorders', 'towards', 'end', 'automatically', 'get', 'better', 'accept', 'fact', 'need', 'help', 'thats', 'it', 'movie', 'i', 'thought', 'realistic', 'cause', 'one', 'main', 'character', 'lexi', 'automatically', 'get', 'better', 'she', 'gets', 'better', 'drawback', 'i', 'think', 'movie', 'shows', 'others', 'ive', 'seen', 'getting', 'better', 'happen', 'hard', 'work', 'takes', 'time', 'long', 'path', 'recovery', 'i', 'think', 'movie', 'shows', 'well', 'there', 'movies', 'like', 'this'])\n",
            " list(['i', 'expecting', 'documentary', 'focused', 'tobacco', 'industry', 'north', 'carolina', 'instead', 'i', 'watched', 'man', 'rues', 'fact', 'great', 'grandfather', 'lost', 'tobacco', 'empire', 'duke', 'family', 'and', 'went', 'on', 'if', 'mr', 'mcelwees', 'family', 'prevailed', 'dukes', 'i', 'doubt', 'mr', 'mcelwee', 'would', 'problems', 'death', 'toll', 'caused', 'tobaccorelated', 'diseases', 'i', 'grew', 'near', 'area', 'mr', 'mcelwees', 'family', 'began', 'tobacco', 'business', '', 'i', 'expected', 'mcewees', 'continual', 'focus', 'family', 'i', 'learned', 'little', 'history', 'tobacco', 'nc', 'economy', 'ramifications', 'states', 'economy', 'tighter', 'regulation', 'tobacco', 'the', 'countless', 'references', 'movie', 'bright', 'leaves', 'place', '', 'so', 'gary', 'cooper', 'played', 'mr', 'mcelwees', 'great', 'grandfather', 'does', 'viewer', 'gain', 'understanding', 'role', 'tobacco', 'north', 'carolina', 'economy', 'showing', 'old', 'film', 'clips', 'fictionalized', 'film', 'i', 'didnt'])\n",
            " list(['chess', 'movies', 'made', 'last', 'couple', 'years', 'but', 'one', 'chess', 'movie', 'story', 'need', 'loved', 'need', 'win', 'itjohn', 'toturro', 'plays', 'psychologically', 'challenged', 'man', 'nothing', 'matters', 'accept', '', 'squares', '', 'pieces', 'the', 'game', 'validates', 'person', 'when', 'looses', 'game', 'looses', 'one', 'thing', 'makes', 'sense', 'john', 'torturro', 'expresses', 'beautiful', 'fashioneven', 'love', 'woman', 'enough', 'save', 'sad', 'existenceit', 'makes', 'wonder', 'luzons', 'obsess', 'gamei', 'sure', 'areif', 'chess', 'enthusiast', 'hurt', 'watch', 'itits', 'intelligent', 'piece', 'work', 'laid', 'properly', 'executed', 'wellit', 'achieves', 'objectivesunfortunately', 'doubt', 'sequel'])\n",
            " ...\n",
            " list(['the', 'wonderfully', 'urbane', 'ronald', 'coleman', 'showcased', 'films', 'he', 'literally', 'every', 'scene', 'comical', 'movie', 'remains', 'fresh', 'him', 'spite', 'him', 'he', 'handsome', 'witty', 'clever', 'remains', 'step', 'ahead', 'wandering', 'lovely', 'wifeplayed', 'perfectly', 'anna', 'lee', 'the', 'movie', 'based', 'french', 'play', 'brings', 'best', 'qualities', 'farce', 'most', 'supporting', 'cast', 'well', 'known', 'least', 'face', 'nameand', 'absolutely', 'perfect', 'funny', 'film', 'the', 'fantastic', 'mr', 'coleman', 'combination', 'sean', 'connery', 'clark', 'gable', 'stays', 'step', 'ahead', 'characters', 'his', 'multitalents', 'appreciated', 'classic', 'lost', 'horizon', 'every', 'film', 'buff', 'must', 'see'])\n",
            " list(['to', 'make', 'short', 'spoil', 'everything', 'film', 'kip', 'giovanni', 'ribsi', 'car', 'thief', 'messes', 'big', 'delivery', 'stolen', 'cars', '', 'total', 'he', 'threatened', 'killed', 'man', 'gave', 'order', 'the', 'objective', 'get', '', 'cars', 'stolen', '', 'days', 'help', 'randall', 'nicolas', 'cage', 'retired', 'booster', 'also', 'kips', 'brother', 'couple', 'old', 'friends', 'randalls', 'as', 'see', 'old', 'big', 'bro', 'needs', 'get', 'lil', 'bro', 'trouble', 'routine', 'course', 'randall', 'best', 'thief', 'ever', 'was', 'of', 'course', 'movies', 'also', 'setbacks', 'surprises', 'never', 'would', 'thought', 'of', 'times', 'predictable', 'too', 'nothing', 'fancy', 'story', 'br', 'br', 'you', 'probably', 'wondering', '', 'times', 'hot', 'stuff', 'since', '', 'beautiful', 'fast', 'cool', 'expensive', 'cars', 'stolen', 'well', 'hot', 'item', 'film', 'sway', 'angelina', 'jolie', 'who', 'big', 'star', 'trust', 'me', 'she'])\n",
            " list(['rosalind', 'russell', 'executes', 'powerhouse', 'performance', 'rosie', 'lord', 'wealthy', 'woman', 'greedy', 'heirs', 'with', 'auntie', 'mametype', 'character', 'actress', 'never', 'go', 'wrong', 'her', 'veryreal', 'terror', 'insane', 'assylum', 'wonderful', 'piece', 'acting', 'everyone', 'watch', 'this'])]\n"
          ]
        }
      ]
    },
    {
      "cell_type": "code",
      "source": [
        "unique_elements, counts_elements = np.unique(header, return_counts=True)\n",
        "print(\"Sentiments and their frequencies:\")\n",
        "print(unique_elements)\n",
        "print(counts_elements)"
      ],
      "metadata": {
        "colab": {
          "base_uri": "https://localhost:8080/"
        },
        "id": "0pthVXSCTg1h",
        "outputId": "741c2a3d-a36f-4804-abac-52d6a190ebc7"
      },
      "execution_count": 60,
      "outputs": [
        {
          "output_type": "stream",
          "name": "stdout",
          "text": [
            "Sentiments and their frequencies:\n",
            "[0 1]\n",
            "[ 980 1020]\n"
          ]
        }
      ]
    },
    {
      "cell_type": "markdown",
      "source": [
        "## Featurize and Create Labels"
      ],
      "metadata": {
        "id": "rAp_gIZgT0uf"
      }
    },
    {
      "cell_type": "code",
      "source": [
        "MixedBagOfReviews = assemble_bag(data_train)\n",
        "# this is the list of words in our bag-of-words model\n",
        "predictors = [column for column in MixedBagOfReviews.columns]\n",
        "\n",
        "MixedBagOfReviews"
      ],
      "metadata": {
        "colab": {
          "base_uri": "https://localhost:8080/",
          "height": 488
        },
        "id": "26EvJB0hTuPS",
        "outputId": "b9d99717-04a6-4bd2-c1c8-df32ba9db4b2"
      },
      "execution_count": 61,
      "outputs": [
        {
          "output_type": "execute_result",
          "data": {
            "text/plain": [
              "      one  eating  disorders  i  automatically  get  better  movie  seen  \\\n",
              "0       3       2          2  4              2    2       4      3     2   \n",
              "1       0       0          0  7              0    0       0      1     0   \n",
              "2       2       0          0  0              0    0       0      1     0   \n",
              "3       1       0          0  2              0    2       0      3     0   \n",
              "4       1       0          0  0              0    0       1      2     0   \n",
              "...   ...     ...        ... ..            ...  ...     ...    ...   ...   \n",
              "1995    2       0          0  2              0    0       0      0     0   \n",
              "1996    2       0          0  3              0    0       0      0     0   \n",
              "1997    0       0          0  0              0    0       0      2     0   \n",
              "1998    0       0          0  0              0    2       0      0     0   \n",
              "1999    0       0          0  0              0    0       0      0     0   \n",
              "\n",
              "      think  ...  mazinger  extravagant  coleman  horizon  messes  randall  \\\n",
              "0         2  ...         0            0        0        0       0        0   \n",
              "1         0  ...         0            0        0        0       0        0   \n",
              "2         0  ...         0            0        0        0       0        0   \n",
              "3         0  ...         0            0        0        0       0        0   \n",
              "4         0  ...         0            0        0        0       0        0   \n",
              "...     ...  ...       ...          ...      ...      ...     ...      ...   \n",
              "1995      0  ...         0            0        0        0       0        0   \n",
              "1996      0  ...         2            1        0        0       0        0   \n",
              "1997      0  ...         0            0        2        1       0        0   \n",
              "1998      0  ...         0            0        0        0       1        2   \n",
              "1999      0  ...         0            0        0        0       0        0   \n",
              "\n",
              "      bro  item  rosalind  rosie  \n",
              "0       0     0         0      0  \n",
              "1       0     0         0      0  \n",
              "2       0     0         0      0  \n",
              "3       0     0         0      0  \n",
              "4       0     0         0      0  \n",
              "...   ...   ...       ...    ...  \n",
              "1995    0     0         0      0  \n",
              "1996    0     0         0      0  \n",
              "1997    0     0         0      0  \n",
              "1998    2     1         0      0  \n",
              "1999    0     0         1      1  \n",
              "\n",
              "[2000 rows x 11515 columns]"
            ],
            "text/html": [
              "\n",
              "  <div id=\"df-72cdd75c-193d-469f-93b7-c326dd6519b1\">\n",
              "    <div class=\"colab-df-container\">\n",
              "      <div>\n",
              "<style scoped>\n",
              "    .dataframe tbody tr th:only-of-type {\n",
              "        vertical-align: middle;\n",
              "    }\n",
              "\n",
              "    .dataframe tbody tr th {\n",
              "        vertical-align: top;\n",
              "    }\n",
              "\n",
              "    .dataframe thead th {\n",
              "        text-align: right;\n",
              "    }\n",
              "</style>\n",
              "<table border=\"1\" class=\"dataframe\">\n",
              "  <thead>\n",
              "    <tr style=\"text-align: right;\">\n",
              "      <th></th>\n",
              "      <th>one</th>\n",
              "      <th>eating</th>\n",
              "      <th>disorders</th>\n",
              "      <th>i</th>\n",
              "      <th>automatically</th>\n",
              "      <th>get</th>\n",
              "      <th>better</th>\n",
              "      <th>movie</th>\n",
              "      <th>seen</th>\n",
              "      <th>think</th>\n",
              "      <th>...</th>\n",
              "      <th>mazinger</th>\n",
              "      <th>extravagant</th>\n",
              "      <th>coleman</th>\n",
              "      <th>horizon</th>\n",
              "      <th>messes</th>\n",
              "      <th>randall</th>\n",
              "      <th>bro</th>\n",
              "      <th>item</th>\n",
              "      <th>rosalind</th>\n",
              "      <th>rosie</th>\n",
              "    </tr>\n",
              "  </thead>\n",
              "  <tbody>\n",
              "    <tr>\n",
              "      <th>0</th>\n",
              "      <td>3</td>\n",
              "      <td>2</td>\n",
              "      <td>2</td>\n",
              "      <td>4</td>\n",
              "      <td>2</td>\n",
              "      <td>2</td>\n",
              "      <td>4</td>\n",
              "      <td>3</td>\n",
              "      <td>2</td>\n",
              "      <td>2</td>\n",
              "      <td>...</td>\n",
              "      <td>0</td>\n",
              "      <td>0</td>\n",
              "      <td>0</td>\n",
              "      <td>0</td>\n",
              "      <td>0</td>\n",
              "      <td>0</td>\n",
              "      <td>0</td>\n",
              "      <td>0</td>\n",
              "      <td>0</td>\n",
              "      <td>0</td>\n",
              "    </tr>\n",
              "    <tr>\n",
              "      <th>1</th>\n",
              "      <td>0</td>\n",
              "      <td>0</td>\n",
              "      <td>0</td>\n",
              "      <td>7</td>\n",
              "      <td>0</td>\n",
              "      <td>0</td>\n",
              "      <td>0</td>\n",
              "      <td>1</td>\n",
              "      <td>0</td>\n",
              "      <td>0</td>\n",
              "      <td>...</td>\n",
              "      <td>0</td>\n",
              "      <td>0</td>\n",
              "      <td>0</td>\n",
              "      <td>0</td>\n",
              "      <td>0</td>\n",
              "      <td>0</td>\n",
              "      <td>0</td>\n",
              "      <td>0</td>\n",
              "      <td>0</td>\n",
              "      <td>0</td>\n",
              "    </tr>\n",
              "    <tr>\n",
              "      <th>2</th>\n",
              "      <td>2</td>\n",
              "      <td>0</td>\n",
              "      <td>0</td>\n",
              "      <td>0</td>\n",
              "      <td>0</td>\n",
              "      <td>0</td>\n",
              "      <td>0</td>\n",
              "      <td>1</td>\n",
              "      <td>0</td>\n",
              "      <td>0</td>\n",
              "      <td>...</td>\n",
              "      <td>0</td>\n",
              "      <td>0</td>\n",
              "      <td>0</td>\n",
              "      <td>0</td>\n",
              "      <td>0</td>\n",
              "      <td>0</td>\n",
              "      <td>0</td>\n",
              "      <td>0</td>\n",
              "      <td>0</td>\n",
              "      <td>0</td>\n",
              "    </tr>\n",
              "    <tr>\n",
              "      <th>3</th>\n",
              "      <td>1</td>\n",
              "      <td>0</td>\n",
              "      <td>0</td>\n",
              "      <td>2</td>\n",
              "      <td>0</td>\n",
              "      <td>2</td>\n",
              "      <td>0</td>\n",
              "      <td>3</td>\n",
              "      <td>0</td>\n",
              "      <td>0</td>\n",
              "      <td>...</td>\n",
              "      <td>0</td>\n",
              "      <td>0</td>\n",
              "      <td>0</td>\n",
              "      <td>0</td>\n",
              "      <td>0</td>\n",
              "      <td>0</td>\n",
              "      <td>0</td>\n",
              "      <td>0</td>\n",
              "      <td>0</td>\n",
              "      <td>0</td>\n",
              "    </tr>\n",
              "    <tr>\n",
              "      <th>4</th>\n",
              "      <td>1</td>\n",
              "      <td>0</td>\n",
              "      <td>0</td>\n",
              "      <td>0</td>\n",
              "      <td>0</td>\n",
              "      <td>0</td>\n",
              "      <td>1</td>\n",
              "      <td>2</td>\n",
              "      <td>0</td>\n",
              "      <td>0</td>\n",
              "      <td>...</td>\n",
              "      <td>0</td>\n",
              "      <td>0</td>\n",
              "      <td>0</td>\n",
              "      <td>0</td>\n",
              "      <td>0</td>\n",
              "      <td>0</td>\n",
              "      <td>0</td>\n",
              "      <td>0</td>\n",
              "      <td>0</td>\n",
              "      <td>0</td>\n",
              "    </tr>\n",
              "    <tr>\n",
              "      <th>...</th>\n",
              "      <td>...</td>\n",
              "      <td>...</td>\n",
              "      <td>...</td>\n",
              "      <td>...</td>\n",
              "      <td>...</td>\n",
              "      <td>...</td>\n",
              "      <td>...</td>\n",
              "      <td>...</td>\n",
              "      <td>...</td>\n",
              "      <td>...</td>\n",
              "      <td>...</td>\n",
              "      <td>...</td>\n",
              "      <td>...</td>\n",
              "      <td>...</td>\n",
              "      <td>...</td>\n",
              "      <td>...</td>\n",
              "      <td>...</td>\n",
              "      <td>...</td>\n",
              "      <td>...</td>\n",
              "      <td>...</td>\n",
              "      <td>...</td>\n",
              "    </tr>\n",
              "    <tr>\n",
              "      <th>1995</th>\n",
              "      <td>2</td>\n",
              "      <td>0</td>\n",
              "      <td>0</td>\n",
              "      <td>2</td>\n",
              "      <td>0</td>\n",
              "      <td>0</td>\n",
              "      <td>0</td>\n",
              "      <td>0</td>\n",
              "      <td>0</td>\n",
              "      <td>0</td>\n",
              "      <td>...</td>\n",
              "      <td>0</td>\n",
              "      <td>0</td>\n",
              "      <td>0</td>\n",
              "      <td>0</td>\n",
              "      <td>0</td>\n",
              "      <td>0</td>\n",
              "      <td>0</td>\n",
              "      <td>0</td>\n",
              "      <td>0</td>\n",
              "      <td>0</td>\n",
              "    </tr>\n",
              "    <tr>\n",
              "      <th>1996</th>\n",
              "      <td>2</td>\n",
              "      <td>0</td>\n",
              "      <td>0</td>\n",
              "      <td>3</td>\n",
              "      <td>0</td>\n",
              "      <td>0</td>\n",
              "      <td>0</td>\n",
              "      <td>0</td>\n",
              "      <td>0</td>\n",
              "      <td>0</td>\n",
              "      <td>...</td>\n",
              "      <td>2</td>\n",
              "      <td>1</td>\n",
              "      <td>0</td>\n",
              "      <td>0</td>\n",
              "      <td>0</td>\n",
              "      <td>0</td>\n",
              "      <td>0</td>\n",
              "      <td>0</td>\n",
              "      <td>0</td>\n",
              "      <td>0</td>\n",
              "    </tr>\n",
              "    <tr>\n",
              "      <th>1997</th>\n",
              "      <td>0</td>\n",
              "      <td>0</td>\n",
              "      <td>0</td>\n",
              "      <td>0</td>\n",
              "      <td>0</td>\n",
              "      <td>0</td>\n",
              "      <td>0</td>\n",
              "      <td>2</td>\n",
              "      <td>0</td>\n",
              "      <td>0</td>\n",
              "      <td>...</td>\n",
              "      <td>0</td>\n",
              "      <td>0</td>\n",
              "      <td>2</td>\n",
              "      <td>1</td>\n",
              "      <td>0</td>\n",
              "      <td>0</td>\n",
              "      <td>0</td>\n",
              "      <td>0</td>\n",
              "      <td>0</td>\n",
              "      <td>0</td>\n",
              "    </tr>\n",
              "    <tr>\n",
              "      <th>1998</th>\n",
              "      <td>0</td>\n",
              "      <td>0</td>\n",
              "      <td>0</td>\n",
              "      <td>0</td>\n",
              "      <td>0</td>\n",
              "      <td>2</td>\n",
              "      <td>0</td>\n",
              "      <td>0</td>\n",
              "      <td>0</td>\n",
              "      <td>0</td>\n",
              "      <td>...</td>\n",
              "      <td>0</td>\n",
              "      <td>0</td>\n",
              "      <td>0</td>\n",
              "      <td>0</td>\n",
              "      <td>1</td>\n",
              "      <td>2</td>\n",
              "      <td>2</td>\n",
              "      <td>1</td>\n",
              "      <td>0</td>\n",
              "      <td>0</td>\n",
              "    </tr>\n",
              "    <tr>\n",
              "      <th>1999</th>\n",
              "      <td>0</td>\n",
              "      <td>0</td>\n",
              "      <td>0</td>\n",
              "      <td>0</td>\n",
              "      <td>0</td>\n",
              "      <td>0</td>\n",
              "      <td>0</td>\n",
              "      <td>0</td>\n",
              "      <td>0</td>\n",
              "      <td>0</td>\n",
              "      <td>...</td>\n",
              "      <td>0</td>\n",
              "      <td>0</td>\n",
              "      <td>0</td>\n",
              "      <td>0</td>\n",
              "      <td>0</td>\n",
              "      <td>0</td>\n",
              "      <td>0</td>\n",
              "      <td>0</td>\n",
              "      <td>1</td>\n",
              "      <td>1</td>\n",
              "    </tr>\n",
              "  </tbody>\n",
              "</table>\n",
              "<p>2000 rows × 11515 columns</p>\n",
              "</div>\n",
              "      <button class=\"colab-df-convert\" onclick=\"convertToInteractive('df-72cdd75c-193d-469f-93b7-c326dd6519b1')\"\n",
              "              title=\"Convert this dataframe to an interactive table.\"\n",
              "              style=\"display:none;\">\n",
              "        \n",
              "  <svg xmlns=\"http://www.w3.org/2000/svg\" height=\"24px\"viewBox=\"0 0 24 24\"\n",
              "       width=\"24px\">\n",
              "    <path d=\"M0 0h24v24H0V0z\" fill=\"none\"/>\n",
              "    <path d=\"M18.56 5.44l.94 2.06.94-2.06 2.06-.94-2.06-.94-.94-2.06-.94 2.06-2.06.94zm-11 1L8.5 8.5l.94-2.06 2.06-.94-2.06-.94L8.5 2.5l-.94 2.06-2.06.94zm10 10l.94 2.06.94-2.06 2.06-.94-2.06-.94-.94-2.06-.94 2.06-2.06.94z\"/><path d=\"M17.41 7.96l-1.37-1.37c-.4-.4-.92-.59-1.43-.59-.52 0-1.04.2-1.43.59L10.3 9.45l-7.72 7.72c-.78.78-.78 2.05 0 2.83L4 21.41c.39.39.9.59 1.41.59.51 0 1.02-.2 1.41-.59l7.78-7.78 2.81-2.81c.8-.78.8-2.07 0-2.86zM5.41 20L4 18.59l7.72-7.72 1.47 1.35L5.41 20z\"/>\n",
              "  </svg>\n",
              "      </button>\n",
              "      \n",
              "  <style>\n",
              "    .colab-df-container {\n",
              "      display:flex;\n",
              "      flex-wrap:wrap;\n",
              "      gap: 12px;\n",
              "    }\n",
              "\n",
              "    .colab-df-convert {\n",
              "      background-color: #E8F0FE;\n",
              "      border: none;\n",
              "      border-radius: 50%;\n",
              "      cursor: pointer;\n",
              "      display: none;\n",
              "      fill: #1967D2;\n",
              "      height: 32px;\n",
              "      padding: 0 0 0 0;\n",
              "      width: 32px;\n",
              "    }\n",
              "\n",
              "    .colab-df-convert:hover {\n",
              "      background-color: #E2EBFA;\n",
              "      box-shadow: 0px 1px 2px rgba(60, 64, 67, 0.3), 0px 1px 3px 1px rgba(60, 64, 67, 0.15);\n",
              "      fill: #174EA6;\n",
              "    }\n",
              "\n",
              "    [theme=dark] .colab-df-convert {\n",
              "      background-color: #3B4455;\n",
              "      fill: #D2E3FC;\n",
              "    }\n",
              "\n",
              "    [theme=dark] .colab-df-convert:hover {\n",
              "      background-color: #434B5C;\n",
              "      box-shadow: 0px 1px 3px 1px rgba(0, 0, 0, 0.15);\n",
              "      filter: drop-shadow(0px 1px 2px rgba(0, 0, 0, 0.3));\n",
              "      fill: #FFFFFF;\n",
              "    }\n",
              "  </style>\n",
              "\n",
              "      <script>\n",
              "        const buttonEl =\n",
              "          document.querySelector('#df-72cdd75c-193d-469f-93b7-c326dd6519b1 button.colab-df-convert');\n",
              "        buttonEl.style.display =\n",
              "          google.colab.kernel.accessAllowed ? 'block' : 'none';\n",
              "\n",
              "        async function convertToInteractive(key) {\n",
              "          const element = document.querySelector('#df-72cdd75c-193d-469f-93b7-c326dd6519b1');\n",
              "          const dataTable =\n",
              "            await google.colab.kernel.invokeFunction('convertToInteractive',\n",
              "                                                     [key], {});\n",
              "          if (!dataTable) return;\n",
              "\n",
              "          const docLinkHtml = 'Like what you see? Visit the ' +\n",
              "            '<a target=\"_blank\" href=https://colab.research.google.com/notebooks/data_table.ipynb>data table notebook</a>'\n",
              "            + ' to learn more about interactive tables.';\n",
              "          element.innerHTML = '';\n",
              "          dataTable['output_type'] = 'display_data';\n",
              "          await google.colab.output.renderOutput(dataTable, element);\n",
              "          const docLink = document.createElement('div');\n",
              "          docLink.innerHTML = docLinkHtml;\n",
              "          element.appendChild(docLink);\n",
              "        }\n",
              "      </script>\n",
              "    </div>\n",
              "  </div>\n",
              "  "
            ]
          },
          "metadata": {},
          "execution_count": 61
        }
      ]
    },
    {
      "cell_type": "code",
      "source": [
        "# split into independent 70% training and 30% testing sets\n",
        "data = MixedBagOfReviews.values\n",
        "\n",
        "idx = int(0.7*data.shape[0])\n",
        "\n",
        "# 70% of data for training\n",
        "train_x = data[:idx,:]\n",
        "train_y = header[:idx]\n",
        "# remaining 30% for testing\n",
        "test_x = data[idx:,:]\n",
        "test_y = header[idx:] \n",
        "\n",
        "print(\"train_x/train_y list details, to make sure it is of the right form:\")\n",
        "print(len(train_x))\n",
        "print(train_x)\n",
        "print(train_y[:5])\n",
        "print(len(train_y))"
      ],
      "metadata": {
        "colab": {
          "base_uri": "https://localhost:8080/"
        },
        "id": "mfiUTCmGT73W",
        "outputId": "de5b0741-370d-48d6-ba3a-31218c0abcc0"
      },
      "execution_count": 62,
      "outputs": [
        {
          "output_type": "stream",
          "name": "stdout",
          "text": [
            "train_x/train_y list details, to make sure it is of the right form:\n",
            "1400\n",
            "[[3 2 2 ... 0 0 0]\n",
            " [0 0 0 ... 0 0 0]\n",
            " [2 0 0 ... 0 0 0]\n",
            " ...\n",
            " [3 0 0 ... 0 0 0]\n",
            " [1 0 0 ... 0 0 0]\n",
            " [0 0 0 ... 0 0 0]]\n",
            "[1 0 1 0 0]\n",
            "1400\n"
          ]
        }
      ]
    },
    {
      "cell_type": "code",
      "source": [
        "from sklearn.feature_extraction.text import CountVectorizer, TfidfVectorizer, HashingVectorizer\n",
        "\n",
        "# create the transform - uncomment the one you want to focus on\n",
        "# vectorizer = CountVectorizer() # this is equivalent to the bag of words\n",
        "vectorizer = TfidfVectorizer() # tf-idf vectorizer\n",
        "# vectorizer = HashingVectorizer(n_features=3000) # hashing vectorizer"
      ],
      "metadata": {
        "id": "Aho4RB3oUXjo"
      },
      "execution_count": 63,
      "outputs": []
    },
    {
      "cell_type": "code",
      "source": [
        "# build vocabulary\n",
        "vectorizer.fit([' '.join(sublst) for sublst in data_train])\n",
        "# summarize\n",
        "print(len(vectorizer.vocabulary_))\n",
        "#print(vectorizer.idf_)\n",
        "# encode one document\n",
        "vector = vectorizer.transform([' '.join(data_train[0])])\n",
        "# summarize encoded vector\n",
        "print(vector.shape)\n",
        "print(vector.toarray())\n",
        "\n",
        "USE = False # set this to 'True' if you want to use the vectorizer featurizers instead of the bag-of-words done before\n",
        "if(USE):\n",
        "    data = vectorizer.transform([' '.join(sublst) for sublst in data_train]).toarray()\n",
        "    # 70% of data for training\n",
        "    train_x = data[:idx,:]\n",
        "    # remaining 30% for testing\n",
        "    test_x = data[idx:,:]\n",
        "\n",
        "    print(\"train_x/train_y list details, to make sure it is of the right form:\")\n",
        "    print(train_x.shape[0])\n",
        "    print(train_x)\n",
        "    print(train_y[:5])\n",
        "    print(len(train_y))\n",
        "    predictors = [column for column in vectorizer.vocabulary_]"
      ],
      "metadata": {
        "colab": {
          "base_uri": "https://localhost:8080/"
        },
        "id": "asNiRA8SUdrW",
        "outputId": "517b50b3-55cb-4a33-e4ba-0ae6174052a9"
      },
      "execution_count": 64,
      "outputs": [
        {
          "output_type": "stream",
          "name": "stdout",
          "text": [
            "24274\n",
            "(1, 24274)\n",
            "[[0. 0. 0. ... 0. 0. 0.]]\n"
          ]
        }
      ]
    },
    {
      "cell_type": "markdown",
      "source": [
        "# LR"
      ],
      "metadata": {
        "id": "K1s-igNwU0KY"
      }
    },
    {
      "cell_type": "code",
      "source": [
        "model = fit(train_x,train_y)"
      ],
      "metadata": {
        "id": "PHxaJ8N5Ulyd"
      },
      "execution_count": 65,
      "outputs": []
    },
    {
      "cell_type": "code",
      "source": [
        "predicted_labels = model.predict(test_x)\n",
        "\n",
        "# print all labels for full trasparency\n",
        "print(\"DEBUG::The logistic regression predicted labels are::\")\n",
        "print(predicted_labels)"
      ],
      "metadata": {
        "colab": {
          "base_uri": "https://localhost:8080/"
        },
        "id": "ZvXUlEhfU9dx",
        "outputId": "a33dca50-77cd-4d75-a1e8-c924c18d5630"
      },
      "execution_count": 66,
      "outputs": [
        {
          "output_type": "stream",
          "name": "stdout",
          "text": [
            "DEBUG::The logistic regression predicted labels are::\n",
            "[0 1 0 1 0 1 1 0 0 0 1 0 1 0 1 1 1 1 1 1 0 1 0 0 1 0 1 0 1 0 0 0 0 1 1 0 1\n",
            " 1 1 1 1 1 0 1 1 0 0 1 0 0 0 0 0 1 1 1 1 1 1 1 0 0 0 1 1 1 1 1 1 1 1 1 1 1\n",
            " 1 1 1 1 0 0 1 1 1 1 1 0 1 0 1 0 1 0 0 1 1 0 1 1 1 1 0 0 1 0 1 1 0 1 1 0 1\n",
            " 0 1 1 1 1 1 1 1 0 0 0 1 0 1 0 1 0 0 1 1 1 1 0 1 1 1 1 0 0 1 0 1 1 1 0 1 0\n",
            " 1 0 0 1 0 0 0 0 0 1 0 1 0 0 1 0 1 1 1 1 0 1 0 0 0 1 1 0 1 1 0 0 1 1 1 0 1\n",
            " 0 1 1 0 1 0 1 1 1 0 0 1 1 0 0 0 1 0 0 1 1 0 1 0 0 1 0 1 0 0 0 1 1 1 1 1 0\n",
            " 1 1 1 1 1 1 1 0 0 1 1 1 1 1 0 1 0 1 0 0 0 1 0 1 1 1 1 0 1 0 1 1 0 0 0 1 1\n",
            " 0 0 0 0 0 0 1 1 0 1 1 0 0 1 0 1 0 0 0 0 0 1 1 1 0 1 0 1 1 1 1 0 0 0 0 0 1\n",
            " 0 1 1 1 1 0 0 1 0 0 0 1 0 1 1 1 0 1 0 1 0 1 0 1 1 1 1 0 1 1 1 0 0 1 1 1 0\n",
            " 1 0 1 1 0 0 0 1 1 1 1 0 1 0 1 0 0 1 0 1 0 0 0 1 1 1 0 0 1 1 1 1 1 1 1 0 1\n",
            " 0 1 0 1 0 0 0 1 1 1 1 0 1 1 0 1 0 0 0 1 0 0 0 1 0 1 1 0 1 0 0 0 1 1 1 1 0\n",
            " 1 1 0 0 1 0 1 0 1 1 0 0 1 0 0 0 1 1 1 0 0 1 0 0 0 1 0 0 1 1 0 1 0 0 0 0 0\n",
            " 1 1 1 0 0 1 0 0 1 0 1 1 1 0 1 1 1 1 0 1 0 1 1 1 0 1 0 0 0 1 0 1 0 1 0 0 0\n",
            " 0 1 0 1 1 1 1 1 1 1 1 1 1 1 0 1 0 0 0 0 1 0 0 1 0 0 1 0 1 1 1 0 1 0 0 1 0\n",
            " 0 1 1 0 1 1 0 1 1 1 1 1 0 0 1 1 1 0 1 0 1 0 1 1 0 0 1 0 0 1 1 1 0 0 0 1 1\n",
            " 1 1 0 0 1 1 0 0 0 0 1 1 1 1 1 1 0 1 0 1 0 1 0 1 0 1 0 1 1 1 1 1 1 1 1 0 1\n",
            " 0 1 0 1 1 1 1 1]\n"
          ]
        }
      ]
    },
    {
      "cell_type": "code",
      "source": [
        "acc_score = accuracy_score(test_y, predicted_labels)\n",
        "\n",
        "print(\"The logistic regression accuracy score is::\")\n",
        "print(acc_score)"
      ],
      "metadata": {
        "colab": {
          "base_uri": "https://localhost:8080/"
        },
        "id": "bCLvCsfPVBQK",
        "outputId": "179ad4f7-e2fe-4250-e871-c27e196603d6"
      },
      "execution_count": 67,
      "outputs": [
        {
          "output_type": "stream",
          "name": "stdout",
          "text": [
            "The logistic regression accuracy score is::\n",
            "0.755\n"
          ]
        }
      ]
    },
    {
      "cell_type": "markdown",
      "source": [
        "# Support Vector Machine Classifier"
      ],
      "metadata": {
        "id": "MHJjRJhSVOLa"
      }
    },
    {
      "cell_type": "code",
      "source": [
        "# Create a support vector classifier\n",
        "clf = SVC(C=1, gamma=\"auto\", kernel='linear',probability=False)\n",
        "\n",
        "# Fit the classifier using the training data\n",
        "start_time = time.time()\n",
        "clf.fit(train_x, train_y)\n",
        "end_time = time.time()\n",
        "print(\"Training the SVC Classifier took %3d seconds\"%(end_time-start_time))\n",
        "\n",
        "# test and evaluate\n",
        "predicted_labels = clf.predict(test_x)\n",
        "print(\"DEBUG::The SVC Classifier predicted labels are::\")\n",
        "print(predicted_labels)\n",
        "\n",
        "acc_score = accuracy_score(test_y, predicted_labels)\n",
        "print(\"The SVC Classifier testing accuracy score is::\")\n",
        "print(acc_score)"
      ],
      "metadata": {
        "colab": {
          "base_uri": "https://localhost:8080/"
        },
        "id": "kWAAR0LNVFk3",
        "outputId": "fa72a86b-321a-488b-8a3c-ee1752d7ed56"
      },
      "execution_count": 68,
      "outputs": [
        {
          "output_type": "stream",
          "name": "stdout",
          "text": [
            "Training the SVC Classifier took  17 seconds\n",
            "DEBUG::The SVC Classifier predicted labels are::\n",
            "[0 1 0 1 0 1 1 0 0 0 1 1 1 0 1 1 1 1 1 1 0 1 0 1 1 0 1 0 1 0 0 0 0 1 1 0 1\n",
            " 1 1 1 1 1 0 1 1 0 0 1 0 0 0 0 0 1 1 1 1 1 1 1 0 0 1 1 1 1 1 1 1 1 1 1 1 1\n",
            " 1 1 1 1 0 0 1 1 1 1 1 0 1 0 1 0 1 0 0 1 1 0 1 1 1 0 0 0 1 0 1 1 0 1 1 0 1\n",
            " 0 1 1 1 1 0 1 1 0 0 0 1 0 1 0 1 0 0 1 1 1 1 0 1 1 1 1 0 0 1 0 0 1 1 0 1 0\n",
            " 1 0 0 1 0 0 0 0 0 1 1 1 0 0 1 0 1 1 1 1 0 1 0 0 0 1 1 0 1 1 0 0 1 1 1 0 1\n",
            " 0 1 1 0 1 0 1 1 1 0 0 1 1 0 0 1 1 0 0 1 1 0 1 0 0 1 0 1 0 0 1 0 1 1 1 1 0\n",
            " 1 1 1 1 1 1 1 0 0 1 1 1 1 1 0 1 1 1 0 0 0 1 0 1 1 1 1 0 1 0 1 1 0 0 0 1 1\n",
            " 0 0 0 0 0 0 1 1 0 1 1 0 0 1 0 1 0 0 0 0 0 1 1 1 0 1 0 1 1 1 1 0 0 1 1 0 1\n",
            " 0 1 1 1 0 0 0 1 0 0 0 1 0 1 1 1 0 1 0 1 0 1 0 1 1 0 1 0 1 1 1 0 0 1 0 1 0\n",
            " 0 0 1 1 0 0 0 1 1 1 1 0 0 0 1 0 0 1 0 1 0 1 0 1 1 1 0 0 1 1 1 1 1 1 1 0 0\n",
            " 0 0 0 1 0 0 1 1 1 1 1 0 1 1 0 1 0 0 0 1 0 0 0 1 0 1 1 0 1 0 0 0 1 1 1 1 0\n",
            " 1 1 0 0 1 0 1 0 1 1 0 0 1 0 0 0 1 1 1 0 0 1 0 0 0 1 0 0 1 1 0 1 0 0 0 0 0\n",
            " 1 1 1 0 0 1 0 0 1 0 1 1 1 0 0 1 1 0 0 1 0 1 0 1 0 1 0 0 0 1 0 1 0 1 0 0 0\n",
            " 1 0 0 1 1 1 1 1 1 1 1 1 1 1 0 1 0 0 1 0 1 0 0 1 0 0 1 0 1 1 1 0 1 0 0 1 0\n",
            " 1 1 1 0 1 1 0 1 1 1 1 1 0 0 1 1 1 0 1 0 1 0 1 1 0 0 1 0 0 1 1 1 0 0 0 1 1\n",
            " 1 1 0 0 1 1 0 0 0 0 1 1 1 1 1 1 0 1 0 1 0 1 0 1 0 1 0 1 1 1 1 1 1 1 1 0 1\n",
            " 0 1 0 1 1 1 1 1]\n",
            "The SVC Classifier testing accuracy score is::\n",
            "0.7533333333333333\n"
          ]
        }
      ]
    },
    {
      "cell_type": "code",
      "source": [],
      "metadata": {
        "id": "GXWmkAAdVVN9"
      },
      "execution_count": null,
      "outputs": []
    }
  ]
}